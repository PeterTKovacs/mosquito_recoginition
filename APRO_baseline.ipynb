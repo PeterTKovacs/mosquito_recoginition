{
  "nbformat": 4,
  "nbformat_minor": 0,
  "metadata": {
    "colab": {
      "name": "APRO_baseline.ipynb",
      "provenance": [],
      "collapsed_sections": [],
      "mount_file_id": "1IvBk--BwvvRi5mDSTYHS2iE0uS4C-UR1",
      "authorship_tag": "ABX9TyOAC5acbjTUrFf6cSERYnK9",
      "include_colab_link": true
    },
    "kernelspec": {
      "name": "python3",
      "display_name": "Python 3"
    },
    "accelerator": "GPU"
  },
  "cells": [
    {
      "cell_type": "markdown",
      "metadata": {
        "id": "view-in-github",
        "colab_type": "text"
      },
      "source": [
        "<a href=\"https://colab.research.google.com/github/PeterTKovacs/mosquito_recoginition/blob/main/APRO_baseline.ipynb\" target=\"_parent\"><img src=\"https://colab.research.google.com/assets/colab-badge.svg\" alt=\"Open In Colab\"/></a>"
      ]
    },
    {
      "cell_type": "code",
      "metadata": {
        "id": "3yzkjbDcPSjY"
      },
      "source": [
        "from PIL import Image\n",
        "from pathlib import Path\n",
        "from tensorflow.keras.layers import Dense\n",
        "from tensorflow.keras.models import Model\n",
        "from tensorflow.keras.optimizers import Adam\n",
        "from tensorflow.keras.applications import ResNet50\n",
        "from tensorflow.keras.preprocessing.image import ImageDataGenerator\n",
        "import shutil\n",
        "import os\n",
        "from os.path import isfile, join\n",
        "import random\n",
        "\n",
        "import numpy as np\n",
        "import torch\n",
        "import torchvision\n",
        "\n",
        "from torchvision import transforms\n",
        "from tqdm import tqdm"
      ],
      "execution_count": 1,
      "outputs": []
    },
    {
      "cell_type": "code",
      "metadata": {
        "id": "wok6VHuiP_NA"
      },
      "source": [
        "class BaseLine:\n",
        "    def __init__(self,\n",
        "        input_images_path_ = 'drive/My Drive/AML2020/images',\n",
        "        csv_ = 'drive/My Drive/AML2020/train.csv',\n",
        "        input_path_ = 'drive/My Drive/AML2020',\n",
        "        train_path_ = 'drive/My Drive/AML2020/train4',\n",
        "        test_path_ = 'drive/My Drive/AML2020/test',\n",
        "        valid_path_ = 'drive/My Drive/AML2020/validation',\n",
        "                no_=4):\n",
        "        \n",
        "        import torch\n",
        "        import torchvision\n",
        "        \n",
        "        self.input_images_path = input_images_path_\n",
        "        self.csv = csv_\n",
        "        \n",
        "        self.input_path = input_path_\n",
        "        self.train_path = train_path_\n",
        "        self.test_path = test_path_\n",
        "        self.valid_path = valid_path_\n",
        "        self.no=no_\n",
        "\n",
        "\n",
        "    \n",
        "    def folder_generator(self):\n",
        "        import pandas as pd\n",
        "        import logging as log\n",
        "        import os\n",
        "        \n",
        "        csv_labels = pd.read_csv(self.csv)\n",
        "        \n",
        "        #images_paths = list(csv_labels['file'])\n",
        "        images_paths = csv_labels['file']\n",
        "        images_paths = [path.replace('images/', '') for path in images_paths]\n",
        "        \n",
        "        #images_labels = list(csv_labels['is_tiger'])\n",
        "        images_labels = csv_labels['is_tiger']\n",
        "        counter = 1\n",
        "        \n",
        "        tiger_path_train = os.path.join(self.train_path, 'tiger')\n",
        "        tiger1_path_train = os.path.join(self.train_path, 'tiger1')\n",
        "        tiger2_path_train = os.path.join(self.train_path, 'tiger2')\n",
        "        tiger3_path_train = os.path.join(self.train_path, 'tiger3')\n",
        "        tiger4_path_train = os.path.join(self.train_path, 'tiger4')\n",
        "        not_tiger_path_train = os.path.join(self.train_path, 'not_tiger')\n",
        "\n",
        "        \n",
        "        tiger_path_val = os.path.join(self.valid_path, 'tiger')\n",
        "        not_tiger_path_val = os.path.join(self.valid_path, 'not_tiger')\n",
        "        \n",
        "        test_unknown_path = os.path.join(self.test_path, 'unknown')\n",
        "        \n",
        "        os.mkdir(self.train_path)\n",
        "        os.mkdir(tiger_path_train)\n",
        "        os.mkdir(not_tiger_path_train)\n",
        "\n",
        "        os.mkdir(self.valid_path)\n",
        "        os.mkdir(tiger_path_val)\n",
        "        os.mkdir(not_tiger_path_val)\n",
        "        \n",
        "        os.mkdir(self.test_path)\n",
        "        os.mkdir(test_unknown_path)\n",
        "        \n",
        "        #Handling Train Images\n",
        "        print('###Handling Train Images')\n",
        "        for image_name, image_label in zip(images_paths, images_labels):\n",
        "            print('Copying image: {}, with label: {}'.format(image_name, image_label))    \n",
        "            if image_name.split('_')[0] == 'train' and counter % 5 != 0:\n",
        "                if image_label == 1:\n",
        "                    source_dir = os.path.join(self.input_images_path, image_name) \n",
        "                    dest_dir = os.path.join(tiger_path_train, image_name)\n",
        "                    shutil.copy(source_dir, dest_dir)\n",
        "                    counter += 1\n",
        "                    print('Copied image: {} to {}'.format(image_name, tiger_path_train))\n",
        "                else:\n",
        "                    source_dir = os.path.join(self.input_images_path, image_name) \n",
        "                    dest_dir = os.path.join(not_tiger_path_train, image_name)\n",
        "                    shutil.copy(source_dir, dest_dir)\n",
        "                    counter += 1\n",
        "                    print('Copied image: {} to {}'.format(image_name, not_tiger_path_train))\n",
        "            else:\n",
        "                if image_label == 1:\n",
        "                    source_dir = os.path.join(self.input_images_path, image_name) \n",
        "                    dest_dir = os.path.join(tiger_path_val, image_name)\n",
        "                    shutil.copy(source_dir, dest_dir)\n",
        "                    counter += 1\n",
        "                    print('Copied image: {} to {}'.format(image_name, tiger_path_val))\n",
        "                else:\n",
        "                    source_dir = os.path.join(self.input_images_path, image_name) \n",
        "                    dest_dir = os.path.join(not_tiger_path_val, image_name)\n",
        "                    shutil.copy(source_dir, dest_dir)\n",
        "                    counter += 1\n",
        "                    print('Copied image: {} to {}'.format(image_name, not_tiger_path_val))\n",
        "            \n",
        "    \n",
        "    def data_loader(self):\n",
        "        import torch\n",
        "        import torchvision\n",
        "        from torchvision import transforms\n",
        "        #ImageFolder\n",
        "        #Augementation for train and valid images\n",
        "        train_transforms = transforms.Compose([\n",
        "            transforms.RandomResizedCrop(224),\n",
        "            transforms.RandomHorizontalFlip(),\n",
        "            transforms.ToTensor(),\n",
        "            transforms.Normalize([0.485, 0.456, 0.406], [0.229, 0.224, 0.225])\n",
        "        ])\n",
        "\n",
        "        val_transforms = transforms.Compose([\n",
        "            transforms.Resize((224, 224)),\n",
        "            transforms.ToTensor(), \n",
        "            transforms.Normalize([0.485, 0.456, 0.406], [0.229, 0.224, 0.225])\n",
        "        ])\n",
        "\n",
        "        train_dataset = torchvision.datasets.ImageFolder(self.train_path, train_transforms)\n",
        "        #train_dataset = torchvision.datasets.ImageFolder(train_data, train_transforms)\n",
        "        validation_dataset = torchvision.datasets.ImageFolder(self.valid_path, val_transforms)\n",
        "        \n",
        "        #DataLoader\n",
        "        batch_size = 16\n",
        "        train_dataloader = torch.utils.data.DataLoader(\n",
        "            train_dataset, batch_size=batch_size, shuffle=True, num_workers=batch_size\n",
        "        )\n",
        "\n",
        "        validation_dataloader = torch.utils.data.DataLoader(\n",
        "            validation_dataset, batch_size=batch_size, shuffle=True, num_workers=batch_size\n",
        "        )\n",
        "        print(len(train_dataset), len(validation_dataset))\n",
        "        print(len(train_dataloader), len(validation_dataloader))\n",
        "        return train_dataloader, validation_dataloader\n",
        "    \n",
        "    def show_images(self, train_dataloader):\n",
        "        import numpy as np\n",
        "        import matplotlib.pyplot as plt\n",
        "        X_batch, y_batch = next(iter(train_dataloader))\n",
        "        mean = np.array([0.485, 0.456, 0.406])\n",
        "        std = np.array([[0.229, 0.224, 0.225]])\n",
        "        for index in range(5):\n",
        "            plt.title(y_batch[index])\n",
        "            plt.imshow(X_batch[index].permute(1,2,0).numpy() * std + mean, )\n",
        "            plt.show()\n",
        "    \n",
        "    def model(self):\n",
        "        from torchvision import models\n",
        "        import torch\n",
        "        model = models.resnet152(pretrained=True)\n",
        "        \n",
        "        \n",
        "        #Disable grad for all conv layers\n",
        "        for param in model.parameters():\n",
        "            param.requires_grad = False \n",
        "\n",
        "        model.fc = torch.nn.Linear(model.fc.in_features, 2)\n",
        "        device = torch.device('cuda:0' if torch.cuda.is_available() else 'cpu')\n",
        "        model.to(device)\n",
        "        loss = torch.nn.CrossEntropyLoss()\n",
        "        optimizer = torch.optim.Adam(model.parameters(),amsgrad=True, lr=3.0e-4)\n",
        "       \n",
        "        \n",
        "        #Declay LR by a factor of 0.1 every 5th epoch\n",
        "        scheduler = torch.optim.lr_scheduler.StepLR(optimizer, step_size = 5, gamma = 0.4)\n",
        "        return model, loss, optimizer, scheduler, device\n",
        "    \n",
        "    def train_model(self, model, loss, optimizer, scheduler, train, validation, device, num_epochs):\n",
        "        import torch\n",
        "        from tqdm import tqdm\n",
        "\n",
        "        best_accuracy=-1\n",
        "        best_path='best'+str(self.no)+'.pth'\n",
        "\n",
        "        for epoch in range(num_epochs):\n",
        "            print('Epoch {}/{}:'.format(epoch, num_epochs - 1), flush=True)\n",
        "\n",
        "            # Each epoch has a training and validation phase\n",
        "            for phase in ['train', 'val']:\n",
        "                if phase == 'train':\n",
        "                    dataloader = train\n",
        "                    scheduler.step()\n",
        "                    \n",
        "                    model.train()  # Set model to training mode\n",
        "                else:\n",
        "                    dataloader = validation\n",
        "                    model.eval()   # Set model to evaluate mode\n",
        "\n",
        "                running_loss = 0.\n",
        "                running_acc = 0.\n",
        "                running_acc_tiger = 0.\n",
        "                running_acc_not_tiger = 0.\n",
        "\n",
        "                # Iterate over data.\n",
        "                for inputs, labels in tqdm(dataloader):\n",
        "                    inputs = inputs.to(device)\n",
        "                    labels = labels.to(device)\n",
        "\n",
        "                    optimizer.zero_grad()\n",
        "\n",
        "                    # forward and backward\n",
        "                    with torch.set_grad_enabled(phase == 'train'):\n",
        "                        preds = model(inputs)\n",
        "                        loss_value = loss(preds, labels)\n",
        "                        preds_class = preds.argmax(dim=1)\n",
        "\n",
        "                        # backward + optimize only if in training phase\n",
        "                        if phase == 'train':\n",
        "                            loss_value.backward()\n",
        "                            optimizer.step()\n",
        "\n",
        "                    # statistics\n",
        "                    running_loss += loss_value.item()\n",
        "                    running_acc += (preds_class == labels.data).float().mean()\n",
        "                    running_acc_tiger += (preds_class == 1).float().mean()\n",
        "                    running_acc_not_tiger += (preds_class == 0).float().mean()\n",
        "\n",
        "                epoch_loss = running_loss / len(dataloader)\n",
        "                epoch_acc = running_acc / len(dataloader)\n",
        "                epoch_acc_tiger = running_acc_tiger / len(dataloader)\n",
        "                epoch_acc_not_tiger = running_acc_not_tiger / len(dataloader)\n",
        "\n",
        "\n",
        "\n",
        "                print('{} Loss: {:.4f} Acc: {:.4f} Tiger Acc: {:.4f} Not Tiger Acc: {:.4f}'.format(phase, epoch_loss, epoch_acc, epoch_acc_tiger, epoch_acc_not_tiger), flush=True)\n",
        "\n",
        "                if epoch_acc>best_accuracy and phase=='val' :\n",
        "                    \n",
        "                    self.create_checkpoint(model,optimizer,best_path,epoch,loss_value)\n",
        "                    best_accuracy=epoch_acc\n",
        "        \n",
        "        \n",
        "        self.load_from_checkpoint(model,optimizer,best_path)\n",
        "\n",
        "        return model\n",
        "\n",
        "    def create_checkpoint(self,model,optimizer,path,epoch,loss):\n",
        "        \n",
        "        # basically copied from the tutorial, \n",
        "        # https://pytorch.org/tutorials/recipes/recipes/saving_and_loading_a_general_checkpoint.html\n",
        "\n",
        "        torch.save({\n",
        "              'epoch': epoch,\n",
        "              'model_state_dict': model.state_dict(),\n",
        "              'optimizer_state_dict': optimizer.state_dict(),\n",
        "              'loss': loss,\n",
        "              }, path)\n",
        "        \n",
        "    def load_from_checkpoint(self,model,optimizer,path):\n",
        "        \n",
        "        # basically copied from the tutorial, \n",
        "        # https://pytorch.org/tutorials/recipes/recipes/saving_and_loading_a_general_checkpoint.html\n",
        "        \n",
        "        checkpoint = torch.load(path)\n",
        "        model.load_state_dict(checkpoint['model_state_dict'])\n",
        "        optimizer.load_state_dict(checkpoint['optimizer_state_dict'])\n",
        "\n",
        "        print('reloading best model of epoch %d, loss %f'%(checkpoint['epoch'],checkpoint['loss']))\n",
        "\n",
        "    \n",
        "    def run(self,num_ep=10):\n",
        "        #Processing data\n",
        "        #Job = BaseLine()\n",
        "        #Job.folder_generator()\n",
        "        #train_dataloader, validation_dataloader = Job.data_loader('drive/My Drive/AML2020/train0')\n",
        "        #train_dataloader1, validation_dataloader1 = Job.data_loader('drive/My Drive/AML2020/train1')\n",
        "        #train_dataloader2, validation_dataloader2 = Job.data_loader('drive/My Drive/AML2020/train2')\n",
        "        #train_dataloader3, validation_dataloader3 = Job.data_loader('drive/My Drive/AML2020/train3')\n",
        "        #train_dataloader4, validation_dataloader4 = Job.data_loader('drive/My Drive/AML2020/train4')\n",
        "        #Job.show_images(train_dataloader)\n",
        "        \n",
        "        #Define model\n",
        "        #model, loss, optimizer, scheduler, device = Job.model()\n",
        "        #print(model, loss, optimizer, scheduler)\n",
        "        #Train model \n",
        "        #trained_model = Job.train_model(model, loss, optimizer, scheduler, train_dataloader, validation_dataloader, device, num_epochs=num_ep)\n",
        "        #trained_model1 = Job.train_model(model, loss, optimizer, scheduler, train_dataloader1, validation_dataloader1, device, num_epochs=num_ep)\n",
        "        #trained_model2 = Job.train_model(model, loss, optimizer, scheduler, train_dataloader2, validation_dataloader2, device, num_epochs=num_ep)\n",
        "        #trained_model3 = Job.train_model(model, loss, optimizer, scheduler, train_dataloader3, validation_dataloader3, device, num_epochs=num_ep)\n",
        "        #trained_model4 = Job.train_model(model, loss, optimizer, scheduler, train_dataloader4, validation_dataloader4, device, num_epochs=num_ep)\n",
        "        #return trained_model, trained_model1, trained_model2, trained_model3, trained_model4\n",
        "        #return trained_model\n",
        "\n",
        "\n",
        "\n",
        "        train_dataloader, validation_dataloader = self.data_loader()\n",
        "        \n",
        "        #Define model\n",
        "        \n",
        "        model, loss, optimizer, scheduler, device = self.model()\n",
        "\n",
        "        #Train model \n",
        "        \n",
        "        trained_model = self.train_model(model, loss, optimizer, scheduler, train_dataloader, validation_dataloader,\n",
        "                                         device, num_epochs=num_ep)\n",
        "        return trained_model"
      ],
      "execution_count": 10,
      "outputs": []
    },
    {
      "cell_type": "code",
      "metadata": {
        "id": "bg57S9lzQmLw",
        "colab": {
          "base_uri": "https://localhost:8080/"
        },
        "outputId": "c4eb791f-1b71-4f95-8d2e-8bfce9236262"
      },
      "source": [
        "model = BaseLine().run()"
      ],
      "execution_count": 11,
      "outputs": [
        {
          "output_type": "stream",
          "text": [
            "1132 855\n",
            "71 54\n",
            "Epoch 0/9:\n"
          ],
          "name": "stdout"
        },
        {
          "output_type": "stream",
          "text": [
            "/usr/local/lib/python3.6/dist-packages/torch/optim/lr_scheduler.py:136: UserWarning: Detected call of `lr_scheduler.step()` before `optimizer.step()`. In PyTorch 1.1.0 and later, you should call them in the opposite order: `optimizer.step()` before `lr_scheduler.step()`.  Failure to do this will result in PyTorch skipping the first value of the learning rate schedule. See more details at https://pytorch.org/docs/stable/optim.html#how-to-adjust-learning-rate\n",
            "  \"https://pytorch.org/docs/stable/optim.html#how-to-adjust-learning-rate\", UserWarning)\n",
            "100%|██████████| 71/71 [00:58<00:00,  1.21it/s]"
          ],
          "name": "stderr"
        },
        {
          "output_type": "stream",
          "text": [
            "train Loss: 0.6156 Acc: 0.6831 Tiger Acc: 0.5062 Not Tiger Acc: 0.4938\n"
          ],
          "name": "stdout"
        },
        {
          "output_type": "stream",
          "text": [
            "\n",
            "100%|██████████| 54/54 [00:18<00:00,  2.92it/s]"
          ],
          "name": "stderr"
        },
        {
          "output_type": "stream",
          "text": [
            "val Loss: 0.5766 Acc: 0.7108 Tiger Acc: 0.6081 Not Tiger Acc: 0.3919\n"
          ],
          "name": "stdout"
        },
        {
          "output_type": "stream",
          "text": [
            "\n"
          ],
          "name": "stderr"
        },
        {
          "output_type": "stream",
          "text": [
            "Epoch 1/9:\n"
          ],
          "name": "stdout"
        },
        {
          "output_type": "stream",
          "text": [
            "100%|██████████| 71/71 [00:25<00:00,  2.79it/s]"
          ],
          "name": "stderr"
        },
        {
          "output_type": "stream",
          "text": [
            "train Loss: 0.5166 Acc: 0.7755 Tiger Acc: 0.4886 Not Tiger Acc: 0.5114\n"
          ],
          "name": "stdout"
        },
        {
          "output_type": "stream",
          "text": [
            "\n",
            "100%|██████████| 54/54 [00:18<00:00,  2.90it/s]"
          ],
          "name": "stderr"
        },
        {
          "output_type": "stream",
          "text": [
            "val Loss: 0.5053 Acc: 0.7667 Tiger Acc: 0.6564 Not Tiger Acc: 0.3436\n"
          ],
          "name": "stdout"
        },
        {
          "output_type": "stream",
          "text": [
            "\n"
          ],
          "name": "stderr"
        },
        {
          "output_type": "stream",
          "text": [
            "Epoch 2/9:\n"
          ],
          "name": "stdout"
        },
        {
          "output_type": "stream",
          "text": [
            "100%|██████████| 71/71 [00:25<00:00,  2.82it/s]"
          ],
          "name": "stderr"
        },
        {
          "output_type": "stream",
          "text": [
            "train Loss: 0.4756 Acc: 0.7952 Tiger Acc: 0.5000 Not Tiger Acc: 0.5000\n"
          ],
          "name": "stdout"
        },
        {
          "output_type": "stream",
          "text": [
            "\n",
            "100%|██████████| 54/54 [00:18<00:00,  2.89it/s]"
          ],
          "name": "stderr"
        },
        {
          "output_type": "stream",
          "text": [
            "val Loss: 0.3986 Acc: 0.8391 Tiger Acc: 0.7497 Not Tiger Acc: 0.2503\n"
          ],
          "name": "stdout"
        },
        {
          "output_type": "stream",
          "text": [
            "\n"
          ],
          "name": "stderr"
        },
        {
          "output_type": "stream",
          "text": [
            "Epoch 3/9:\n"
          ],
          "name": "stdout"
        },
        {
          "output_type": "stream",
          "text": [
            "100%|██████████| 71/71 [00:25<00:00,  2.80it/s]"
          ],
          "name": "stderr"
        },
        {
          "output_type": "stream",
          "text": [
            "train Loss: 0.4435 Acc: 0.8216 Tiger Acc: 0.5065 Not Tiger Acc: 0.4935\n"
          ],
          "name": "stdout"
        },
        {
          "output_type": "stream",
          "text": [
            "\n",
            "100%|██████████| 54/54 [00:18<00:00,  2.86it/s]"
          ],
          "name": "stderr"
        },
        {
          "output_type": "stream",
          "text": [
            "val Loss: 0.3050 Acc: 0.8839 Tiger Acc: 0.8307 Not Tiger Acc: 0.1693\n"
          ],
          "name": "stdout"
        },
        {
          "output_type": "stream",
          "text": [
            "\n"
          ],
          "name": "stderr"
        },
        {
          "output_type": "stream",
          "text": [
            "Epoch 4/9:\n"
          ],
          "name": "stdout"
        },
        {
          "output_type": "stream",
          "text": [
            "100%|██████████| 71/71 [00:25<00:00,  2.76it/s]"
          ],
          "name": "stderr"
        },
        {
          "output_type": "stream",
          "text": [
            "train Loss: 0.4327 Acc: 0.8242 Tiger Acc: 0.5062 Not Tiger Acc: 0.4938\n"
          ],
          "name": "stdout"
        },
        {
          "output_type": "stream",
          "text": [
            "\n",
            "100%|██████████| 54/54 [00:18<00:00,  2.93it/s]"
          ],
          "name": "stderr"
        },
        {
          "output_type": "stream",
          "text": [
            "val Loss: 0.4037 Acc: 0.8376 Tiger Acc: 0.7227 Not Tiger Acc: 0.2773\n",
            "Epoch 5/9:\n"
          ],
          "name": "stdout"
        },
        {
          "output_type": "stream",
          "text": [
            "\n",
            "100%|██████████| 71/71 [00:25<00:00,  2.79it/s]"
          ],
          "name": "stderr"
        },
        {
          "output_type": "stream",
          "text": [
            "train Loss: 0.4149 Acc: 0.8260 Tiger Acc: 0.4827 Not Tiger Acc: 0.5173\n"
          ],
          "name": "stdout"
        },
        {
          "output_type": "stream",
          "text": [
            "\n",
            "100%|██████████| 54/54 [00:18<00:00,  2.92it/s]"
          ],
          "name": "stderr"
        },
        {
          "output_type": "stream",
          "text": [
            "val Loss: 0.3421 Acc: 0.8585 Tiger Acc: 0.7806 Not Tiger Acc: 0.2194\n",
            "Epoch 6/9:\n"
          ],
          "name": "stdout"
        },
        {
          "output_type": "stream",
          "text": [
            "\n",
            "100%|██████████| 71/71 [00:25<00:00,  2.80it/s]"
          ],
          "name": "stderr"
        },
        {
          "output_type": "stream",
          "text": [
            "train Loss: 0.4259 Acc: 0.8154 Tiger Acc: 0.4924 Not Tiger Acc: 0.5076\n"
          ],
          "name": "stdout"
        },
        {
          "output_type": "stream",
          "text": [
            "\n",
            "100%|██████████| 54/54 [00:18<00:00,  2.90it/s]"
          ],
          "name": "stderr"
        },
        {
          "output_type": "stream",
          "text": [
            "val Loss: 0.3164 Acc: 0.8715 Tiger Acc: 0.7951 Not Tiger Acc: 0.2049\n",
            "Epoch 7/9:\n"
          ],
          "name": "stdout"
        },
        {
          "output_type": "stream",
          "text": [
            "\n",
            "100%|██████████| 71/71 [00:25<00:00,  2.78it/s]"
          ],
          "name": "stderr"
        },
        {
          "output_type": "stream",
          "text": [
            "train Loss: 0.4214 Acc: 0.8046 Tiger Acc: 0.5270 Not Tiger Acc: 0.4730\n"
          ],
          "name": "stdout"
        },
        {
          "output_type": "stream",
          "text": [
            "\n",
            "100%|██████████| 54/54 [00:18<00:00,  2.90it/s]"
          ],
          "name": "stderr"
        },
        {
          "output_type": "stream",
          "text": [
            "val Loss: 0.4156 Acc: 0.8133 Tiger Acc: 0.6900 Not Tiger Acc: 0.3100\n",
            "Epoch 8/9:\n"
          ],
          "name": "stdout"
        },
        {
          "output_type": "stream",
          "text": [
            "\n",
            "100%|██████████| 71/71 [00:25<00:00,  2.77it/s]"
          ],
          "name": "stderr"
        },
        {
          "output_type": "stream",
          "text": [
            "train Loss: 0.4051 Acc: 0.8072 Tiger Acc: 0.4792 Not Tiger Acc: 0.5208\n"
          ],
          "name": "stdout"
        },
        {
          "output_type": "stream",
          "text": [
            "\n",
            "100%|██████████| 54/54 [00:18<00:00,  2.86it/s]"
          ],
          "name": "stderr"
        },
        {
          "output_type": "stream",
          "text": [
            "val Loss: 0.2849 Acc: 0.8839 Tiger Acc: 0.8153 Not Tiger Acc: 0.1847\n",
            "Epoch 9/9:\n"
          ],
          "name": "stdout"
        },
        {
          "output_type": "stream",
          "text": [
            "\n",
            "100%|██████████| 71/71 [00:25<00:00,  2.81it/s]"
          ],
          "name": "stderr"
        },
        {
          "output_type": "stream",
          "text": [
            "train Loss: 0.4103 Acc: 0.8257 Tiger Acc: 0.5103 Not Tiger Acc: 0.4897\n"
          ],
          "name": "stdout"
        },
        {
          "output_type": "stream",
          "text": [
            "\n",
            "100%|██████████| 54/54 [00:18<00:00,  2.92it/s]"
          ],
          "name": "stderr"
        },
        {
          "output_type": "stream",
          "text": [
            "val Loss: 0.3590 Acc: 0.8449 Tiger Acc: 0.7384 Not Tiger Acc: 0.2616\n"
          ],
          "name": "stdout"
        },
        {
          "output_type": "stream",
          "text": [
            "\n"
          ],
          "name": "stderr"
        },
        {
          "output_type": "stream",
          "text": [
            "reloading best model of epoch 3, loss 0.307121\n"
          ],
          "name": "stdout"
        }
      ]
    },
    {
      "cell_type": "code",
      "metadata": {
        "id": "fw0XqoqKJ78P"
      },
      "source": [
        "def model_(n,basedir='drive/My Drive/AML2020/'):\n",
        "    \n",
        "    \n",
        "    \n",
        "    model=BaseLine(\n",
        "    train_path_=os.path.join(basedir,'train'+str(n)),\n",
        "    valid_path_=os.path.join(basedir,'validation'),\n",
        "    test_path_=os.path.join(basedir,'test'),\n",
        "    no_=n)\n",
        "    \n",
        "    return model"
      ],
      "execution_count": 12,
      "outputs": []
    },
    {
      "cell_type": "code",
      "metadata": {
        "colab": {
          "base_uri": "https://localhost:8080/"
        },
        "id": "YxBn4sbRKuc_",
        "outputId": "a82aac92-4191-4b1c-9743-8847d2e600f8"
      },
      "source": [
        "models={}\n",
        "for i in range(5):\n",
        "    m=model_(i)\n",
        "    trained_m=m.run(num_ep=0)\n",
        "    models[i]=trained_m"
      ],
      "execution_count": 13,
      "outputs": [
        {
          "output_type": "stream",
          "text": [
            "1136 855\n",
            "71 54\n",
            "reloading best model of epoch 1, loss 0.385012\n",
            "1132 855\n",
            "71 54\n",
            "reloading best model of epoch 7, loss 0.528256\n",
            "1132 855\n",
            "71 54\n",
            "reloading best model of epoch 2, loss 0.369209\n",
            "1132 855\n",
            "71 54\n",
            "reloading best model of epoch 0, loss 0.374374\n",
            "1132 855\n",
            "71 54\n",
            "reloading best model of epoch 3, loss 0.307121\n"
          ],
          "name": "stdout"
        }
      ]
    },
    {
      "cell_type": "code",
      "metadata": {
        "id": "B2z5ixf4H6oD"
      },
      "source": [
        "import pandas as pd\n",
        "import pickle\n",
        "\n",
        "def softmax(tensor):\n",
        "    \n",
        "    z=np.sum(np.exp(np.asarray(tensor)))\n",
        "    \n",
        "    return np.exp(np.asarray(tensor))/z\n",
        "\n",
        "\n",
        "def confidency(preds):\n",
        "    \n",
        "    confidencies=[]\n",
        "    \n",
        "    for pic in range(preds.shape[0]):\n",
        "        \n",
        "        confidencies.append(softmax(preds[pic,:])[1]) # guess that this is the tiger probability\n",
        "        \n",
        "    return confidencies"
      ],
      "execution_count": 14,
      "outputs": []
    },
    {
      "cell_type": "code",
      "metadata": {
        "id": "47rh7_nuIJZm"
      },
      "source": [
        "#test_tiger_names_all=os.listdir('drive/My Drive/AML2020/validation/tiger')\n",
        "test_other_names=os.listdir('drive/My Drive/AML2020/validation/not_tiger')\n",
        "test_tiger_names=random.sample(os.listdir('drive/My Drive/AML2020/validation/tiger'),len(test_other_names))\n",
        "\n",
        "batch_size=10\n",
        "counter=0\n",
        "to_batch=[]\n",
        "results={}\n",
        "\n",
        "val_transforms = transforms.Compose([\n",
        "            transforms.Resize((224, 224)),\n",
        "            transforms.ToTensor(), \n",
        "            transforms.Normalize([0.485, 0.456, 0.406], [0.229, 0.224, 0.225])\n",
        "        ])\n",
        "\n",
        "for id_,model in models.items():\n",
        "    results[id_]={}\n",
        "    model.eval()\n",
        "\n",
        "for pic in test_other_names:\n",
        "    to_batch.append((pic,val_transforms(Image.open('drive/My Drive/AML2020/validation/not_tiger/'+pic))))\n",
        "    counter+=1\n",
        "    \n",
        "    if counter==batch_size:\n",
        "        \n",
        "        batch=torch.cat([(item[1].reshape(-1,3,224,224)).cuda() for item in to_batch ])\n",
        "        \n",
        "        for id_,model in models.items():\n",
        "            \n",
        "            conf=confidency(model(batch).cpu().detach().numpy())\n",
        "            \n",
        "            for idx,item in enumerate(to_batch):\n",
        "            \n",
        "                results[id_][item[0]]=conf[idx]\n",
        "                \n",
        "        counter=0\n",
        "        to_batch=[]\n",
        "        \n",
        "for pic in test_tiger_names:\n",
        "    to_batch.append((pic,val_transforms(Image.open('drive/My Drive/AML2020/validation/tiger/'+pic).convert('RGB'))))\n",
        "    counter+=1\n",
        "    \n",
        "    if counter==batch_size:\n",
        "        \n",
        "        batch=torch.cat([(item[1].reshape(-1,3,224,224)).cuda() for item in to_batch ])\n",
        "        \n",
        "        for id_,model in models.items():\n",
        "            \n",
        "            conf=confidency(model(batch).cpu().detach().numpy())\n",
        "            \n",
        "            for idx,item in enumerate(to_batch):\n",
        "            \n",
        "                results[id_][item[0]]=conf[idx]\n",
        "                \n",
        "        counter=0\n",
        "        to_batch=[]\n",
        "    \n",
        "            \n",
        "if len(to_batch)>0: #some pics remained unevaluated\n",
        "    \n",
        "    batch=torch.cat([(item[1].reshape(-1,3,224,224)).cuda() for item in to_batch ])\n",
        "        \n",
        "    for id_,model in models.items():\n",
        "\n",
        "        conf=confidency(model(batch).cpu().detach().numpy())\n",
        "\n",
        "        for idx,item in enumerate(to_batch):\n",
        "\n",
        "            results[id_][item[0]]=conf[idx]\n",
        "\n",
        "    counter=0\n",
        "    to_batch=[]"
      ],
      "execution_count": 15,
      "outputs": []
    },
    {
      "cell_type": "code",
      "metadata": {
        "id": "xLDANh6VyTej"
      },
      "source": [
        "f=open('results_dictionary.txt','wb')\n"
      ],
      "execution_count": null,
      "outputs": []
    },
    {
      "cell_type": "code",
      "metadata": {
        "id": "HBn6N29xz16x"
      },
      "source": [
        "pickle.dump(results,f)"
      ],
      "execution_count": null,
      "outputs": []
    },
    {
      "cell_type": "code",
      "metadata": {
        "id": "5Wc_MiJ7z2OD"
      },
      "source": [
        "import copy"
      ],
      "execution_count": 16,
      "outputs": []
    },
    {
      "cell_type": "code",
      "metadata": {
        "id": "JO0VDYAL0o8b"
      },
      "source": [
        "rr=copy.deepcopy(results)"
      ],
      "execution_count": 17,
      "outputs": []
    },
    {
      "cell_type": "code",
      "metadata": {
        "id": "xChE6Ebr0uap"
      },
      "source": [
        "for idx,model in models.items():\n",
        "    for key,value in rr[idx].items():\n",
        "        rr[idx][key]=list([value,])"
      ],
      "execution_count": 18,
      "outputs": []
    },
    {
      "cell_type": "code",
      "metadata": {
        "colab": {
          "base_uri": "https://localhost:8080/",
          "height": 129
        },
        "id": "ZlIrjwXw03fM",
        "outputId": "5064ad8d-e160-4071-f366-c4d538622db7"
      },
      "source": [
        "pd.DataFrame.from_dict(rr[0])"
      ],
      "execution_count": 19,
      "outputs": [
        {
          "output_type": "execute_result",
          "data": {
            "text/html": [
              "<div>\n",
              "<style scoped>\n",
              "    .dataframe tbody tr th:only-of-type {\n",
              "        vertical-align: middle;\n",
              "    }\n",
              "\n",
              "    .dataframe tbody tr th {\n",
              "        vertical-align: top;\n",
              "    }\n",
              "\n",
              "    .dataframe thead th {\n",
              "        text-align: right;\n",
              "    }\n",
              "</style>\n",
              "<table border=\"1\" class=\"dataframe\">\n",
              "  <thead>\n",
              "    <tr style=\"text-align: right;\">\n",
              "      <th></th>\n",
              "      <th>train_14.png</th>\n",
              "      <th>train_24.png</th>\n",
              "      <th>train_49.png</th>\n",
              "      <th>train_104.png</th>\n",
              "      <th>train_199.png</th>\n",
              "      <th>train_244.png</th>\n",
              "      <th>train_249.png</th>\n",
              "      <th>train_314.png</th>\n",
              "      <th>train_364.png</th>\n",
              "      <th>train_384.png</th>\n",
              "      <th>train_394.png</th>\n",
              "      <th>train_424.png</th>\n",
              "      <th>train_474.png</th>\n",
              "      <th>train_479.png</th>\n",
              "      <th>train_529.png</th>\n",
              "      <th>train_534.png</th>\n",
              "      <th>train_539.png</th>\n",
              "      <th>train_659.png</th>\n",
              "      <th>train_719.png</th>\n",
              "      <th>train_724.png</th>\n",
              "      <th>train_789.png</th>\n",
              "      <th>train_834.png</th>\n",
              "      <th>train_869.png</th>\n",
              "      <th>train_1004.png</th>\n",
              "      <th>train_1029.png</th>\n",
              "      <th>train_1034.png</th>\n",
              "      <th>train_1079.png</th>\n",
              "      <th>train_1084.png</th>\n",
              "      <th>train_1109.png</th>\n",
              "      <th>train_1124.png</th>\n",
              "      <th>train_1134.png</th>\n",
              "      <th>train_1139.png</th>\n",
              "      <th>train_1149.png</th>\n",
              "      <th>train_1179.png</th>\n",
              "      <th>train_1189.png</th>\n",
              "      <th>train_1229.png</th>\n",
              "      <th>train_1294.png</th>\n",
              "      <th>train_1299.png</th>\n",
              "      <th>train_1309.png</th>\n",
              "      <th>train_1339.png</th>\n",
              "      <th>...</th>\n",
              "      <th>train_419.png</th>\n",
              "      <th>train_2594.png</th>\n",
              "      <th>train_2889.png</th>\n",
              "      <th>train_2009.png</th>\n",
              "      <th>train_2384.png</th>\n",
              "      <th>train_1784.png</th>\n",
              "      <th>train_1424.png</th>\n",
              "      <th>train_4164.png</th>\n",
              "      <th>train_2369.png</th>\n",
              "      <th>train_2499.png</th>\n",
              "      <th>train_1819.png</th>\n",
              "      <th>train_2164.png</th>\n",
              "      <th>train_3914.png</th>\n",
              "      <th>train_1744.png</th>\n",
              "      <th>train_1944.png</th>\n",
              "      <th>train_2374.png</th>\n",
              "      <th>train_2729.png</th>\n",
              "      <th>train_4194.png</th>\n",
              "      <th>train_769.png</th>\n",
              "      <th>train_1369.png</th>\n",
              "      <th>train_2554.png</th>\n",
              "      <th>train_3554.png</th>\n",
              "      <th>train_509.png</th>\n",
              "      <th>train_574.png</th>\n",
              "      <th>train_2179.png</th>\n",
              "      <th>train_674.png</th>\n",
              "      <th>train_969.png</th>\n",
              "      <th>train_1409.png</th>\n",
              "      <th>train_64.png</th>\n",
              "      <th>train_2719.png</th>\n",
              "      <th>train_1874.png</th>\n",
              "      <th>train_1909.png</th>\n",
              "      <th>train_3864.png</th>\n",
              "      <th>train_2969.png</th>\n",
              "      <th>train_159.png</th>\n",
              "      <th>train_1484.png</th>\n",
              "      <th>train_2894.png</th>\n",
              "      <th>train_359.png</th>\n",
              "      <th>train_3154.png</th>\n",
              "      <th>train_2909.png</th>\n",
              "    </tr>\n",
              "  </thead>\n",
              "  <tbody>\n",
              "    <tr>\n",
              "      <th>0</th>\n",
              "      <td>0.189143</td>\n",
              "      <td>0.279337</td>\n",
              "      <td>0.455895</td>\n",
              "      <td>0.650482</td>\n",
              "      <td>0.465951</td>\n",
              "      <td>0.274022</td>\n",
              "      <td>0.379819</td>\n",
              "      <td>0.729659</td>\n",
              "      <td>0.140439</td>\n",
              "      <td>0.28403</td>\n",
              "      <td>0.493719</td>\n",
              "      <td>0.665896</td>\n",
              "      <td>0.642337</td>\n",
              "      <td>0.625529</td>\n",
              "      <td>0.68902</td>\n",
              "      <td>0.369867</td>\n",
              "      <td>0.501832</td>\n",
              "      <td>0.375649</td>\n",
              "      <td>0.463684</td>\n",
              "      <td>0.522873</td>\n",
              "      <td>0.343321</td>\n",
              "      <td>0.534873</td>\n",
              "      <td>0.50459</td>\n",
              "      <td>0.504433</td>\n",
              "      <td>0.308487</td>\n",
              "      <td>0.441234</td>\n",
              "      <td>0.528905</td>\n",
              "      <td>0.564786</td>\n",
              "      <td>0.305978</td>\n",
              "      <td>0.372671</td>\n",
              "      <td>0.458445</td>\n",
              "      <td>0.366354</td>\n",
              "      <td>0.452228</td>\n",
              "      <td>0.319716</td>\n",
              "      <td>0.229278</td>\n",
              "      <td>0.757434</td>\n",
              "      <td>0.670347</td>\n",
              "      <td>0.809825</td>\n",
              "      <td>0.401043</td>\n",
              "      <td>0.811382</td>\n",
              "      <td>...</td>\n",
              "      <td>0.761076</td>\n",
              "      <td>0.658235</td>\n",
              "      <td>0.839415</td>\n",
              "      <td>0.417385</td>\n",
              "      <td>0.914986</td>\n",
              "      <td>0.687928</td>\n",
              "      <td>0.835009</td>\n",
              "      <td>0.732634</td>\n",
              "      <td>0.811377</td>\n",
              "      <td>0.755546</td>\n",
              "      <td>0.907806</td>\n",
              "      <td>0.797726</td>\n",
              "      <td>0.766613</td>\n",
              "      <td>0.762845</td>\n",
              "      <td>0.529694</td>\n",
              "      <td>0.881309</td>\n",
              "      <td>0.705178</td>\n",
              "      <td>0.852846</td>\n",
              "      <td>0.883161</td>\n",
              "      <td>0.850191</td>\n",
              "      <td>0.632148</td>\n",
              "      <td>0.85153</td>\n",
              "      <td>0.846878</td>\n",
              "      <td>0.596783</td>\n",
              "      <td>0.850114</td>\n",
              "      <td>0.70046</td>\n",
              "      <td>0.680678</td>\n",
              "      <td>0.862493</td>\n",
              "      <td>0.760404</td>\n",
              "      <td>0.696841</td>\n",
              "      <td>0.836076</td>\n",
              "      <td>0.836686</td>\n",
              "      <td>0.904015</td>\n",
              "      <td>0.932739</td>\n",
              "      <td>0.473777</td>\n",
              "      <td>0.708686</td>\n",
              "      <td>0.8034</td>\n",
              "      <td>0.778499</td>\n",
              "      <td>0.579354</td>\n",
              "      <td>0.477903</td>\n",
              "    </tr>\n",
              "  </tbody>\n",
              "</table>\n",
              "<p>1 rows × 272 columns</p>\n",
              "</div>"
            ],
            "text/plain": [
              "   train_14.png  train_24.png  ...  train_3154.png  train_2909.png\n",
              "0      0.189143      0.279337  ...        0.579354        0.477903\n",
              "\n",
              "[1 rows x 272 columns]"
            ]
          },
          "metadata": {
            "tags": []
          },
          "execution_count": 19
        }
      ]
    },
    {
      "cell_type": "code",
      "metadata": {
        "id": "0MsYN3it1DhB"
      },
      "source": [
        "tabular_res=pd.concat([pd.DataFrame.from_dict(rr[i]) for i in range(5)])"
      ],
      "execution_count": 20,
      "outputs": []
    },
    {
      "cell_type": "code",
      "metadata": {
        "colab": {
          "base_uri": "https://localhost:8080/",
          "height": 253
        },
        "id": "X7-6GJhL1E59",
        "outputId": "fbac59f1-cc58-4849-e735-eb5c112461db"
      },
      "source": [
        "tabular_res"
      ],
      "execution_count": 21,
      "outputs": [
        {
          "output_type": "execute_result",
          "data": {
            "text/html": [
              "<div>\n",
              "<style scoped>\n",
              "    .dataframe tbody tr th:only-of-type {\n",
              "        vertical-align: middle;\n",
              "    }\n",
              "\n",
              "    .dataframe tbody tr th {\n",
              "        vertical-align: top;\n",
              "    }\n",
              "\n",
              "    .dataframe thead th {\n",
              "        text-align: right;\n",
              "    }\n",
              "</style>\n",
              "<table border=\"1\" class=\"dataframe\">\n",
              "  <thead>\n",
              "    <tr style=\"text-align: right;\">\n",
              "      <th></th>\n",
              "      <th>train_14.png</th>\n",
              "      <th>train_24.png</th>\n",
              "      <th>train_49.png</th>\n",
              "      <th>train_104.png</th>\n",
              "      <th>train_199.png</th>\n",
              "      <th>train_244.png</th>\n",
              "      <th>train_249.png</th>\n",
              "      <th>train_314.png</th>\n",
              "      <th>train_364.png</th>\n",
              "      <th>train_384.png</th>\n",
              "      <th>train_394.png</th>\n",
              "      <th>train_424.png</th>\n",
              "      <th>train_474.png</th>\n",
              "      <th>train_479.png</th>\n",
              "      <th>train_529.png</th>\n",
              "      <th>train_534.png</th>\n",
              "      <th>train_539.png</th>\n",
              "      <th>train_659.png</th>\n",
              "      <th>train_719.png</th>\n",
              "      <th>train_724.png</th>\n",
              "      <th>train_789.png</th>\n",
              "      <th>train_834.png</th>\n",
              "      <th>train_869.png</th>\n",
              "      <th>train_1004.png</th>\n",
              "      <th>train_1029.png</th>\n",
              "      <th>train_1034.png</th>\n",
              "      <th>train_1079.png</th>\n",
              "      <th>train_1084.png</th>\n",
              "      <th>train_1109.png</th>\n",
              "      <th>train_1124.png</th>\n",
              "      <th>train_1134.png</th>\n",
              "      <th>train_1139.png</th>\n",
              "      <th>train_1149.png</th>\n",
              "      <th>train_1179.png</th>\n",
              "      <th>train_1189.png</th>\n",
              "      <th>train_1229.png</th>\n",
              "      <th>train_1294.png</th>\n",
              "      <th>train_1299.png</th>\n",
              "      <th>train_1309.png</th>\n",
              "      <th>train_1339.png</th>\n",
              "      <th>...</th>\n",
              "      <th>train_419.png</th>\n",
              "      <th>train_2594.png</th>\n",
              "      <th>train_2889.png</th>\n",
              "      <th>train_2009.png</th>\n",
              "      <th>train_2384.png</th>\n",
              "      <th>train_1784.png</th>\n",
              "      <th>train_1424.png</th>\n",
              "      <th>train_4164.png</th>\n",
              "      <th>train_2369.png</th>\n",
              "      <th>train_2499.png</th>\n",
              "      <th>train_1819.png</th>\n",
              "      <th>train_2164.png</th>\n",
              "      <th>train_3914.png</th>\n",
              "      <th>train_1744.png</th>\n",
              "      <th>train_1944.png</th>\n",
              "      <th>train_2374.png</th>\n",
              "      <th>train_2729.png</th>\n",
              "      <th>train_4194.png</th>\n",
              "      <th>train_769.png</th>\n",
              "      <th>train_1369.png</th>\n",
              "      <th>train_2554.png</th>\n",
              "      <th>train_3554.png</th>\n",
              "      <th>train_509.png</th>\n",
              "      <th>train_574.png</th>\n",
              "      <th>train_2179.png</th>\n",
              "      <th>train_674.png</th>\n",
              "      <th>train_969.png</th>\n",
              "      <th>train_1409.png</th>\n",
              "      <th>train_64.png</th>\n",
              "      <th>train_2719.png</th>\n",
              "      <th>train_1874.png</th>\n",
              "      <th>train_1909.png</th>\n",
              "      <th>train_3864.png</th>\n",
              "      <th>train_2969.png</th>\n",
              "      <th>train_159.png</th>\n",
              "      <th>train_1484.png</th>\n",
              "      <th>train_2894.png</th>\n",
              "      <th>train_359.png</th>\n",
              "      <th>train_3154.png</th>\n",
              "      <th>train_2909.png</th>\n",
              "    </tr>\n",
              "  </thead>\n",
              "  <tbody>\n",
              "    <tr>\n",
              "      <th>0</th>\n",
              "      <td>0.189143</td>\n",
              "      <td>0.279337</td>\n",
              "      <td>0.455895</td>\n",
              "      <td>0.650482</td>\n",
              "      <td>0.465951</td>\n",
              "      <td>0.274022</td>\n",
              "      <td>0.379819</td>\n",
              "      <td>0.729659</td>\n",
              "      <td>0.140439</td>\n",
              "      <td>0.284030</td>\n",
              "      <td>0.493719</td>\n",
              "      <td>0.665896</td>\n",
              "      <td>0.642337</td>\n",
              "      <td>0.625529</td>\n",
              "      <td>0.689020</td>\n",
              "      <td>0.369867</td>\n",
              "      <td>0.501832</td>\n",
              "      <td>0.375649</td>\n",
              "      <td>0.463684</td>\n",
              "      <td>0.522873</td>\n",
              "      <td>0.343321</td>\n",
              "      <td>0.534873</td>\n",
              "      <td>0.504590</td>\n",
              "      <td>0.504433</td>\n",
              "      <td>0.308487</td>\n",
              "      <td>0.441234</td>\n",
              "      <td>0.528905</td>\n",
              "      <td>0.564786</td>\n",
              "      <td>0.305978</td>\n",
              "      <td>0.372671</td>\n",
              "      <td>0.458445</td>\n",
              "      <td>0.366354</td>\n",
              "      <td>0.452228</td>\n",
              "      <td>0.319716</td>\n",
              "      <td>0.229278</td>\n",
              "      <td>0.757434</td>\n",
              "      <td>0.670347</td>\n",
              "      <td>0.809825</td>\n",
              "      <td>0.401043</td>\n",
              "      <td>0.811382</td>\n",
              "      <td>...</td>\n",
              "      <td>0.761076</td>\n",
              "      <td>0.658235</td>\n",
              "      <td>0.839415</td>\n",
              "      <td>0.417385</td>\n",
              "      <td>0.914986</td>\n",
              "      <td>0.687928</td>\n",
              "      <td>0.835009</td>\n",
              "      <td>0.732634</td>\n",
              "      <td>0.811377</td>\n",
              "      <td>0.755546</td>\n",
              "      <td>0.907806</td>\n",
              "      <td>0.797726</td>\n",
              "      <td>0.766613</td>\n",
              "      <td>0.762845</td>\n",
              "      <td>0.529694</td>\n",
              "      <td>0.881309</td>\n",
              "      <td>0.705178</td>\n",
              "      <td>0.852846</td>\n",
              "      <td>0.883161</td>\n",
              "      <td>0.850191</td>\n",
              "      <td>0.632148</td>\n",
              "      <td>0.851530</td>\n",
              "      <td>0.846878</td>\n",
              "      <td>0.596783</td>\n",
              "      <td>0.850114</td>\n",
              "      <td>0.700460</td>\n",
              "      <td>0.680678</td>\n",
              "      <td>0.862493</td>\n",
              "      <td>0.760404</td>\n",
              "      <td>0.696841</td>\n",
              "      <td>0.836076</td>\n",
              "      <td>0.836686</td>\n",
              "      <td>0.904015</td>\n",
              "      <td>0.932739</td>\n",
              "      <td>0.473777</td>\n",
              "      <td>0.708686</td>\n",
              "      <td>0.803400</td>\n",
              "      <td>0.778499</td>\n",
              "      <td>0.579354</td>\n",
              "      <td>0.477903</td>\n",
              "    </tr>\n",
              "    <tr>\n",
              "      <th>0</th>\n",
              "      <td>0.138299</td>\n",
              "      <td>0.127635</td>\n",
              "      <td>0.261170</td>\n",
              "      <td>0.696357</td>\n",
              "      <td>0.337087</td>\n",
              "      <td>0.093215</td>\n",
              "      <td>0.181282</td>\n",
              "      <td>0.464306</td>\n",
              "      <td>0.027251</td>\n",
              "      <td>0.275406</td>\n",
              "      <td>0.257741</td>\n",
              "      <td>0.550122</td>\n",
              "      <td>0.640194</td>\n",
              "      <td>0.408430</td>\n",
              "      <td>0.473288</td>\n",
              "      <td>0.155005</td>\n",
              "      <td>0.303061</td>\n",
              "      <td>0.256045</td>\n",
              "      <td>0.093730</td>\n",
              "      <td>0.307850</td>\n",
              "      <td>0.110436</td>\n",
              "      <td>0.180405</td>\n",
              "      <td>0.139455</td>\n",
              "      <td>0.343297</td>\n",
              "      <td>0.101206</td>\n",
              "      <td>0.265211</td>\n",
              "      <td>0.378100</td>\n",
              "      <td>0.390745</td>\n",
              "      <td>0.129853</td>\n",
              "      <td>0.132304</td>\n",
              "      <td>0.107687</td>\n",
              "      <td>0.218617</td>\n",
              "      <td>0.193863</td>\n",
              "      <td>0.148707</td>\n",
              "      <td>0.090165</td>\n",
              "      <td>0.595744</td>\n",
              "      <td>0.572215</td>\n",
              "      <td>0.721338</td>\n",
              "      <td>0.090201</td>\n",
              "      <td>0.866735</td>\n",
              "      <td>...</td>\n",
              "      <td>0.668902</td>\n",
              "      <td>0.641714</td>\n",
              "      <td>0.787556</td>\n",
              "      <td>0.136154</td>\n",
              "      <td>0.957643</td>\n",
              "      <td>0.698508</td>\n",
              "      <td>0.796842</td>\n",
              "      <td>0.688586</td>\n",
              "      <td>0.862848</td>\n",
              "      <td>0.725652</td>\n",
              "      <td>0.900382</td>\n",
              "      <td>0.667081</td>\n",
              "      <td>0.718473</td>\n",
              "      <td>0.719859</td>\n",
              "      <td>0.615679</td>\n",
              "      <td>0.893759</td>\n",
              "      <td>0.795890</td>\n",
              "      <td>0.849860</td>\n",
              "      <td>0.910889</td>\n",
              "      <td>0.922587</td>\n",
              "      <td>0.373165</td>\n",
              "      <td>0.870524</td>\n",
              "      <td>0.888507</td>\n",
              "      <td>0.679668</td>\n",
              "      <td>0.838592</td>\n",
              "      <td>0.765103</td>\n",
              "      <td>0.774970</td>\n",
              "      <td>0.955312</td>\n",
              "      <td>0.532469</td>\n",
              "      <td>0.711095</td>\n",
              "      <td>0.923860</td>\n",
              "      <td>0.777797</td>\n",
              "      <td>0.899869</td>\n",
              "      <td>0.944189</td>\n",
              "      <td>0.286446</td>\n",
              "      <td>0.690370</td>\n",
              "      <td>0.690259</td>\n",
              "      <td>0.588085</td>\n",
              "      <td>0.553543</td>\n",
              "      <td>0.376153</td>\n",
              "    </tr>\n",
              "    <tr>\n",
              "      <th>0</th>\n",
              "      <td>0.317500</td>\n",
              "      <td>0.235585</td>\n",
              "      <td>0.424287</td>\n",
              "      <td>0.727773</td>\n",
              "      <td>0.463125</td>\n",
              "      <td>0.284468</td>\n",
              "      <td>0.297921</td>\n",
              "      <td>0.798760</td>\n",
              "      <td>0.096799</td>\n",
              "      <td>0.491860</td>\n",
              "      <td>0.470004</td>\n",
              "      <td>0.697568</td>\n",
              "      <td>0.774993</td>\n",
              "      <td>0.614975</td>\n",
              "      <td>0.728544</td>\n",
              "      <td>0.296202</td>\n",
              "      <td>0.637427</td>\n",
              "      <td>0.412591</td>\n",
              "      <td>0.352165</td>\n",
              "      <td>0.552902</td>\n",
              "      <td>0.310436</td>\n",
              "      <td>0.381252</td>\n",
              "      <td>0.333288</td>\n",
              "      <td>0.561730</td>\n",
              "      <td>0.324300</td>\n",
              "      <td>0.569272</td>\n",
              "      <td>0.471802</td>\n",
              "      <td>0.640707</td>\n",
              "      <td>0.223668</td>\n",
              "      <td>0.408353</td>\n",
              "      <td>0.401747</td>\n",
              "      <td>0.450723</td>\n",
              "      <td>0.485660</td>\n",
              "      <td>0.333640</td>\n",
              "      <td>0.196175</td>\n",
              "      <td>0.696043</td>\n",
              "      <td>0.749678</td>\n",
              "      <td>0.778723</td>\n",
              "      <td>0.268129</td>\n",
              "      <td>0.796473</td>\n",
              "      <td>...</td>\n",
              "      <td>0.782212</td>\n",
              "      <td>0.802052</td>\n",
              "      <td>0.805049</td>\n",
              "      <td>0.512715</td>\n",
              "      <td>0.972262</td>\n",
              "      <td>0.587555</td>\n",
              "      <td>0.888862</td>\n",
              "      <td>0.703091</td>\n",
              "      <td>0.854911</td>\n",
              "      <td>0.811271</td>\n",
              "      <td>0.933043</td>\n",
              "      <td>0.767035</td>\n",
              "      <td>0.878093</td>\n",
              "      <td>0.825643</td>\n",
              "      <td>0.698824</td>\n",
              "      <td>0.935419</td>\n",
              "      <td>0.822490</td>\n",
              "      <td>0.888104</td>\n",
              "      <td>0.919234</td>\n",
              "      <td>0.896173</td>\n",
              "      <td>0.470344</td>\n",
              "      <td>0.872080</td>\n",
              "      <td>0.902690</td>\n",
              "      <td>0.749779</td>\n",
              "      <td>0.795172</td>\n",
              "      <td>0.840254</td>\n",
              "      <td>0.893439</td>\n",
              "      <td>0.930652</td>\n",
              "      <td>0.703833</td>\n",
              "      <td>0.700174</td>\n",
              "      <td>0.923598</td>\n",
              "      <td>0.806343</td>\n",
              "      <td>0.868608</td>\n",
              "      <td>0.965185</td>\n",
              "      <td>0.504121</td>\n",
              "      <td>0.843335</td>\n",
              "      <td>0.764314</td>\n",
              "      <td>0.689911</td>\n",
              "      <td>0.722713</td>\n",
              "      <td>0.650904</td>\n",
              "    </tr>\n",
              "    <tr>\n",
              "      <th>0</th>\n",
              "      <td>0.301530</td>\n",
              "      <td>0.376120</td>\n",
              "      <td>0.388266</td>\n",
              "      <td>0.659421</td>\n",
              "      <td>0.446457</td>\n",
              "      <td>0.444447</td>\n",
              "      <td>0.380817</td>\n",
              "      <td>0.571743</td>\n",
              "      <td>0.239923</td>\n",
              "      <td>0.509724</td>\n",
              "      <td>0.431737</td>\n",
              "      <td>0.575671</td>\n",
              "      <td>0.604188</td>\n",
              "      <td>0.467323</td>\n",
              "      <td>0.464156</td>\n",
              "      <td>0.545772</td>\n",
              "      <td>0.396334</td>\n",
              "      <td>0.364814</td>\n",
              "      <td>0.330145</td>\n",
              "      <td>0.355178</td>\n",
              "      <td>0.334651</td>\n",
              "      <td>0.519101</td>\n",
              "      <td>0.292177</td>\n",
              "      <td>0.457575</td>\n",
              "      <td>0.329341</td>\n",
              "      <td>0.505354</td>\n",
              "      <td>0.524687</td>\n",
              "      <td>0.565204</td>\n",
              "      <td>0.463305</td>\n",
              "      <td>0.374930</td>\n",
              "      <td>0.313013</td>\n",
              "      <td>0.478590</td>\n",
              "      <td>0.516653</td>\n",
              "      <td>0.454156</td>\n",
              "      <td>0.329865</td>\n",
              "      <td>0.683470</td>\n",
              "      <td>0.589945</td>\n",
              "      <td>0.554628</td>\n",
              "      <td>0.448344</td>\n",
              "      <td>0.750361</td>\n",
              "      <td>...</td>\n",
              "      <td>0.449684</td>\n",
              "      <td>0.576307</td>\n",
              "      <td>0.738930</td>\n",
              "      <td>0.518376</td>\n",
              "      <td>0.760002</td>\n",
              "      <td>0.614188</td>\n",
              "      <td>0.649442</td>\n",
              "      <td>0.577277</td>\n",
              "      <td>0.721576</td>\n",
              "      <td>0.536820</td>\n",
              "      <td>0.849268</td>\n",
              "      <td>0.669746</td>\n",
              "      <td>0.675361</td>\n",
              "      <td>0.505208</td>\n",
              "      <td>0.474583</td>\n",
              "      <td>0.697280</td>\n",
              "      <td>0.589663</td>\n",
              "      <td>0.786446</td>\n",
              "      <td>0.766576</td>\n",
              "      <td>0.793581</td>\n",
              "      <td>0.441958</td>\n",
              "      <td>0.749286</td>\n",
              "      <td>0.759415</td>\n",
              "      <td>0.549151</td>\n",
              "      <td>0.775707</td>\n",
              "      <td>0.624598</td>\n",
              "      <td>0.641722</td>\n",
              "      <td>0.814933</td>\n",
              "      <td>0.511703</td>\n",
              "      <td>0.563762</td>\n",
              "      <td>0.707680</td>\n",
              "      <td>0.776753</td>\n",
              "      <td>0.805047</td>\n",
              "      <td>0.867662</td>\n",
              "      <td>0.523264</td>\n",
              "      <td>0.510798</td>\n",
              "      <td>0.720596</td>\n",
              "      <td>0.582505</td>\n",
              "      <td>0.549355</td>\n",
              "      <td>0.571182</td>\n",
              "    </tr>\n",
              "    <tr>\n",
              "      <th>0</th>\n",
              "      <td>0.106305</td>\n",
              "      <td>0.180332</td>\n",
              "      <td>0.376707</td>\n",
              "      <td>0.638952</td>\n",
              "      <td>0.402865</td>\n",
              "      <td>0.214347</td>\n",
              "      <td>0.178054</td>\n",
              "      <td>0.686619</td>\n",
              "      <td>0.059674</td>\n",
              "      <td>0.343693</td>\n",
              "      <td>0.369970</td>\n",
              "      <td>0.707838</td>\n",
              "      <td>0.638626</td>\n",
              "      <td>0.606399</td>\n",
              "      <td>0.787147</td>\n",
              "      <td>0.167914</td>\n",
              "      <td>0.348978</td>\n",
              "      <td>0.256664</td>\n",
              "      <td>0.296144</td>\n",
              "      <td>0.326212</td>\n",
              "      <td>0.149031</td>\n",
              "      <td>0.298762</td>\n",
              "      <td>0.217925</td>\n",
              "      <td>0.584398</td>\n",
              "      <td>0.114124</td>\n",
              "      <td>0.284742</td>\n",
              "      <td>0.479793</td>\n",
              "      <td>0.487268</td>\n",
              "      <td>0.230539</td>\n",
              "      <td>0.179500</td>\n",
              "      <td>0.274199</td>\n",
              "      <td>0.301695</td>\n",
              "      <td>0.308601</td>\n",
              "      <td>0.150465</td>\n",
              "      <td>0.152376</td>\n",
              "      <td>0.762796</td>\n",
              "      <td>0.735264</td>\n",
              "      <td>0.788805</td>\n",
              "      <td>0.194855</td>\n",
              "      <td>0.779337</td>\n",
              "      <td>...</td>\n",
              "      <td>0.684021</td>\n",
              "      <td>0.777061</td>\n",
              "      <td>0.863807</td>\n",
              "      <td>0.201981</td>\n",
              "      <td>0.962924</td>\n",
              "      <td>0.748836</td>\n",
              "      <td>0.892308</td>\n",
              "      <td>0.565459</td>\n",
              "      <td>0.882286</td>\n",
              "      <td>0.758130</td>\n",
              "      <td>0.917311</td>\n",
              "      <td>0.813294</td>\n",
              "      <td>0.772862</td>\n",
              "      <td>0.840531</td>\n",
              "      <td>0.773548</td>\n",
              "      <td>0.913646</td>\n",
              "      <td>0.810060</td>\n",
              "      <td>0.702547</td>\n",
              "      <td>0.861600</td>\n",
              "      <td>0.833978</td>\n",
              "      <td>0.523497</td>\n",
              "      <td>0.923677</td>\n",
              "      <td>0.915845</td>\n",
              "      <td>0.625946</td>\n",
              "      <td>0.789246</td>\n",
              "      <td>0.658777</td>\n",
              "      <td>0.795072</td>\n",
              "      <td>0.926044</td>\n",
              "      <td>0.820374</td>\n",
              "      <td>0.669796</td>\n",
              "      <td>0.887371</td>\n",
              "      <td>0.821185</td>\n",
              "      <td>0.876719</td>\n",
              "      <td>0.968368</td>\n",
              "      <td>0.257208</td>\n",
              "      <td>0.546845</td>\n",
              "      <td>0.857603</td>\n",
              "      <td>0.666590</td>\n",
              "      <td>0.732240</td>\n",
              "      <td>0.537728</td>\n",
              "    </tr>\n",
              "  </tbody>\n",
              "</table>\n",
              "<p>5 rows × 272 columns</p>\n",
              "</div>"
            ],
            "text/plain": [
              "   train_14.png  train_24.png  ...  train_3154.png  train_2909.png\n",
              "0      0.189143      0.279337  ...        0.579354        0.477903\n",
              "0      0.138299      0.127635  ...        0.553543        0.376153\n",
              "0      0.317500      0.235585  ...        0.722713        0.650904\n",
              "0      0.301530      0.376120  ...        0.549355        0.571182\n",
              "0      0.106305      0.180332  ...        0.732240        0.537728\n",
              "\n",
              "[5 rows x 272 columns]"
            ]
          },
          "metadata": {
            "tags": []
          },
          "execution_count": 21
        }
      ]
    },
    {
      "cell_type": "code",
      "metadata": {
        "colab": {
          "base_uri": "https://localhost:8080/",
          "height": 204
        },
        "id": "RaaRIZns1Qec",
        "outputId": "c4ca1f6d-489c-4420-9ae0-344953608af2"
      },
      "source": [
        "tabular_res.index=[0,1,2,3,4]\n",
        "data=tabular_res.transpose()\n",
        "data.head()"
      ],
      "execution_count": 22,
      "outputs": [
        {
          "output_type": "execute_result",
          "data": {
            "text/html": [
              "<div>\n",
              "<style scoped>\n",
              "    .dataframe tbody tr th:only-of-type {\n",
              "        vertical-align: middle;\n",
              "    }\n",
              "\n",
              "    .dataframe tbody tr th {\n",
              "        vertical-align: top;\n",
              "    }\n",
              "\n",
              "    .dataframe thead th {\n",
              "        text-align: right;\n",
              "    }\n",
              "</style>\n",
              "<table border=\"1\" class=\"dataframe\">\n",
              "  <thead>\n",
              "    <tr style=\"text-align: right;\">\n",
              "      <th></th>\n",
              "      <th>0</th>\n",
              "      <th>1</th>\n",
              "      <th>2</th>\n",
              "      <th>3</th>\n",
              "      <th>4</th>\n",
              "    </tr>\n",
              "  </thead>\n",
              "  <tbody>\n",
              "    <tr>\n",
              "      <th>train_14.png</th>\n",
              "      <td>0.189143</td>\n",
              "      <td>0.138299</td>\n",
              "      <td>0.317500</td>\n",
              "      <td>0.301530</td>\n",
              "      <td>0.106305</td>\n",
              "    </tr>\n",
              "    <tr>\n",
              "      <th>train_24.png</th>\n",
              "      <td>0.279337</td>\n",
              "      <td>0.127635</td>\n",
              "      <td>0.235585</td>\n",
              "      <td>0.376120</td>\n",
              "      <td>0.180332</td>\n",
              "    </tr>\n",
              "    <tr>\n",
              "      <th>train_49.png</th>\n",
              "      <td>0.455895</td>\n",
              "      <td>0.261170</td>\n",
              "      <td>0.424287</td>\n",
              "      <td>0.388266</td>\n",
              "      <td>0.376707</td>\n",
              "    </tr>\n",
              "    <tr>\n",
              "      <th>train_104.png</th>\n",
              "      <td>0.650482</td>\n",
              "      <td>0.696357</td>\n",
              "      <td>0.727773</td>\n",
              "      <td>0.659421</td>\n",
              "      <td>0.638952</td>\n",
              "    </tr>\n",
              "    <tr>\n",
              "      <th>train_199.png</th>\n",
              "      <td>0.465951</td>\n",
              "      <td>0.337087</td>\n",
              "      <td>0.463125</td>\n",
              "      <td>0.446457</td>\n",
              "      <td>0.402865</td>\n",
              "    </tr>\n",
              "  </tbody>\n",
              "</table>\n",
              "</div>"
            ],
            "text/plain": [
              "                      0         1         2         3         4\n",
              "train_14.png   0.189143  0.138299  0.317500  0.301530  0.106305\n",
              "train_24.png   0.279337  0.127635  0.235585  0.376120  0.180332\n",
              "train_49.png   0.455895  0.261170  0.424287  0.388266  0.376707\n",
              "train_104.png  0.650482  0.696357  0.727773  0.659421  0.638952\n",
              "train_199.png  0.465951  0.337087  0.463125  0.446457  0.402865"
            ]
          },
          "metadata": {
            "tags": []
          },
          "execution_count": 22
        }
      ]
    },
    {
      "cell_type": "code",
      "metadata": {
        "id": "lIdjblZnyjk8"
      },
      "source": [
        "labels = pd.read_csv('drive/My Drive/AML2020/train.csv')\n",
        "indeces = []\n",
        "for pic in list(data.index):\n",
        "    index = list(labels['file']).index('images/'+pic)\n",
        "    indeces.append(index)\n",
        "\n",
        "labels_data = labels.iloc[indeces]\n",
        "data['labels'] = list(labels_data['is_tiger'])"
      ],
      "execution_count": 23,
      "outputs": []
    },
    {
      "cell_type": "code",
      "metadata": {
        "colab": {
          "base_uri": "https://localhost:8080/",
          "height": 204
        },
        "id": "3y6rpaK93JaY",
        "outputId": "3fab9d6b-e373-412e-ace1-ad81a4cfd2ff"
      },
      "source": [
        "data.head()"
      ],
      "execution_count": 24,
      "outputs": [
        {
          "output_type": "execute_result",
          "data": {
            "text/html": [
              "<div>\n",
              "<style scoped>\n",
              "    .dataframe tbody tr th:only-of-type {\n",
              "        vertical-align: middle;\n",
              "    }\n",
              "\n",
              "    .dataframe tbody tr th {\n",
              "        vertical-align: top;\n",
              "    }\n",
              "\n",
              "    .dataframe thead th {\n",
              "        text-align: right;\n",
              "    }\n",
              "</style>\n",
              "<table border=\"1\" class=\"dataframe\">\n",
              "  <thead>\n",
              "    <tr style=\"text-align: right;\">\n",
              "      <th></th>\n",
              "      <th>0</th>\n",
              "      <th>1</th>\n",
              "      <th>2</th>\n",
              "      <th>3</th>\n",
              "      <th>4</th>\n",
              "      <th>labels</th>\n",
              "    </tr>\n",
              "  </thead>\n",
              "  <tbody>\n",
              "    <tr>\n",
              "      <th>train_14.png</th>\n",
              "      <td>0.189143</td>\n",
              "      <td>0.138299</td>\n",
              "      <td>0.317500</td>\n",
              "      <td>0.301530</td>\n",
              "      <td>0.106305</td>\n",
              "      <td>0</td>\n",
              "    </tr>\n",
              "    <tr>\n",
              "      <th>train_24.png</th>\n",
              "      <td>0.279337</td>\n",
              "      <td>0.127635</td>\n",
              "      <td>0.235585</td>\n",
              "      <td>0.376120</td>\n",
              "      <td>0.180332</td>\n",
              "      <td>0</td>\n",
              "    </tr>\n",
              "    <tr>\n",
              "      <th>train_49.png</th>\n",
              "      <td>0.455895</td>\n",
              "      <td>0.261170</td>\n",
              "      <td>0.424287</td>\n",
              "      <td>0.388266</td>\n",
              "      <td>0.376707</td>\n",
              "      <td>0</td>\n",
              "    </tr>\n",
              "    <tr>\n",
              "      <th>train_104.png</th>\n",
              "      <td>0.650482</td>\n",
              "      <td>0.696357</td>\n",
              "      <td>0.727773</td>\n",
              "      <td>0.659421</td>\n",
              "      <td>0.638952</td>\n",
              "      <td>0</td>\n",
              "    </tr>\n",
              "    <tr>\n",
              "      <th>train_199.png</th>\n",
              "      <td>0.465951</td>\n",
              "      <td>0.337087</td>\n",
              "      <td>0.463125</td>\n",
              "      <td>0.446457</td>\n",
              "      <td>0.402865</td>\n",
              "      <td>0</td>\n",
              "    </tr>\n",
              "  </tbody>\n",
              "</table>\n",
              "</div>"
            ],
            "text/plain": [
              "                      0         1         2         3         4  labels\n",
              "train_14.png   0.189143  0.138299  0.317500  0.301530  0.106305       0\n",
              "train_24.png   0.279337  0.127635  0.235585  0.376120  0.180332       0\n",
              "train_49.png   0.455895  0.261170  0.424287  0.388266  0.376707       0\n",
              "train_104.png  0.650482  0.696357  0.727773  0.659421  0.638952       0\n",
              "train_199.png  0.465951  0.337087  0.463125  0.446457  0.402865       0"
            ]
          },
          "metadata": {
            "tags": []
          },
          "execution_count": 24
        }
      ]
    },
    {
      "cell_type": "code",
      "metadata": {
        "id": "BHEUp1gp303-"
      },
      "source": [
        "from sklearn.linear_model import LogisticRegression\n",
        "from sklearn.model_selection import train_test_split\n",
        "from sklearn import tree\n",
        "from sklearn import svm\n",
        "X, y = data[[0,1,2,3,4]], data['labels'] \n",
        "X_train, X_test, y_train, y_test = train_test_split(X, y, test_size=0.33, random_state=42)\n",
        "clf = LogisticRegression(random_state=0).fit(X_train,y_train)\n",
        "clf2 = svm.SVC().fit(X_train,y_train)\n",
        "clf3 = tree.DecisionTreeClassifier().fit(X_train,y_train)"
      ],
      "execution_count": 159,
      "outputs": []
    },
    {
      "cell_type": "code",
      "metadata": {
        "id": "IaqocLxfrn3p"
      },
      "source": [
        "a0_train = np.reshape(X_train[0].to_numpy(),(-1,1))\n",
        "a0_test = np.reshape(X_test[0].to_numpy(),(-1,1))\n",
        "clf_0 = tree.DecisionTreeClassifier().fit(a0_train,y_train)\n",
        "X_test['dt0'] = clf_0.predict(a0_test)\n",
        "a1_train = np.reshape(X_train[1].to_numpy(),(-1,1))\n",
        "a1_test = np.reshape(X_test[1].to_numpy(),(-1,1))\n",
        "clf_1 = tree.DecisionTreeClassifier().fit(a1_train,y_train)\n",
        "X_test['dt1'] = clf_1.predict(a1_test)\n",
        "a2_train = np.reshape(X_train[2].to_numpy(),(-1,1))\n",
        "a2_test = np.reshape(X_test[2].to_numpy(),(-1,1))\n",
        "clf_2 = tree.DecisionTreeClassifier().fit(a2_train,y_train)\n",
        "X_test['dt2'] = clf_2.predict(a2_test)\n",
        "a3_train = np.reshape(X_train[3].to_numpy(),(-1,1))\n",
        "a3_test = np.reshape(X_test[3].to_numpy(),(-1,1))\n",
        "clf_3 = tree.DecisionTreeClassifier().fit(a3_train,y_train)\n",
        "X_test['dt3'] = clf_3.predict(a3_test)\n",
        "a4_train = np.reshape(X_train[4].to_numpy(),(-1,1))\n",
        "a4_test = np.reshape(X_test[4].to_numpy(),(-1,1))\n",
        "clf_4 = tree.DecisionTreeClassifier().fit(a4_train,y_train)\n",
        "X_test['dt4'] = clf_4.predict(a4_test)"
      ],
      "execution_count": null,
      "outputs": []
    },
    {
      "cell_type": "code",
      "metadata": {
        "id": "gQxgMn-Gy5Jw"
      },
      "source": [
        "X_test['MV'] = round((X_test['dt0']+X_test['dt1']+X_test['dt2']+X_test['dt3']+X_test['dt4'])/5)\n",
        "\n",
        " "
      ],
      "execution_count": null,
      "outputs": []
    },
    {
      "cell_type": "code",
      "metadata": {
        "colab": {
          "base_uri": "https://localhost:8080/"
        },
        "id": "Zt1jm0acxggw",
        "outputId": "a3974dfd-4499-4c7a-d7df-227f3b869186"
      },
      "source": [
        "mv_acc = sum(1 for x,y in zip(X_test['MV'],y_test) if x == y) / len(y_test)\n",
        "mv_acc_tiger = sum(1 for x,y in zip(X_test['MV'],y_test) if x == 1 == y ) / sum(y_test)\n",
        "mv_acc_not_tiger = sum(1 for x,y in zip(X_test['MV'],y_test) if x == 0 == y) / (len(y_test) - sum(y_test))\n",
        "print(mv_acc, mv_acc_tiger, mv_acc_not_tiger)"
      ],
      "execution_count": 164,
      "outputs": [
        {
          "output_type": "stream",
          "text": [
            "0.8111111111111111 0.8048780487804879 0.8163265306122449\n"
          ],
          "name": "stdout"
        }
      ]
    },
    {
      "cell_type": "code",
      "metadata": {
        "id": "P12ZhR4o646x"
      },
      "source": [
        "weights_tiger=[]\n",
        "weights_not_tiger=[]\n",
        "#for i in range(len(data)):\n",
        "  #if data['labels'][i] == 1:\n",
        "    #weights_not_tiger.append(0)\n",
        "    #weights_tiger.append(1/(sum(data['labels'])))\n",
        "  #else:\n",
        "    #weights_not_tiger.append(1/(len(data) - sum(data['labels'])))\n",
        "    #weights_tiger.append(0)\n",
        "for i in range(len(X_test)):\n",
        "  if y_test[i] == 1:\n",
        "    weights_not_tiger.append(0)\n",
        "    weights_tiger.append(1/(sum(y_test)))\n",
        "  else:\n",
        "    weights_not_tiger.append(1/(len(X_test) - sum(y_test)))\n",
        "    weights_tiger.append(0)\n"
      ],
      "execution_count": 79,
      "outputs": []
    },
    {
      "cell_type": "markdown",
      "metadata": {
        "id": "fc7XLje1A-q5"
      },
      "source": [
        "Logistic regression accuracy"
      ]
    },
    {
      "cell_type": "code",
      "metadata": {
        "colab": {
          "base_uri": "https://localhost:8080/"
        },
        "id": "JCcGX9TX7bfG",
        "outputId": "db71565d-fa38-40ff-c26d-c54645a2605c"
      },
      "source": [
        "print('Overall accuracy: {:.4f} Not Tiger accuracy: {:.4f} Tiger accuracy: {:.4f}'.format(clf.score(X_test,y_test),clf.score(X_test,y_test,sample_weight=weights_not_tiger),clf.score(X_test,y_test,sample_weight=weights_tiger)))"
      ],
      "execution_count": 82,
      "outputs": [
        {
          "output_type": "stream",
          "text": [
            "Overall accuracy: 0.8778 Not Tiger accuracy: 0.8571 Tiger accuracy: 0.9024\n"
          ],
          "name": "stdout"
        }
      ]
    },
    {
      "cell_type": "markdown",
      "metadata": {
        "id": "O5eRgDhhBBTk"
      },
      "source": [
        "SVM accuracy"
      ]
    },
    {
      "cell_type": "code",
      "metadata": {
        "colab": {
          "base_uri": "https://localhost:8080/"
        },
        "id": "mAnAuNJk-peR",
        "outputId": "14648329-32b6-472f-f256-1988e09f8e39"
      },
      "source": [
        "print('Overall accuracy: {:.4f} Not Tiger accuracy: {:.4f} Tiger accuracy: {:.4f}'.format(clf2.score(X_test,y_test),clf2.score(X_test,y_test,sample_weight=weights_not_tiger),clf2.score(X_test,y_test,sample_weight=weights_tiger)))"
      ],
      "execution_count": 83,
      "outputs": [
        {
          "output_type": "stream",
          "text": [
            "Overall accuracy: 0.8667 Not Tiger accuracy: 0.8980 Tiger accuracy: 0.8293\n"
          ],
          "name": "stdout"
        }
      ]
    },
    {
      "cell_type": "code",
      "metadata": {
        "id": "ITfnHp3C3kqY"
      },
      "source": [
        "X, y = data[[0,1,2,3,4]], data['labels'] \n",
        "X_train, X_test, y_train, y_test = train_test_split(X, y, test_size=0.33, random_state=42)\n",
        "clf = LogisticRegression(random_state=0).fit(X_train,y_train)\n",
        "clf2 = svm.SVC().fit(X_train,y_train)\n",
        "clf3 = tree.DecisionTreeClassifier().fit(X_train,y_train)"
      ],
      "execution_count": 166,
      "outputs": []
    },
    {
      "cell_type": "code",
      "metadata": {
        "colab": {
          "base_uri": "https://localhost:8080/",
          "height": 173
        },
        "id": "8jAWM62qWolx",
        "outputId": "6e108cfe-53c1-4dbf-f996-a7e5aae05a90"
      },
      "source": [
        "results = pd.DataFrame()\n",
        "results['Overall Accuracy'] = [clf.score(X_test,y_test),clf2.score(X_test,y_test),clf3.score(X_test,y_test),mv_acc]\n",
        "results['Tiger Accuracy'] = [clf.score(X_test,y_test,sample_weight=weights_tiger),clf2.score(X_test,y_test,sample_weight=weights_tiger),clf3.score(X_test,y_test,sample_weight=weights_tiger),mv_acc_tiger]\n",
        "results['Non-tiger Accuracy'] = [clf.score(X_test,y_test,sample_weight=weights_not_tiger),clf2.score(X_test,y_test,sample_weight=weights_not_tiger),clf3.score(X_test,y_test,sample_weight=weights_not_tiger),mv_acc_not_tiger]\n",
        "results.index = ['LogReg','SVM','DT','Majority']\n",
        "results"
      ],
      "execution_count": 167,
      "outputs": [
        {
          "output_type": "execute_result",
          "data": {
            "text/html": [
              "<div>\n",
              "<style scoped>\n",
              "    .dataframe tbody tr th:only-of-type {\n",
              "        vertical-align: middle;\n",
              "    }\n",
              "\n",
              "    .dataframe tbody tr th {\n",
              "        vertical-align: top;\n",
              "    }\n",
              "\n",
              "    .dataframe thead th {\n",
              "        text-align: right;\n",
              "    }\n",
              "</style>\n",
              "<table border=\"1\" class=\"dataframe\">\n",
              "  <thead>\n",
              "    <tr style=\"text-align: right;\">\n",
              "      <th></th>\n",
              "      <th>Overall Accuracy</th>\n",
              "      <th>Tiger Accuracy</th>\n",
              "      <th>Non-tiger Accuracy</th>\n",
              "    </tr>\n",
              "  </thead>\n",
              "  <tbody>\n",
              "    <tr>\n",
              "      <th>LogReg</th>\n",
              "      <td>0.877778</td>\n",
              "      <td>0.902439</td>\n",
              "      <td>0.857143</td>\n",
              "    </tr>\n",
              "    <tr>\n",
              "      <th>SVM</th>\n",
              "      <td>0.866667</td>\n",
              "      <td>0.829268</td>\n",
              "      <td>0.897959</td>\n",
              "    </tr>\n",
              "    <tr>\n",
              "      <th>DT</th>\n",
              "      <td>0.833333</td>\n",
              "      <td>0.902439</td>\n",
              "      <td>0.775510</td>\n",
              "    </tr>\n",
              "    <tr>\n",
              "      <th>Majority</th>\n",
              "      <td>0.811111</td>\n",
              "      <td>0.804878</td>\n",
              "      <td>0.816327</td>\n",
              "    </tr>\n",
              "  </tbody>\n",
              "</table>\n",
              "</div>"
            ],
            "text/plain": [
              "          Overall Accuracy  Tiger Accuracy  Non-tiger Accuracy\n",
              "LogReg            0.877778        0.902439            0.857143\n",
              "SVM               0.866667        0.829268            0.897959\n",
              "DT                0.833333        0.902439            0.775510\n",
              "Majority          0.811111        0.804878            0.816327"
            ]
          },
          "metadata": {
            "tags": []
          },
          "execution_count": 167
        }
      ]
    },
    {
      "cell_type": "code",
      "metadata": {
        "colab": {
          "base_uri": "https://localhost:8080/",
          "height": 553
        },
        "id": "i3Q6Un2YV7U2",
        "outputId": "a2622649-83b6-4e5a-de0f-6ba33aa391b0"
      },
      "source": [
        "import matplotlib.pyplot as plt\n",
        "labels = results.index\n",
        "\n",
        "\n",
        "x = np.arange(len(labels))  # the label locations\n",
        "width = 0.2  # the width of the bars\n",
        "fig, ax = plt.subplots(figsize=(18,9))\n",
        "rects1 = ax.bar(x - 1.1*width, results['Overall Accuracy'], width, label='Overall')\n",
        "rects2 = ax.bar(x, results['Tiger Accuracy'], width, label='Tiger')\n",
        "rects3 = ax.bar(x + 1.1*width, results['Non-tiger Accuracy'], width, label='Non-tiger')\n",
        "# Add some text for labels, title and custom x-axis tick labels, etc.\n",
        "ax.set_ylabel('Accuracy')\n",
        "ax.set_title('Regression on the 5D data')\n",
        "ax.set_xticks(x)\n",
        "ax.set_xticklabels(labels)\n",
        "ax.legend()\n",
        "plt.show()"
      ],
      "execution_count": 172,
      "outputs": [
        {
          "output_type": "display_data",
          "data": {
            "image/png": "[encoded data removed]",
            "text/plain": [
              "<Figure size 1296x648 with 1 Axes>"
            ]
          },
          "metadata": {
            "tags": [],
            "needs_background": "light"
          }
        }
      ]
    }
  ]
}