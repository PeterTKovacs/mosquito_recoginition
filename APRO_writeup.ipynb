{
  "nbformat": 4,
  "nbformat_minor": 0,
  "metadata": {
    "accelerator": "GPU",
    "colab": {
      "name": "APRO_writeup.ipynb",
      "provenance": [],
      "collapsed_sections": [],
      "toc_visible": true,
      "include_colab_link": true
    },
    "kernelspec": {
      "display_name": "Python 3",
      "language": "python",
      "name": "python3"
    },
    "language_info": {
      "codemirror_mode": {
        "name": "ipython",
        "version": 3
      },
      "file_extension": ".py",
      "mimetype": "text/x-python",
      "name": "python",
      "nbconvert_exporter": "python",
      "pygments_lexer": "ipython3",
      "version": "3.8.5"
    }
  },
  "cells": [
    {
      "cell_type": "markdown",
      "metadata": {
        "id": "view-in-github",
        "colab_type": "text"
      },
      "source": [
        "<a href=\"https://colab.research.google.com/github/PeterTKovacs/mosquito_recoginition/blob/main/APRO_writeup.ipynb\" target=\"_parent\"><img src=\"https://colab.research.google.com/assets/colab-badge.svg\" alt=\"Open In Colab\"/></a>"
      ]
    },
    {
      "cell_type": "markdown",
      "metadata": {
        "id": "EQFAT4Ihn9vC"
      },
      "source": [
        "# Mosquito recognition project\n",
        "\n",
        "## project owner Csaba Tóth\n",
        "\n",
        "### collaborator: Péter Kovács"
      ]
    },
    {
      "cell_type": "markdown",
      "metadata": {
        "id": "tCQyzw5HoJuW"
      },
      "source": [
        "Aedes albopictus (Stegomyia albopicta), from the mosquito (Culicidae) family, also known as (Asian) tiger mosquito or forest mosquito, is a mosquito native to the tropical and subtropical areas of Southeast Asia; however, in the past few decades, this species has spread to many countries through the transport of goods and international travel. It is characterized by the white bands on its legs and body.\r\n",
        "\r\n",
        "This mosquito has become a significant pest in many communities because it closely associates with humans (rather than living in wetlands), and typically flies and feeds in the daytime in addition to at dusk and dawn. The insect is called a tiger mosquito for its striped appearance, which resembles that of the tiger. Ae. albopictus is an epidemiologically important vector for the transmission of many viral pathogens, including the yellow fever virus, dengue fever, and Chikungunya fever, as well as several filarial nematodes such as Dirofilaria immitis. Aedes albopictus is capable of hosting the Zika virus and is considered a potential vector for Zika transmission among humans.\r\n",
        "\r\n",
        "source: https://en.wikipedia.org/wiki/Aedes_albopictus"
      ]
    },
    {
      "cell_type": "markdown",
      "metadata": {
        "id": "3zw3K3PLogFS"
      },
      "source": [
        "This is a standard image classification challenge, where we need to build a classifier that can correctly decide if the presented image contains a tiger mosquito or not. Note, the data is coming from a citizen science project, so the data is not so high-quality and can be mislabeled!\r\n",
        "\r\n"
      ]
    },
    {
      "cell_type": "code",
      "metadata": {
        "id": "VgL4VHlxn9vS"
      },
      "source": [
        "import numpy as np\n",
        "import torch\n",
        "import torchvision\n",
        "from torchvision import transforms\n",
        "from tqdm import tqdm\n",
        "import torch\n",
        "import shutil\n",
        "import os\n",
        "import random\n",
        "from PIL import Image"
      ],
      "execution_count": null,
      "outputs": []
    },
    {
      "cell_type": "code",
      "metadata": {
        "id": "0_B1yaVgtar9",
        "colab": {
          "base_uri": "https://localhost:8080/"
        },
        "outputId": "293f56d6-aa0e-4f8b-9b65-c32d03d4c940"
      },
      "source": [
        "from google.colab import drive\n",
        "drive.mount('/content/drive')"
      ],
      "execution_count": null,
      "outputs": [
        {
          "output_type": "stream",
          "text": [
            "Mounted at /content/drive\n"
          ],
          "name": "stdout"
        }
      ]
    },
    {
      "cell_type": "markdown",
      "metadata": {
        "id": "XJKi5CbGn9vT"
      },
      "source": [
        "For the baseline model, we used a pretrained version of ResNet152. In the original dataset, there were five times as many tiger mosquitos as non-tiger mosquitoes, so we needed to partition the larger dataset into five smaller ones.\n",
        "\n",
        "I have added some checkpointer functionality (for saving the current best model and then reloading it at the end).\n",
        "\n",
        "This utility can be used to reload previously saved models without starting training in the current session. To this purpose, the model number is also required as input. __Important__: do not skip providing this, otherwise you may overwrite existing logs! Naming convention for logfiles is hard-coded into the class, so you can modify that there if you like.\n",
        "\n",
        "Also amendeded _learning rate_ and _lr decay_ parameters for slower learining and more gradual LR decrease. (You may want to play with them too!)"
      ]
    },
    {
      "cell_type": "code",
      "metadata": {
        "id": "wok6VHuiP_NA"
      },
      "source": [
        "class BaseLine:\n",
        "    def __init__(self,\n",
        "        input_images_path_ = 'drive/My Drive/AML2020/images',\n",
        "        csv_ = 'drive/My Drive/AML2020/train.csv',\n",
        "        input_path_ = 'drive/My Drive/AML2020',\n",
        "        train_path_ = 'drive/My Drive/AML2020/train4',\n",
        "        test_path_ = 'drive/My Drive/AML2020/test',\n",
        "        valid_path_ = 'drive/My Drive/AML2020/validation',\n",
        "                no_=4):\n",
        "        \n",
        "        import torch\n",
        "        import torchvision\n",
        "        \n",
        "        self.input_images_path = input_images_path_\n",
        "        self.csv = csv_\n",
        "        \n",
        "        self.input_path = input_path_\n",
        "        self.train_path = train_path_\n",
        "        self.test_path = test_path_\n",
        "        self.valid_path = valid_path_\n",
        "        self.no=no_\n",
        "\n",
        "    \n",
        "    def folder_generator(self):\n",
        "        import pandas as pd\n",
        "        import logging as log\n",
        "        import os\n",
        "        \n",
        "        csv_labels = pd.read_csv(self.csv)\n",
        "        \n",
        "        images_paths = list(csv_labels['file'])\n",
        "        images_paths = [path.replace('images/', '') for path in images_paths]\n",
        "        \n",
        "        images_labels = list(csv_labels['is_tiger'])\n",
        "        counter = 1\n",
        "        \n",
        "        tiger_path_train = os.path.join(self.train_path, 'tiger')\n",
        "        not_tiger_path_train = os.path.join(self.train_path, 'not_tiger')\n",
        "        \n",
        "        tiger_path_val = os.path.join(self.valid_path, 'tiger')\n",
        "        not_tiger_path_val = os.path.join(self.valid_path, 'not_tiger')\n",
        "        \n",
        "        test_unknown_path = os.path.join(self.test_path, 'unknown')\n",
        "        \n",
        "        os.mkdir(self.train_path)\n",
        "        os.mkdir(tiger_path_train)\n",
        "        os.mkdir(not_tiger_path_train)\n",
        "\n",
        "        os.mkdir(self.valid_path)\n",
        "        os.mkdir(tiger_path_val)\n",
        "        os.mkdir(not_tiger_path_val)\n",
        "        \n",
        "        os.mkdir(self.test_path)\n",
        "        os.mkdir(test_unknown_path)\n",
        "        \n",
        "        #Handling Train Images\n",
        "        print('###Handling Train Images')\n",
        "        for image_name, image_label in zip(images_paths, images_labels):\n",
        "            print('Copying image: {}, with label: {}'.format(image_name, image_label))    \n",
        "            if image_name.split('_')[0] == 'train' and counter % 5 != 0:\n",
        "                if image_label == 1:\n",
        "                    source_dir = os.path.join(self.input_images_path, image_name) \n",
        "                    dest_dir = os.path.join(tiger_path_train, image_name)\n",
        "                    shutil.copy(source_dir, dest_dir)\n",
        "                    counter += 1\n",
        "                    print('Copied image: {} to {}'.format(image_name, tiger_path_train))\n",
        "                else:\n",
        "                    source_dir = os.path.join(self.input_images_path, image_name) \n",
        "                    dest_dir = os.path.join(not_tiger_path_train, image_name)\n",
        "                    shutil.copy(source_dir, dest_dir)\n",
        "                    counter += 1\n",
        "                    print('Copied image: {} to {}'.format(image_name, not_tiger_path_train))\n",
        "            else:\n",
        "                if image_label == 1:\n",
        "                    source_dir = os.path.join(self.input_images_path, image_name) \n",
        "                    dest_dir = os.path.join(tiger_path_val, image_name)\n",
        "                    shutil.copy(source_dir, dest_dir)\n",
        "                    counter += 1\n",
        "                    print('Copied image: {} to {}'.format(image_name, tiger_path_val))\n",
        "                else:\n",
        "                    source_dir = os.path.join(self.input_images_path, image_name) \n",
        "                    dest_dir = os.path.join(not_tiger_path_val, image_name)\n",
        "                    shutil.copy(source_dir, dest_dir)\n",
        "                    counter += 1\n",
        "                    print('Copied image: {} to {}'.format(image_name, not_tiger_path_val))\n",
        "            \n",
        "    \n",
        "    def data_loader(self):\n",
        "        import torch\n",
        "        import torchvision\n",
        "        from torchvision import transforms\n",
        "        \n",
        "        #ImageFolder\n",
        "        #Augementation for train and valid images\n",
        "        \n",
        "        train_transforms = transforms.Compose([\n",
        "            transforms.RandomResizedCrop(224),\n",
        "            transforms.RandomHorizontalFlip(),\n",
        "            transforms.ToTensor(),\n",
        "            transforms.Normalize([0.485, 0.456, 0.406], [0.229, 0.224, 0.225])\n",
        "        ])\n",
        "\n",
        "        val_transforms = transforms.Compose([\n",
        "            transforms.Resize((224, 224)),\n",
        "            transforms.ToTensor(), \n",
        "            transforms.Normalize([0.485, 0.456, 0.406], [0.229, 0.224, 0.225])\n",
        "        ])\n",
        "\n",
        "        train_dataset = torchvision.datasets.ImageFolder(self.train_path, train_transforms)\n",
        "        validation_dataset = torchvision.datasets.ImageFolder(self.valid_path, val_transforms)\n",
        "        \n",
        "        #DataLoader\n",
        "        batch_size = 16\n",
        "        train_dataloader = torch.utils.data.DataLoader(\n",
        "            train_dataset, batch_size=batch_size, shuffle=True, num_workers=batch_size\n",
        "        )\n",
        "\n",
        "        validation_dataloader = torch.utils.data.DataLoader(\n",
        "            validation_dataset, batch_size=batch_size, shuffle=True, num_workers=batch_size\n",
        "        )\n",
        "        print(len(train_dataset), len(validation_dataset))\n",
        "        print(len(train_dataloader), len(validation_dataloader))\n",
        "        return train_dataloader, validation_dataloader\n",
        "    \n",
        "    def show_images(self, train_dataloader):\n",
        "        \n",
        "        import numpy as np\n",
        "        import matplotlib.pyplot as plt\n",
        "        X_batch, y_batch = next(iter(train_dataloader))\n",
        "        mean = np.array([0.485, 0.456, 0.406])\n",
        "        std = np.array([[0.229, 0.224, 0.225]])\n",
        "        for index in range(5):\n",
        "            plt.title(y_batch[index])\n",
        "            plt.imshow(X_batch[index].permute(1,2,0).numpy() * std + mean, )\n",
        "            plt.show()\n",
        "    \n",
        "    def model(self):\n",
        "        from torchvision import models\n",
        "        import torch\n",
        "        model = models.resnet152(pretrained=True) # orginally False - why???\n",
        "        \n",
        "        #Disable grad for all conv layers\n",
        "        for param in model.parameters():\n",
        "            param.requires_grad = False \n",
        "\n",
        "        model.fc = torch.nn.Linear(model.fc.in_features, 2)\n",
        "       \n",
        "        device = torch.device('cuda:0' if torch.cuda.is_available() else 'cpu')\n",
        "        model.to(device)\n",
        "        \n",
        "        loss = torch.nn.CrossEntropyLoss() # deleted crossentropy loss weigths\n",
        "\n",
        "        \n",
        "        optimizer = torch.optim.Adam(model.parameters(),amsgrad=True, lr=5.0e-4) # divided LR by two\n",
        "       \n",
        "        \n",
        "        #Declay LR by a factor of 0.1 every 5th epoch\n",
        "        scheduler = torch.optim.lr_scheduler.StepLR(optimizer, step_size = 2, gamma = 0.5) # gamma to five times\n",
        "        return model, loss, optimizer, scheduler, device\n",
        "    \n",
        "    def train_model(self, model, loss, optimizer, scheduler, train, validation, device, num_epochs):\n",
        "        import torch\n",
        "        from tqdm import tqdm\n",
        "        \n",
        "        best_accuracy=-1\n",
        "        best_path='best'+str(self.no)+'.pth'\n",
        "        \n",
        "        for epoch in range(num_epochs):\n",
        "            print('Epoch {}/{}:'.format(epoch, num_epochs - 1), flush=True)\n",
        "\n",
        "            # Each epoch has a training and validation phase\n",
        "            for phase in ['train', 'val']:\n",
        "                if phase == 'train':\n",
        "                    dataloader = train\n",
        "                    scheduler.step()\n",
        "                    \n",
        "                    model.train()  # Set model to training mode\n",
        "                else:\n",
        "                    dataloader = validation\n",
        "                    model.eval()   # Set model to evaluate mode\n",
        "\n",
        "                running_loss = 0.\n",
        "                running_acc = 0.\n",
        "\n",
        "                # Iterate over data.\n",
        "                for inputs, labels in tqdm(dataloader):\n",
        "                    inputs = inputs.to(device)\n",
        "                    labels = labels.to(device)\n",
        "\n",
        "                    optimizer.zero_grad()\n",
        "\n",
        "                    # forward and backward\n",
        "                    with torch.set_grad_enabled(phase == 'train'):                     \n",
        "                        \n",
        "                        preds = model(inputs).to(device)\n",
        "\n",
        "                        loss_value = loss(preds, labels)\n",
        "                        preds_class = preds.argmax(dim=1)\n",
        "\n",
        "                        # backward + optimize only if in training phase\n",
        "                        if phase == 'train':\n",
        "                            loss_value.backward()\n",
        "                            optimizer.step()\n",
        "\n",
        "                    # statistics\n",
        "                    running_loss += loss_value.item()\n",
        "                    running_acc += (preds_class == labels.data).float().mean()\n",
        "\n",
        "                epoch_loss = running_loss / len(dataloader)\n",
        "                epoch_acc = running_acc / len(dataloader)\n",
        "\n",
        "                print('{} Loss: {:.4f} Acc: {:.4f}'.format(phase, epoch_loss, epoch_acc), flush=True)\n",
        "                \n",
        "                if epoch_acc>best_accuracy and phase=='val' :\n",
        "                    \n",
        "                    self.create_checkpoint(model,optimizer,best_path,epoch,loss_value)\n",
        "                    best_accuracy=epoch_acc\n",
        "        \n",
        "        \n",
        "        self.load_from_checkpoint(model,optimizer,best_path)\n",
        "\n",
        "        return model\n",
        "    \n",
        "    def create_checkpoint(self,model,optimizer,path,epoch,loss):\n",
        "        \n",
        "        # basically copied from the tutorial, \n",
        "        # https://pytorch.org/tutorials/recipes/recipes/saving_and_loading_a_general_checkpoint.html\n",
        "\n",
        "        torch.save({\n",
        "            'epoch': epoch,\n",
        "            'model_state_dict': model.state_dict(),\n",
        "            'optimizer_state_dict': optimizer.state_dict(),\n",
        "            'loss': loss,\n",
        "            }, path)\n",
        "        \n",
        "    def load_from_checkpoint(self,model,optimizer,path):\n",
        "        \n",
        "        # basically copied from the tutorial, \n",
        "        # https://pytorch.org/tutorials/recipes/recipes/saving_and_loading_a_general_checkpoint.html\n",
        "        \n",
        "        checkpoint = torch.load(path)\n",
        "        model.load_state_dict(checkpoint['model_state_dict'])\n",
        "        optimizer.load_state_dict(checkpoint['optimizer_state_dict'])\n",
        "\n",
        "        print('reloading best model of epoch %d, loss %f'%(checkpoint['epoch'],checkpoint['loss']))\n",
        "        \n",
        "    def run(self,num_ep=10):\n",
        "\n",
        "        train_dataloader, validation_dataloader = self.data_loader()\n",
        "        \n",
        "        #Define model\n",
        "        \n",
        "        model, loss, optimizer, scheduler, device = self.model()\n",
        "\n",
        "        #Train model \n",
        "        \n",
        "        trained_model = self.train_model(model, loss, optimizer, scheduler, train_dataloader, validation_dataloader,\n",
        "                                         device, num_epochs=num_ep)\n",
        "        return trained_model"
      ],
      "execution_count": null,
      "outputs": []
    },
    {
      "cell_type": "code",
      "metadata": {
        "id": "ANMdMJ0uurGJ",
        "colab": {
          "base_uri": "https://localhost:8080/"
        },
        "outputId": "80558b5c-5e6e-40cd-8404-d9cdc8468f66"
      },
      "source": [
        "model = BaseLine().run()"
      ],
      "execution_count": null,
      "outputs": [
        {
          "output_type": "stream",
          "text": [
            "1132 855\n",
            "71 54\n",
            "Epoch 0/9:\n"
          ],
          "name": "stdout"
        },
        {
          "output_type": "stream",
          "text": [
            "/usr/local/lib/python3.6/dist-packages/torch/optim/lr_scheduler.py:136: UserWarning: Detected call of `lr_scheduler.step()` before `optimizer.step()`. In PyTorch 1.1.0 and later, you should call them in the opposite order: `optimizer.step()` before `lr_scheduler.step()`.  Failure to do this will result in PyTorch skipping the first value of the learning rate schedule. See more details at https://pytorch.org/docs/stable/optim.html#how-to-adjust-learning-rate\n",
            "  \"https://pytorch.org/docs/stable/optim.html#how-to-adjust-learning-rate\", UserWarning)\n",
            "100%|██████████| 71/71 [00:55<00:00,  1.28it/s]"
          ],
          "name": "stderr"
        },
        {
          "output_type": "stream",
          "text": [
            "train Loss: 0.6473 Acc: 0.6247\n"
          ],
          "name": "stdout"
        },
        {
          "output_type": "stream",
          "text": [
            "\n",
            "100%|██████████| 54/54 [00:18<00:00,  2.93it/s]"
          ],
          "name": "stderr"
        },
        {
          "output_type": "stream",
          "text": [
            "val Loss: 0.4624 Acc: 0.8322\n"
          ],
          "name": "stdout"
        },
        {
          "output_type": "stream",
          "text": [
            "\n"
          ],
          "name": "stderr"
        },
        {
          "output_type": "stream",
          "text": [
            "Epoch 1/9:\n"
          ],
          "name": "stdout"
        },
        {
          "output_type": "stream",
          "text": [
            "100%|██████████| 71/71 [00:25<00:00,  2.77it/s]"
          ],
          "name": "stderr"
        },
        {
          "output_type": "stream",
          "text": [
            "train Loss: 0.5286 Acc: 0.7441\n"
          ],
          "name": "stdout"
        },
        {
          "output_type": "stream",
          "text": [
            "\n",
            "100%|██████████| 54/54 [00:18<00:00,  2.90it/s]"
          ],
          "name": "stderr"
        },
        {
          "output_type": "stream",
          "text": [
            "val Loss: 0.3968 Acc: 0.8643\n"
          ],
          "name": "stdout"
        },
        {
          "output_type": "stream",
          "text": [
            "\n"
          ],
          "name": "stderr"
        },
        {
          "output_type": "stream",
          "text": [
            "Epoch 2/9:\n"
          ],
          "name": "stdout"
        },
        {
          "output_type": "stream",
          "text": [
            "100%|██████████| 71/71 [00:25<00:00,  2.83it/s]"
          ],
          "name": "stderr"
        },
        {
          "output_type": "stream",
          "text": [
            "train Loss: 0.4683 Acc: 0.8037\n"
          ],
          "name": "stdout"
        },
        {
          "output_type": "stream",
          "text": [
            "\n",
            "100%|██████████| 54/54 [00:18<00:00,  2.86it/s]"
          ],
          "name": "stderr"
        },
        {
          "output_type": "stream",
          "text": [
            "val Loss: 0.4860 Acc: 0.7867\n",
            "Epoch 3/9:\n"
          ],
          "name": "stdout"
        },
        {
          "output_type": "stream",
          "text": [
            "\n",
            "100%|██████████| 71/71 [00:25<00:00,  2.80it/s]"
          ],
          "name": "stderr"
        },
        {
          "output_type": "stream",
          "text": [
            "train Loss: 0.4565 Acc: 0.8016\n"
          ],
          "name": "stdout"
        },
        {
          "output_type": "stream",
          "text": [
            "\n",
            "100%|██████████| 54/54 [00:18<00:00,  2.91it/s]"
          ],
          "name": "stderr"
        },
        {
          "output_type": "stream",
          "text": [
            "val Loss: 0.4577 Acc: 0.8029\n",
            "Epoch 4/9:\n"
          ],
          "name": "stdout"
        },
        {
          "output_type": "stream",
          "text": [
            "\n",
            "100%|██████████| 71/71 [00:25<00:00,  2.79it/s]"
          ],
          "name": "stderr"
        },
        {
          "output_type": "stream",
          "text": [
            "train Loss: 0.4469 Acc: 0.8060\n"
          ],
          "name": "stdout"
        },
        {
          "output_type": "stream",
          "text": [
            "\n",
            "100%|██████████| 54/54 [00:18<00:00,  2.92it/s]"
          ],
          "name": "stderr"
        },
        {
          "output_type": "stream",
          "text": [
            "val Loss: 0.3451 Acc: 0.8704\n"
          ],
          "name": "stdout"
        },
        {
          "output_type": "stream",
          "text": [
            "\n"
          ],
          "name": "stderr"
        },
        {
          "output_type": "stream",
          "text": [
            "Epoch 5/9:\n"
          ],
          "name": "stdout"
        },
        {
          "output_type": "stream",
          "text": [
            "100%|██████████| 71/71 [00:25<00:00,  2.81it/s]"
          ],
          "name": "stderr"
        },
        {
          "output_type": "stream",
          "text": [
            "train Loss: 0.4383 Acc: 0.7975\n"
          ],
          "name": "stdout"
        },
        {
          "output_type": "stream",
          "text": [
            "\n",
            "100%|██████████| 54/54 [00:18<00:00,  2.89it/s]"
          ],
          "name": "stderr"
        },
        {
          "output_type": "stream",
          "text": [
            "val Loss: 0.3714 Acc: 0.8562\n",
            "Epoch 6/9:\n"
          ],
          "name": "stdout"
        },
        {
          "output_type": "stream",
          "text": [
            "\n",
            "100%|██████████| 71/71 [00:25<00:00,  2.81it/s]"
          ],
          "name": "stderr"
        },
        {
          "output_type": "stream",
          "text": [
            "train Loss: 0.4380 Acc: 0.7952\n"
          ],
          "name": "stdout"
        },
        {
          "output_type": "stream",
          "text": [
            "\n",
            "100%|██████████| 54/54 [00:18<00:00,  2.90it/s]"
          ],
          "name": "stderr"
        },
        {
          "output_type": "stream",
          "text": [
            "val Loss: 0.3678 Acc: 0.8507\n",
            "Epoch 7/9:\n"
          ],
          "name": "stdout"
        },
        {
          "output_type": "stream",
          "text": [
            "\n",
            "100%|██████████| 71/71 [00:25<00:00,  2.79it/s]"
          ],
          "name": "stderr"
        },
        {
          "output_type": "stream",
          "text": [
            "train Loss: 0.4377 Acc: 0.8148\n"
          ],
          "name": "stdout"
        },
        {
          "output_type": "stream",
          "text": [
            "\n",
            "100%|██████████| 54/54 [00:18<00:00,  2.89it/s]"
          ],
          "name": "stderr"
        },
        {
          "output_type": "stream",
          "text": [
            "val Loss: 0.4068 Acc: 0.8318\n",
            "Epoch 8/9:\n"
          ],
          "name": "stdout"
        },
        {
          "output_type": "stream",
          "text": [
            "\n",
            "100%|██████████| 71/71 [00:25<00:00,  2.80it/s]"
          ],
          "name": "stderr"
        },
        {
          "output_type": "stream",
          "text": [
            "train Loss: 0.4207 Acc: 0.8330\n"
          ],
          "name": "stdout"
        },
        {
          "output_type": "stream",
          "text": [
            "\n",
            "100%|██████████| 54/54 [00:18<00:00,  2.90it/s]"
          ],
          "name": "stderr"
        },
        {
          "output_type": "stream",
          "text": [
            "val Loss: 0.3547 Acc: 0.8623\n",
            "Epoch 9/9:\n"
          ],
          "name": "stdout"
        },
        {
          "output_type": "stream",
          "text": [
            "\n",
            "100%|██████████| 71/71 [00:25<00:00,  2.77it/s]"
          ],
          "name": "stderr"
        },
        {
          "output_type": "stream",
          "text": [
            "train Loss: 0.4255 Acc: 0.8166\n"
          ],
          "name": "stdout"
        },
        {
          "output_type": "stream",
          "text": [
            "\n",
            "100%|██████████| 54/54 [00:18<00:00,  2.91it/s]"
          ],
          "name": "stderr"
        },
        {
          "output_type": "stream",
          "text": [
            "val Loss: 0.3783 Acc: 0.8495\n"
          ],
          "name": "stdout"
        },
        {
          "output_type": "stream",
          "text": [
            "\n"
          ],
          "name": "stderr"
        },
        {
          "output_type": "stream",
          "text": [
            "reloading best model of epoch 4, loss 0.134331\n"
          ],
          "name": "stdout"
        }
      ]
    },
    {
      "cell_type": "markdown",
      "metadata": {
        "id": "kw4j3srhn9vm"
      },
      "source": [
        "# training\n",
        "\n",
        "Just made auxiliary functions for training the five models.\n",
        "\n",
        "__Directory structure was made before this part__ (not contained in the notebook)\n",
        "\n",
        "Generally speaking, inside _train_ and _valid_ directories, there are _m0_,...,_m4_ directories fed into the dataloader machinery. (So with _./tiger_ and _./other_ subdirectories inside."
      ]
    },
    {
      "cell_type": "code",
      "metadata": {
        "id": "3lRTJsCcn9vs"
      },
      "source": [
        "def model_(n,basedir='drive/My Drive/AML2020/'):\n",
        "    \n",
        "    \n",
        "    \n",
        "    model=BaseLine(\n",
        "    train_path_=os.path.join(basedir,'train'+str(n)+'/'),\n",
        "    valid_path_=os.path.join(basedir,'validation/'),\n",
        "    test_path_=os.path.join(basedir,'test/'),\n",
        "    no_=n)\n",
        "    \n",
        "    return model"
      ],
      "execution_count": null,
      "outputs": []
    },
    {
      "cell_type": "markdown",
      "metadata": {
        "id": "PnTKW_52n9vt"
      },
      "source": [
        "As I did training before, I just load the model from the saved logs. (Each net eats up roughly 250 MB)\n",
        "\n",
        "The trick is to use the training machinery that reloads the best model at the end: if you set the epoch number to 0 then it will only do this.\n",
        "\n",
        "__Important__: the naming convention of logfiles in hard-coded into the BaseLine class definition, you only access the number of the model (0,...,4) from outside.\n",
        "\n"
      ]
    },
    {
      "cell_type": "code",
      "metadata": {
        "id": "6brfTpZDn9vt",
        "colab": {
          "base_uri": "https://localhost:8080/"
        },
        "outputId": "c06b01ce-8ec6-439a-894d-04ebd7ce6b32"
      },
      "source": [
        "models={}\n",
        "for i in range(5):\n",
        "    m=model_(i)\n",
        "    trained_m=m.run(num_ep=0)\n",
        "    models[i]=trained_m"
      ],
      "execution_count": null,
      "outputs": [
        {
          "output_type": "stream",
          "text": [
            "1136 855\n",
            "71 54\n",
            "reloading best model of epoch 6, loss 0.239484\n",
            "1132 855\n",
            "71 54\n",
            "reloading best model of epoch 0, loss 0.307845\n",
            "1132 855\n",
            "71 54\n",
            "reloading best model of epoch 4, loss 0.331140\n",
            "1132 855\n",
            "71 54\n",
            "reloading best model of epoch 2, loss 0.262762\n",
            "1132 855\n",
            "71 54\n",
            "reloading best model of epoch 4, loss 0.134331\n"
          ],
          "name": "stdout"
        }
      ]
    },
    {
      "cell_type": "markdown",
      "metadata": {
        "id": "Cl_Dxdexn9vv"
      },
      "source": [
        "# testing pipeline\n",
        "\n",
        "Assuming that you have trained all the models, their performance should be assessed and compared to each other\n",
        "\n",
        "This is fairly simple but requires getting hands dirty with code. To save time, I hereby present the pipeline I wrote. You may use it or write a different one."
      ]
    },
    {
      "cell_type": "code",
      "metadata": {
        "id": "KomFclQcn9vv"
      },
      "source": [
        "import pandas as pd"
      ],
      "execution_count": null,
      "outputs": []
    },
    {
      "cell_type": "code",
      "metadata": {
        "id": "6XoWfVO6n9vv"
      },
      "source": [
        "import pickle"
      ],
      "execution_count": null,
      "outputs": []
    },
    {
      "cell_type": "markdown",
      "metadata": {
        "id": "-QXdoK1fn9vw"
      },
      "source": [
        "Conversion of model output (unactivated stuff) to confidency scores (auxiliary functions below)"
      ]
    },
    {
      "cell_type": "code",
      "metadata": {
        "id": "8nTFhNXWn9vw"
      },
      "source": [
        "def softmax(tensor):\n",
        "    \n",
        "    z=np.sum(np.exp(np.asarray(tensor)))\n",
        "    \n",
        "    return np.exp(np.asarray(tensor))/z\n",
        "    "
      ],
      "execution_count": null,
      "outputs": []
    },
    {
      "cell_type": "code",
      "metadata": {
        "id": "bx6P0x_4n9vw"
      },
      "source": [
        "def confidency(preds):\n",
        "    \n",
        "    confidencies=[]\n",
        "    \n",
        "    for pic in range(preds.shape[0]):\n",
        "        \n",
        "        confidencies.append(softmax(preds[pic,:])[1]) # guess that this is the tiger probability\n",
        "        \n",
        "    return confidencies\n",
        "        "
      ],
      "execution_count": null,
      "outputs": []
    },
    {
      "cell_type": "markdown",
      "metadata": {
        "id": "US_mBVY5n9vx"
      },
      "source": [
        "The actual pipe, consisting of evaluating predictions on the test images in batches.\n",
        "\n",
        "All models are loaded into memory and then set to _evaluate_ mode.\n",
        "\n",
        "Results are stored in dictionary format: (model:(image_name:condfidency)). "
      ]
    },
    {
      "cell_type": "code",
      "metadata": {
        "id": "eZ8Cv1fZn9vx"
      },
      "source": [
        "test_other_names=os.listdir('drive/My Drive/AML2020/validation/not_tiger')\n",
        "test_tiger_names=random.sample(os.listdir('drive/My Drive/AML2020/validation/tiger'),len(test_other_names))\n"
      ],
      "execution_count": null,
      "outputs": []
    },
    {
      "cell_type": "code",
      "metadata": {
        "id": "Dud0_oLtn9vx"
      },
      "source": [
        "batch_size=10\n",
        "counter=0\n",
        "to_batch=[]\n",
        "results={}\n",
        "\n",
        "val_transforms = transforms.Compose([\n",
        "            transforms.Resize((224, 224)),\n",
        "            transforms.ToTensor(), \n",
        "            transforms.Normalize([0.485, 0.456, 0.406], [0.229, 0.224, 0.225])\n",
        "        ])\n",
        "\n",
        "for id_,model in models.items():\n",
        "    results[id_]={}\n",
        "    model.eval()\n",
        "\n",
        "for pic in test_other_names:\n",
        "    to_batch.append((pic,val_transforms(Image.open('drive/My Drive/AML2020/validation/not_tiger/'+pic))))\n",
        "    counter+=1\n",
        "    \n",
        "    if counter==batch_size:\n",
        "        \n",
        "        batch=torch.cat([(item[1].reshape(-1,3,224,224)).cuda() for item in to_batch ])\n",
        "        \n",
        "        for id_,model in models.items():\n",
        "            \n",
        "            conf=confidency(model(batch).cpu().detach().numpy())\n",
        "            \n",
        "            for idx,item in enumerate(to_batch):\n",
        "            \n",
        "                results[id_][item[0]]=conf[idx]\n",
        "                \n",
        "        counter=0\n",
        "        to_batch=[]\n",
        "        \n",
        "for pic in test_tiger_names:\n",
        "    to_batch.append((pic,val_transforms(Image.open('drive/My Drive/AML2020/validation/tiger/'+pic))))\n",
        "    counter+=1\n",
        "    \n",
        "    if counter==batch_size:\n",
        "        \n",
        "        batch=torch.cat([(item[1].reshape(-1,3,224,224)).cuda() for item in to_batch ])\n",
        "        \n",
        "        for id_,model in models.items():\n",
        "            \n",
        "            conf=confidency(model(batch).cpu().detach().numpy())\n",
        "            \n",
        "            for idx,item in enumerate(to_batch):\n",
        "            \n",
        "                results[id_][item[0]]=conf[idx]\n",
        "                \n",
        "        counter=0\n",
        "        to_batch=[]\n",
        "    \n",
        "            \n",
        "if len(to_batch)>0: #some pics remained unevaluated\n",
        "    \n",
        "    batch=torch.cat([(item[1].reshape(-1,3,224,224)).cuda() for item in to_batch ])\n",
        "        \n",
        "    for id_,model in models.items():\n",
        "\n",
        "        conf=confidency(model(batch).cpu().detach().numpy())\n",
        "\n",
        "        for idx,item in enumerate(to_batch):\n",
        "\n",
        "            results[id_][item[0]]=conf[idx]\n",
        "\n",
        "    counter=0\n",
        "    to_batch=[]\n",
        "        \n",
        "    "
      ],
      "execution_count": null,
      "outputs": []
    },
    {
      "cell_type": "markdown",
      "metadata": {
        "id": "77oNcIH_n9vy"
      },
      "source": [
        "Saving the results to file (safety is the best)"
      ]
    },
    {
      "cell_type": "code",
      "metadata": {
        "id": "fcJ0olnSn9vy"
      },
      "source": [
        "f=open('results_dictionary.txt','wb')"
      ],
      "execution_count": null,
      "outputs": []
    },
    {
      "cell_type": "code",
      "metadata": {
        "id": "AYA4hklhn9vy"
      },
      "source": [
        "pickle.dump(results,f)"
      ],
      "execution_count": null,
      "outputs": []
    },
    {
      "cell_type": "code",
      "metadata": {
        "id": "OB_0H5aun9v0"
      },
      "source": [
        "import copy"
      ],
      "execution_count": null,
      "outputs": []
    },
    {
      "cell_type": "code",
      "metadata": {
        "id": "62s0zcB_n9v0"
      },
      "source": [
        "rr=copy.deepcopy(results)"
      ],
      "execution_count": null,
      "outputs": []
    },
    {
      "cell_type": "code",
      "metadata": {
        "id": "hgwE2ybpn9v1"
      },
      "source": [
        "for idx,model in models.items():\n",
        "    for key,value in rr[idx].items():\n",
        "        rr[idx][key]=list([value,])"
      ],
      "execution_count": null,
      "outputs": []
    },
    {
      "cell_type": "code",
      "metadata": {
        "id": "YRpwwrIon9v2"
      },
      "source": [
        "tabular_res=pd.concat([pd.DataFrame.from_dict(rr[i]) for i in range(5)])"
      ],
      "execution_count": null,
      "outputs": []
    },
    {
      "cell_type": "code",
      "metadata": {
        "id": "VrdsQyTEn9v2",
        "colab": {
          "base_uri": "https://localhost:8080/",
          "height": 253
        },
        "outputId": "9a9e8ec7-0fd9-4df7-b737-f41a4105d48d"
      },
      "source": [
        "tabular_res"
      ],
      "execution_count": null,
      "outputs": [
        {
          "output_type": "execute_result",
          "data": {
            "text/html": [
              "<div>\n",
              "<style scoped>\n",
              "    .dataframe tbody tr th:only-of-type {\n",
              "        vertical-align: middle;\n",
              "    }\n",
              "\n",
              "    .dataframe tbody tr th {\n",
              "        vertical-align: top;\n",
              "    }\n",
              "\n",
              "    .dataframe thead th {\n",
              "        text-align: right;\n",
              "    }\n",
              "</style>\n",
              "<table border=\"1\" class=\"dataframe\">\n",
              "  <thead>\n",
              "    <tr style=\"text-align: right;\">\n",
              "      <th></th>\n",
              "      <th>train_14.png</th>\n",
              "      <th>train_24.png</th>\n",
              "      <th>train_49.png</th>\n",
              "      <th>train_104.png</th>\n",
              "      <th>train_199.png</th>\n",
              "      <th>train_244.png</th>\n",
              "      <th>train_249.png</th>\n",
              "      <th>train_314.png</th>\n",
              "      <th>train_364.png</th>\n",
              "      <th>train_384.png</th>\n",
              "      <th>train_394.png</th>\n",
              "      <th>train_424.png</th>\n",
              "      <th>train_474.png</th>\n",
              "      <th>train_479.png</th>\n",
              "      <th>train_529.png</th>\n",
              "      <th>train_534.png</th>\n",
              "      <th>train_539.png</th>\n",
              "      <th>train_659.png</th>\n",
              "      <th>train_719.png</th>\n",
              "      <th>train_724.png</th>\n",
              "      <th>train_789.png</th>\n",
              "      <th>train_834.png</th>\n",
              "      <th>train_869.png</th>\n",
              "      <th>train_1004.png</th>\n",
              "      <th>train_1029.png</th>\n",
              "      <th>train_1034.png</th>\n",
              "      <th>train_1079.png</th>\n",
              "      <th>train_1084.png</th>\n",
              "      <th>train_1109.png</th>\n",
              "      <th>train_1124.png</th>\n",
              "      <th>train_1134.png</th>\n",
              "      <th>train_1139.png</th>\n",
              "      <th>train_1149.png</th>\n",
              "      <th>train_1179.png</th>\n",
              "      <th>train_1189.png</th>\n",
              "      <th>train_1229.png</th>\n",
              "      <th>train_1294.png</th>\n",
              "      <th>train_1299.png</th>\n",
              "      <th>train_1309.png</th>\n",
              "      <th>train_1339.png</th>\n",
              "      <th>...</th>\n",
              "      <th>train_2754.png</th>\n",
              "      <th>train_3924.png</th>\n",
              "      <th>train_1064.png</th>\n",
              "      <th>train_369.png</th>\n",
              "      <th>train_99.png</th>\n",
              "      <th>train_1279.png</th>\n",
              "      <th>train_2869.png</th>\n",
              "      <th>train_269.png</th>\n",
              "      <th>train_3434.png</th>\n",
              "      <th>train_299.png</th>\n",
              "      <th>train_504.png</th>\n",
              "      <th>train_3014.png</th>\n",
              "      <th>train_4064.png</th>\n",
              "      <th>train_3299.png</th>\n",
              "      <th>train_294.png</th>\n",
              "      <th>train_1919.png</th>\n",
              "      <th>train_2019.png</th>\n",
              "      <th>train_2899.png</th>\n",
              "      <th>train_1689.png</th>\n",
              "      <th>train_1074.png</th>\n",
              "      <th>train_374.png</th>\n",
              "      <th>train_3274.png</th>\n",
              "      <th>train_1504.png</th>\n",
              "      <th>train_1329.png</th>\n",
              "      <th>train_1344.png</th>\n",
              "      <th>train_1369.png</th>\n",
              "      <th>train_359.png</th>\n",
              "      <th>train_2849.png</th>\n",
              "      <th>train_1184.png</th>\n",
              "      <th>train_2539.png</th>\n",
              "      <th>train_939.png</th>\n",
              "      <th>train_3439.png</th>\n",
              "      <th>train_2304.png</th>\n",
              "      <th>train_3119.png</th>\n",
              "      <th>train_2854.png</th>\n",
              "      <th>train_4229.png</th>\n",
              "      <th>train_4099.png</th>\n",
              "      <th>train_2804.png</th>\n",
              "      <th>train_3129.png</th>\n",
              "      <th>train_974.png</th>\n",
              "    </tr>\n",
              "  </thead>\n",
              "  <tbody>\n",
              "    <tr>\n",
              "      <th>0</th>\n",
              "      <td>0.107681</td>\n",
              "      <td>0.118576</td>\n",
              "      <td>0.307205</td>\n",
              "      <td>0.689934</td>\n",
              "      <td>0.316198</td>\n",
              "      <td>0.155378</td>\n",
              "      <td>0.369547</td>\n",
              "      <td>0.635186</td>\n",
              "      <td>0.030643</td>\n",
              "      <td>0.203867</td>\n",
              "      <td>0.204302</td>\n",
              "      <td>0.590388</td>\n",
              "      <td>0.607434</td>\n",
              "      <td>0.543216</td>\n",
              "      <td>0.730225</td>\n",
              "      <td>0.147817</td>\n",
              "      <td>0.388529</td>\n",
              "      <td>0.201687</td>\n",
              "      <td>0.128747</td>\n",
              "      <td>0.400193</td>\n",
              "      <td>0.217765</td>\n",
              "      <td>0.212508</td>\n",
              "      <td>0.215102</td>\n",
              "      <td>0.378922</td>\n",
              "      <td>0.163254</td>\n",
              "      <td>0.403458</td>\n",
              "      <td>0.303551</td>\n",
              "      <td>0.507916</td>\n",
              "      <td>0.244593</td>\n",
              "      <td>0.187505</td>\n",
              "      <td>0.255707</td>\n",
              "      <td>0.260125</td>\n",
              "      <td>0.271791</td>\n",
              "      <td>0.146058</td>\n",
              "      <td>0.120789</td>\n",
              "      <td>0.602385</td>\n",
              "      <td>0.676812</td>\n",
              "      <td>0.660993</td>\n",
              "      <td>0.198405</td>\n",
              "      <td>0.774465</td>\n",
              "      <td>...</td>\n",
              "      <td>0.946308</td>\n",
              "      <td>0.819098</td>\n",
              "      <td>0.947360</td>\n",
              "      <td>0.780192</td>\n",
              "      <td>0.852264</td>\n",
              "      <td>0.970319</td>\n",
              "      <td>0.592115</td>\n",
              "      <td>0.476474</td>\n",
              "      <td>0.986848</td>\n",
              "      <td>0.947423</td>\n",
              "      <td>0.958903</td>\n",
              "      <td>0.822827</td>\n",
              "      <td>0.715206</td>\n",
              "      <td>0.960530</td>\n",
              "      <td>0.938153</td>\n",
              "      <td>0.797133</td>\n",
              "      <td>0.823967</td>\n",
              "      <td>0.777626</td>\n",
              "      <td>0.966122</td>\n",
              "      <td>0.896629</td>\n",
              "      <td>0.528489</td>\n",
              "      <td>0.744755</td>\n",
              "      <td>0.813760</td>\n",
              "      <td>0.921532</td>\n",
              "      <td>0.959988</td>\n",
              "      <td>0.907696</td>\n",
              "      <td>0.610791</td>\n",
              "      <td>0.297538</td>\n",
              "      <td>0.970637</td>\n",
              "      <td>0.960219</td>\n",
              "      <td>0.903883</td>\n",
              "      <td>0.862044</td>\n",
              "      <td>0.757528</td>\n",
              "      <td>0.857608</td>\n",
              "      <td>0.916907</td>\n",
              "      <td>0.837021</td>\n",
              "      <td>0.781336</td>\n",
              "      <td>0.713476</td>\n",
              "      <td>0.858478</td>\n",
              "      <td>0.641163</td>\n",
              "    </tr>\n",
              "    <tr>\n",
              "      <th>0</th>\n",
              "      <td>0.420940</td>\n",
              "      <td>0.394472</td>\n",
              "      <td>0.379758</td>\n",
              "      <td>0.682251</td>\n",
              "      <td>0.468832</td>\n",
              "      <td>0.349968</td>\n",
              "      <td>0.538410</td>\n",
              "      <td>0.731527</td>\n",
              "      <td>0.196723</td>\n",
              "      <td>0.360970</td>\n",
              "      <td>0.353495</td>\n",
              "      <td>0.643676</td>\n",
              "      <td>0.784692</td>\n",
              "      <td>0.675286</td>\n",
              "      <td>0.734843</td>\n",
              "      <td>0.296442</td>\n",
              "      <td>0.468672</td>\n",
              "      <td>0.350488</td>\n",
              "      <td>0.331957</td>\n",
              "      <td>0.459162</td>\n",
              "      <td>0.310106</td>\n",
              "      <td>0.540449</td>\n",
              "      <td>0.471911</td>\n",
              "      <td>0.727447</td>\n",
              "      <td>0.302009</td>\n",
              "      <td>0.593067</td>\n",
              "      <td>0.587883</td>\n",
              "      <td>0.529311</td>\n",
              "      <td>0.329918</td>\n",
              "      <td>0.403243</td>\n",
              "      <td>0.484306</td>\n",
              "      <td>0.397164</td>\n",
              "      <td>0.603867</td>\n",
              "      <td>0.309707</td>\n",
              "      <td>0.309155</td>\n",
              "      <td>0.627196</td>\n",
              "      <td>0.675238</td>\n",
              "      <td>0.776963</td>\n",
              "      <td>0.404986</td>\n",
              "      <td>0.854346</td>\n",
              "      <td>...</td>\n",
              "      <td>0.866288</td>\n",
              "      <td>0.698266</td>\n",
              "      <td>0.806380</td>\n",
              "      <td>0.620806</td>\n",
              "      <td>0.762998</td>\n",
              "      <td>0.930440</td>\n",
              "      <td>0.593610</td>\n",
              "      <td>0.646470</td>\n",
              "      <td>0.899994</td>\n",
              "      <td>0.915341</td>\n",
              "      <td>0.834770</td>\n",
              "      <td>0.784573</td>\n",
              "      <td>0.810953</td>\n",
              "      <td>0.886081</td>\n",
              "      <td>0.853722</td>\n",
              "      <td>0.714794</td>\n",
              "      <td>0.725281</td>\n",
              "      <td>0.749814</td>\n",
              "      <td>0.879884</td>\n",
              "      <td>0.821279</td>\n",
              "      <td>0.599326</td>\n",
              "      <td>0.752993</td>\n",
              "      <td>0.821501</td>\n",
              "      <td>0.863327</td>\n",
              "      <td>0.904263</td>\n",
              "      <td>0.808219</td>\n",
              "      <td>0.742848</td>\n",
              "      <td>0.413653</td>\n",
              "      <td>0.890535</td>\n",
              "      <td>0.880727</td>\n",
              "      <td>0.875983</td>\n",
              "      <td>0.773946</td>\n",
              "      <td>0.673736</td>\n",
              "      <td>0.747381</td>\n",
              "      <td>0.828842</td>\n",
              "      <td>0.797135</td>\n",
              "      <td>0.671830</td>\n",
              "      <td>0.536919</td>\n",
              "      <td>0.749276</td>\n",
              "      <td>0.696749</td>\n",
              "    </tr>\n",
              "    <tr>\n",
              "      <th>0</th>\n",
              "      <td>0.091365</td>\n",
              "      <td>0.153782</td>\n",
              "      <td>0.278223</td>\n",
              "      <td>0.637312</td>\n",
              "      <td>0.301948</td>\n",
              "      <td>0.159006</td>\n",
              "      <td>0.135537</td>\n",
              "      <td>0.463947</td>\n",
              "      <td>0.039325</td>\n",
              "      <td>0.273761</td>\n",
              "      <td>0.241501</td>\n",
              "      <td>0.530619</td>\n",
              "      <td>0.470568</td>\n",
              "      <td>0.426249</td>\n",
              "      <td>0.607450</td>\n",
              "      <td>0.135503</td>\n",
              "      <td>0.371328</td>\n",
              "      <td>0.175916</td>\n",
              "      <td>0.108274</td>\n",
              "      <td>0.247129</td>\n",
              "      <td>0.157867</td>\n",
              "      <td>0.287235</td>\n",
              "      <td>0.170319</td>\n",
              "      <td>0.680589</td>\n",
              "      <td>0.111854</td>\n",
              "      <td>0.217475</td>\n",
              "      <td>0.390770</td>\n",
              "      <td>0.378951</td>\n",
              "      <td>0.120014</td>\n",
              "      <td>0.166899</td>\n",
              "      <td>0.241401</td>\n",
              "      <td>0.170561</td>\n",
              "      <td>0.230030</td>\n",
              "      <td>0.122516</td>\n",
              "      <td>0.078293</td>\n",
              "      <td>0.499613</td>\n",
              "      <td>0.671416</td>\n",
              "      <td>0.621704</td>\n",
              "      <td>0.113886</td>\n",
              "      <td>0.747547</td>\n",
              "      <td>...</td>\n",
              "      <td>0.937460</td>\n",
              "      <td>0.660475</td>\n",
              "      <td>0.957991</td>\n",
              "      <td>0.728826</td>\n",
              "      <td>0.790803</td>\n",
              "      <td>0.967019</td>\n",
              "      <td>0.545359</td>\n",
              "      <td>0.394855</td>\n",
              "      <td>0.957055</td>\n",
              "      <td>0.952759</td>\n",
              "      <td>0.936032</td>\n",
              "      <td>0.785173</td>\n",
              "      <td>0.727683</td>\n",
              "      <td>0.940380</td>\n",
              "      <td>0.885184</td>\n",
              "      <td>0.719116</td>\n",
              "      <td>0.704574</td>\n",
              "      <td>0.839533</td>\n",
              "      <td>0.914936</td>\n",
              "      <td>0.788935</td>\n",
              "      <td>0.604712</td>\n",
              "      <td>0.687646</td>\n",
              "      <td>0.763703</td>\n",
              "      <td>0.856038</td>\n",
              "      <td>0.947703</td>\n",
              "      <td>0.888240</td>\n",
              "      <td>0.650079</td>\n",
              "      <td>0.288112</td>\n",
              "      <td>0.965705</td>\n",
              "      <td>0.950123</td>\n",
              "      <td>0.898418</td>\n",
              "      <td>0.890343</td>\n",
              "      <td>0.622189</td>\n",
              "      <td>0.793491</td>\n",
              "      <td>0.922529</td>\n",
              "      <td>0.813897</td>\n",
              "      <td>0.718049</td>\n",
              "      <td>0.649302</td>\n",
              "      <td>0.855516</td>\n",
              "      <td>0.497211</td>\n",
              "    </tr>\n",
              "    <tr>\n",
              "      <th>0</th>\n",
              "      <td>0.124531</td>\n",
              "      <td>0.173273</td>\n",
              "      <td>0.297116</td>\n",
              "      <td>0.794334</td>\n",
              "      <td>0.331597</td>\n",
              "      <td>0.235182</td>\n",
              "      <td>0.186632</td>\n",
              "      <td>0.458872</td>\n",
              "      <td>0.055754</td>\n",
              "      <td>0.376725</td>\n",
              "      <td>0.325257</td>\n",
              "      <td>0.517941</td>\n",
              "      <td>0.690262</td>\n",
              "      <td>0.472052</td>\n",
              "      <td>0.617346</td>\n",
              "      <td>0.173292</td>\n",
              "      <td>0.252825</td>\n",
              "      <td>0.229967</td>\n",
              "      <td>0.177500</td>\n",
              "      <td>0.223885</td>\n",
              "      <td>0.194014</td>\n",
              "      <td>0.303539</td>\n",
              "      <td>0.299027</td>\n",
              "      <td>0.600088</td>\n",
              "      <td>0.144377</td>\n",
              "      <td>0.347030</td>\n",
              "      <td>0.380232</td>\n",
              "      <td>0.376106</td>\n",
              "      <td>0.111142</td>\n",
              "      <td>0.271766</td>\n",
              "      <td>0.193024</td>\n",
              "      <td>0.290081</td>\n",
              "      <td>0.239091</td>\n",
              "      <td>0.186248</td>\n",
              "      <td>0.181424</td>\n",
              "      <td>0.698912</td>\n",
              "      <td>0.668221</td>\n",
              "      <td>0.595645</td>\n",
              "      <td>0.188520</td>\n",
              "      <td>0.742117</td>\n",
              "      <td>...</td>\n",
              "      <td>0.930173</td>\n",
              "      <td>0.752361</td>\n",
              "      <td>0.949720</td>\n",
              "      <td>0.703973</td>\n",
              "      <td>0.878949</td>\n",
              "      <td>0.980203</td>\n",
              "      <td>0.596228</td>\n",
              "      <td>0.493863</td>\n",
              "      <td>0.967554</td>\n",
              "      <td>0.942768</td>\n",
              "      <td>0.912720</td>\n",
              "      <td>0.672722</td>\n",
              "      <td>0.815762</td>\n",
              "      <td>0.928429</td>\n",
              "      <td>0.894401</td>\n",
              "      <td>0.779206</td>\n",
              "      <td>0.807829</td>\n",
              "      <td>0.680214</td>\n",
              "      <td>0.929477</td>\n",
              "      <td>0.665337</td>\n",
              "      <td>0.546577</td>\n",
              "      <td>0.772685</td>\n",
              "      <td>0.813597</td>\n",
              "      <td>0.908839</td>\n",
              "      <td>0.965391</td>\n",
              "      <td>0.830084</td>\n",
              "      <td>0.575911</td>\n",
              "      <td>0.216088</td>\n",
              "      <td>0.953727</td>\n",
              "      <td>0.928157</td>\n",
              "      <td>0.925784</td>\n",
              "      <td>0.862301</td>\n",
              "      <td>0.764830</td>\n",
              "      <td>0.807544</td>\n",
              "      <td>0.839181</td>\n",
              "      <td>0.792784</td>\n",
              "      <td>0.598236</td>\n",
              "      <td>0.614727</td>\n",
              "      <td>0.837588</td>\n",
              "      <td>0.776330</td>\n",
              "    </tr>\n",
              "    <tr>\n",
              "      <th>0</th>\n",
              "      <td>0.153208</td>\n",
              "      <td>0.200241</td>\n",
              "      <td>0.320627</td>\n",
              "      <td>0.707619</td>\n",
              "      <td>0.382740</td>\n",
              "      <td>0.174629</td>\n",
              "      <td>0.160580</td>\n",
              "      <td>0.443081</td>\n",
              "      <td>0.052336</td>\n",
              "      <td>0.246220</td>\n",
              "      <td>0.303229</td>\n",
              "      <td>0.689029</td>\n",
              "      <td>0.494729</td>\n",
              "      <td>0.497055</td>\n",
              "      <td>0.752693</td>\n",
              "      <td>0.238026</td>\n",
              "      <td>0.301867</td>\n",
              "      <td>0.256444</td>\n",
              "      <td>0.176396</td>\n",
              "      <td>0.398544</td>\n",
              "      <td>0.142108</td>\n",
              "      <td>0.122191</td>\n",
              "      <td>0.281571</td>\n",
              "      <td>0.443741</td>\n",
              "      <td>0.153578</td>\n",
              "      <td>0.323780</td>\n",
              "      <td>0.428304</td>\n",
              "      <td>0.484395</td>\n",
              "      <td>0.165579</td>\n",
              "      <td>0.203624</td>\n",
              "      <td>0.266141</td>\n",
              "      <td>0.270244</td>\n",
              "      <td>0.332211</td>\n",
              "      <td>0.138962</td>\n",
              "      <td>0.219736</td>\n",
              "      <td>0.565660</td>\n",
              "      <td>0.524677</td>\n",
              "      <td>0.606687</td>\n",
              "      <td>0.124766</td>\n",
              "      <td>0.837783</td>\n",
              "      <td>...</td>\n",
              "      <td>0.931519</td>\n",
              "      <td>0.549695</td>\n",
              "      <td>0.959580</td>\n",
              "      <td>0.762154</td>\n",
              "      <td>0.763975</td>\n",
              "      <td>0.955101</td>\n",
              "      <td>0.617485</td>\n",
              "      <td>0.491489</td>\n",
              "      <td>0.959333</td>\n",
              "      <td>0.950000</td>\n",
              "      <td>0.924291</td>\n",
              "      <td>0.753507</td>\n",
              "      <td>0.701524</td>\n",
              "      <td>0.968136</td>\n",
              "      <td>0.939579</td>\n",
              "      <td>0.737924</td>\n",
              "      <td>0.752400</td>\n",
              "      <td>0.739819</td>\n",
              "      <td>0.937696</td>\n",
              "      <td>0.840804</td>\n",
              "      <td>0.445838</td>\n",
              "      <td>0.761985</td>\n",
              "      <td>0.785897</td>\n",
              "      <td>0.889640</td>\n",
              "      <td>0.959833</td>\n",
              "      <td>0.829334</td>\n",
              "      <td>0.617322</td>\n",
              "      <td>0.302493</td>\n",
              "      <td>0.964755</td>\n",
              "      <td>0.953104</td>\n",
              "      <td>0.893583</td>\n",
              "      <td>0.840187</td>\n",
              "      <td>0.732569</td>\n",
              "      <td>0.870096</td>\n",
              "      <td>0.814159</td>\n",
              "      <td>0.780339</td>\n",
              "      <td>0.714859</td>\n",
              "      <td>0.546560</td>\n",
              "      <td>0.796309</td>\n",
              "      <td>0.584566</td>\n",
              "    </tr>\n",
              "  </tbody>\n",
              "</table>\n",
              "<p>5 rows × 272 columns</p>\n",
              "</div>"
            ],
            "text/plain": [
              "   train_14.png  train_24.png  ...  train_3129.png  train_974.png\n",
              "0      0.107681      0.118576  ...        0.858478       0.641163\n",
              "0      0.420940      0.394472  ...        0.749276       0.696749\n",
              "0      0.091365      0.153782  ...        0.855516       0.497211\n",
              "0      0.124531      0.173273  ...        0.837588       0.776330\n",
              "0      0.153208      0.200241  ...        0.796309       0.584566\n",
              "\n",
              "[5 rows x 272 columns]"
            ]
          },
          "metadata": {
            "tags": []
          },
          "execution_count": 29
        }
      ]
    },
    {
      "cell_type": "code",
      "metadata": {
        "id": "ovTZBVvOn9v3"
      },
      "source": [
        "tabular_res.index=[0,1,2,3,4]"
      ],
      "execution_count": null,
      "outputs": []
    },
    {
      "cell_type": "code",
      "metadata": {
        "id": "ZXoBKvFBn9v4"
      },
      "source": [
        "data=tabular_res.transpose()"
      ],
      "execution_count": null,
      "outputs": []
    },
    {
      "cell_type": "code",
      "metadata": {
        "id": "_GU8q7d_n9v4",
        "colab": {
          "base_uri": "https://localhost:8080/",
          "height": 204
        },
        "outputId": "76505ab0-3d51-4cda-fe19-e43d6349571d"
      },
      "source": [
        "data.head()"
      ],
      "execution_count": null,
      "outputs": [
        {
          "output_type": "execute_result",
          "data": {
            "text/html": [
              "<div>\n",
              "<style scoped>\n",
              "    .dataframe tbody tr th:only-of-type {\n",
              "        vertical-align: middle;\n",
              "    }\n",
              "\n",
              "    .dataframe tbody tr th {\n",
              "        vertical-align: top;\n",
              "    }\n",
              "\n",
              "    .dataframe thead th {\n",
              "        text-align: right;\n",
              "    }\n",
              "</style>\n",
              "<table border=\"1\" class=\"dataframe\">\n",
              "  <thead>\n",
              "    <tr style=\"text-align: right;\">\n",
              "      <th></th>\n",
              "      <th>0</th>\n",
              "      <th>1</th>\n",
              "      <th>2</th>\n",
              "      <th>3</th>\n",
              "      <th>4</th>\n",
              "    </tr>\n",
              "  </thead>\n",
              "  <tbody>\n",
              "    <tr>\n",
              "      <th>train_14.png</th>\n",
              "      <td>0.107681</td>\n",
              "      <td>0.420940</td>\n",
              "      <td>0.091365</td>\n",
              "      <td>0.124531</td>\n",
              "      <td>0.153208</td>\n",
              "    </tr>\n",
              "    <tr>\n",
              "      <th>train_24.png</th>\n",
              "      <td>0.118576</td>\n",
              "      <td>0.394472</td>\n",
              "      <td>0.153782</td>\n",
              "      <td>0.173273</td>\n",
              "      <td>0.200241</td>\n",
              "    </tr>\n",
              "    <tr>\n",
              "      <th>train_49.png</th>\n",
              "      <td>0.307205</td>\n",
              "      <td>0.379758</td>\n",
              "      <td>0.278223</td>\n",
              "      <td>0.297116</td>\n",
              "      <td>0.320627</td>\n",
              "    </tr>\n",
              "    <tr>\n",
              "      <th>train_104.png</th>\n",
              "      <td>0.689934</td>\n",
              "      <td>0.682251</td>\n",
              "      <td>0.637312</td>\n",
              "      <td>0.794334</td>\n",
              "      <td>0.707619</td>\n",
              "    </tr>\n",
              "    <tr>\n",
              "      <th>train_199.png</th>\n",
              "      <td>0.316198</td>\n",
              "      <td>0.468832</td>\n",
              "      <td>0.301948</td>\n",
              "      <td>0.331597</td>\n",
              "      <td>0.382740</td>\n",
              "    </tr>\n",
              "  </tbody>\n",
              "</table>\n",
              "</div>"
            ],
            "text/plain": [
              "                      0         1         2         3         4\n",
              "train_14.png   0.107681  0.420940  0.091365  0.124531  0.153208\n",
              "train_24.png   0.118576  0.394472  0.153782  0.173273  0.200241\n",
              "train_49.png   0.307205  0.379758  0.278223  0.297116  0.320627\n",
              "train_104.png  0.689934  0.682251  0.637312  0.794334  0.707619\n",
              "train_199.png  0.316198  0.468832  0.301948  0.331597  0.382740"
            ]
          },
          "metadata": {
            "tags": []
          },
          "execution_count": 32
        }
      ]
    },
    {
      "cell_type": "markdown",
      "metadata": {
        "id": "bjOo-Jurn9v4"
      },
      "source": [
        "# Evaluation\n",
        "\n",
        "This is the part what I just started to extract some impressions. \n",
        "\n",
        "What seems:\n",
        "\n",
        "+ The predicted confidency scores are very much correlated (not surprisingly)\n",
        "+ As you approach the average 0.5 'threshold', the predictions become more scattered and less correlated\n",
        "    + Hence we may use our 5 models in this regime as an utiliy embedding pictures into a 5D space. Then the task would be building a classifier on this data. (like the PB dataset)\n",
        "        + consider: selecting the appropriate regime (maybe near 0.5)\n",
        "        + maybe not all nets shall have same voting power?\n",
        "        + evaluate the performance of the 5D classifier on BALANCED test set!"
      ]
    },
    {
      "cell_type": "code",
      "metadata": {
        "id": "Df3LfO9en9v5"
      },
      "source": [
        "import matplotlib.pyplot as plt"
      ],
      "execution_count": null,
      "outputs": []
    },
    {
      "cell_type": "code",
      "metadata": {
        "id": "82_eX1Kbn9v5",
        "colab": {
          "base_uri": "https://localhost:8080/",
          "height": 204
        },
        "outputId": "0c409bcd-c992-418b-ac12-d6f94bbbc8c3"
      },
      "source": [
        "data.corr()"
      ],
      "execution_count": null,
      "outputs": [
        {
          "output_type": "execute_result",
          "data": {
            "text/html": [
              "<div>\n",
              "<style scoped>\n",
              "    .dataframe tbody tr th:only-of-type {\n",
              "        vertical-align: middle;\n",
              "    }\n",
              "\n",
              "    .dataframe tbody tr th {\n",
              "        vertical-align: top;\n",
              "    }\n",
              "\n",
              "    .dataframe thead th {\n",
              "        text-align: right;\n",
              "    }\n",
              "</style>\n",
              "<table border=\"1\" class=\"dataframe\">\n",
              "  <thead>\n",
              "    <tr style=\"text-align: right;\">\n",
              "      <th></th>\n",
              "      <th>0</th>\n",
              "      <th>1</th>\n",
              "      <th>2</th>\n",
              "      <th>3</th>\n",
              "      <th>4</th>\n",
              "    </tr>\n",
              "  </thead>\n",
              "  <tbody>\n",
              "    <tr>\n",
              "      <th>0</th>\n",
              "      <td>1.000000</td>\n",
              "      <td>0.949851</td>\n",
              "      <td>0.971146</td>\n",
              "      <td>0.965335</td>\n",
              "      <td>0.971266</td>\n",
              "    </tr>\n",
              "    <tr>\n",
              "      <th>1</th>\n",
              "      <td>0.949851</td>\n",
              "      <td>1.000000</td>\n",
              "      <td>0.937367</td>\n",
              "      <td>0.942567</td>\n",
              "      <td>0.939843</td>\n",
              "    </tr>\n",
              "    <tr>\n",
              "      <th>2</th>\n",
              "      <td>0.971146</td>\n",
              "      <td>0.937367</td>\n",
              "      <td>1.000000</td>\n",
              "      <td>0.962071</td>\n",
              "      <td>0.968139</td>\n",
              "    </tr>\n",
              "    <tr>\n",
              "      <th>3</th>\n",
              "      <td>0.965335</td>\n",
              "      <td>0.942567</td>\n",
              "      <td>0.962071</td>\n",
              "      <td>1.000000</td>\n",
              "      <td>0.963625</td>\n",
              "    </tr>\n",
              "    <tr>\n",
              "      <th>4</th>\n",
              "      <td>0.971266</td>\n",
              "      <td>0.939843</td>\n",
              "      <td>0.968139</td>\n",
              "      <td>0.963625</td>\n",
              "      <td>1.000000</td>\n",
              "    </tr>\n",
              "  </tbody>\n",
              "</table>\n",
              "</div>"
            ],
            "text/plain": [
              "          0         1         2         3         4\n",
              "0  1.000000  0.949851  0.971146  0.965335  0.971266\n",
              "1  0.949851  1.000000  0.937367  0.942567  0.939843\n",
              "2  0.971146  0.937367  1.000000  0.962071  0.968139\n",
              "3  0.965335  0.942567  0.962071  1.000000  0.963625\n",
              "4  0.971266  0.939843  0.968139  0.963625  1.000000"
            ]
          },
          "metadata": {
            "tags": []
          },
          "execution_count": 34
        }
      ]
    },
    {
      "cell_type": "code",
      "metadata": {
        "id": "m4OT2W8Pn9v7",
        "outputId": "d623bd2d-8214-4525-bb36-4e9b153880bc"
      },
      "source": [
        "plt.figure(figsize=(12,8))\n",
        "plt.hist(data.loc[test_tiger_names,:].mean(axis=1),bins=20,label='tiger',alpha=0.5)\n",
        "plt.hist(data.loc[test_other_names,:].mean(axis=1),bins=20,label='other',alpha=0.5)\n",
        "plt.axvline(0.5)\n",
        "plt.legend()\n",
        "plt.show()"
      ],
      "execution_count": null,
      "outputs": [
        {
          "output_type": "display_data",
          "data": {
            "image/png": "[encoded data removed]",
            "text/plain": [
              "<Figure size 864x576 with 1 Axes>"
            ]
          },
          "metadata": {
            "tags": [],
            "needs_background": "light"
          }
        }
      ]
    },
    {
      "cell_type": "code",
      "metadata": {
        "id": "TPOtAQ0hn9v8",
        "outputId": "5c1ac37a-3f12-4c7b-b1ab-c6e61ce285e6"
      },
      "source": [
        "plt.figure(figsize=(12,8))\n",
        "plt.scatter(data.loc[test_tiger_names,:].mean(axis=1),\n",
        "             data.loc[test_tiger_names,:].std(axis=1),label='tiger')\n",
        "plt.scatter(data.loc[test_other_names,:].mean(axis=1),\n",
        "            data.loc[test_other_names,:].std(axis=1),label='other')\n",
        "plt.axvline(0.5)\n",
        "plt.xlabel('Mean confidency')\n",
        "plt.ylabel('standard deviation among the five')\n",
        "plt.legend()\n",
        "plt.show()"
      ],
      "execution_count": null,
      "outputs": [
        {
          "output_type": "display_data",
          "data": {
            "image/png": "[encoded data removed]",
            "text/plain": [
              "<Figure size 864x576 with 1 Axes>"
            ]
          },
          "metadata": {
            "tags": [],
            "needs_background": "light"
          }
        }
      ]
    },
    {
      "cell_type": "markdown",
      "metadata": {
        "id": "k49YVXSxn9v9"
      },
      "source": [
        "The below 'cross' plots are only to get some feeling of the _order_ of points that may be 'saved' with a better 5D classifier.\n",
        "\n",
        "(Eg. the ones for which the minimal and maximal confidency score would imply different predicted classes. This is only a rough estimate of course.)"
      ]
    },
    {
      "cell_type": "code",
      "metadata": {
        "id": "sWmIULPan9v9",
        "colab": {
          "base_uri": "https://localhost:8080/",
          "height": 621
        },
        "outputId": "6bf582be-b8e5-48d0-ff10-707aed5ad141"
      },
      "source": [
        "plt.figure(figsize=(10,10))\n",
        "plt.title('tiger test samples')\n",
        "plt.scatter(data.loc[test_tiger_names,:].min(axis=1),\n",
        "             data.loc[test_tiger_names,:].max(axis=1),label='tiger')\n",
        "# plt.scatter(data.loc[test_other_names,:].min(axis=1),\n",
        "#             data.loc[test_other_names,:].max(axis=1),label='other')\n",
        "plt.xlabel('minimal confidency score from ensamble')\n",
        "plt.ylabel('maximal confidency score')\n",
        "plt.plot([0,1],[0,1])\n",
        "plt.axvline(0.5)\n",
        "plt.axhline(0.5)\n",
        "# plt.legend()\n",
        "plt.show()"
      ],
      "execution_count": null,
      "outputs": [
        {
          "output_type": "display_data",
          "data": {
            "image/png": "[encoded data removed]",
            "text/plain": [
              "<Figure size 720x720 with 1 Axes>"
            ]
          },
          "metadata": {
            "tags": [],
            "needs_background": "light"
          }
        }
      ]
    },
    {
      "cell_type": "code",
      "metadata": {
        "id": "pLax3-V4n9v9",
        "colab": {
          "base_uri": "https://localhost:8080/",
          "height": 621
        },
        "outputId": "b8dac52c-5862-461e-83a7-c4821919a3c3"
      },
      "source": [
        "plt.figure(figsize=(10,10))\n",
        "plt.title('other test samples')\n",
        "# plt.scatter(data.loc[test_tiger_names,:].min(axis=1),\n",
        "#              data.loc[test_tiger_names,:].max(axis=1),label='tiger')\n",
        "plt.scatter(data.loc[test_other_names,:].min(axis=1),\n",
        "            data.loc[test_other_names,:].max(axis=1),label='other')\n",
        "plt.xlabel('minimal confidency score from ensamble')\n",
        "plt.ylabel('maximal confidency score')\n",
        "plt.plot([0,1],[0,1])\n",
        "plt.axvline(0.5)\n",
        "plt.axhline(0.5)\n",
        "# plt.legend()\n",
        "plt.show()"
      ],
      "execution_count": null,
      "outputs": [
        {
          "output_type": "display_data",
          "data": {
            "image/png": "[encoded data removed]",
            "text/plain": [
              "<Figure size 720x720 with 1 Axes>"
            ]
          },
          "metadata": {
            "tags": [],
            "needs_background": "light"
          }
        }
      ]
    },
    {
      "cell_type": "code",
      "metadata": {
        "id": "Lu_58KsXn9v-"
      },
      "source": [
        "ahead_redemption=data[np.abs(0.5-data.mean(axis=1))<0.2]"
      ],
      "execution_count": null,
      "outputs": []
    },
    {
      "cell_type": "code",
      "metadata": {
        "id": "1kYMjtCZn9v-",
        "colab": {
          "base_uri": "https://localhost:8080/",
          "height": 204
        },
        "outputId": "8273222c-a31f-4c06-9fad-b5720798bc2a"
      },
      "source": [
        "ahead_redemption.corr() # this is the part what matters - much weaker correlations!"
      ],
      "execution_count": null,
      "outputs": [
        {
          "output_type": "execute_result",
          "data": {
            "text/html": [
              "<div>\n",
              "<style scoped>\n",
              "    .dataframe tbody tr th:only-of-type {\n",
              "        vertical-align: middle;\n",
              "    }\n",
              "\n",
              "    .dataframe tbody tr th {\n",
              "        vertical-align: top;\n",
              "    }\n",
              "\n",
              "    .dataframe thead th {\n",
              "        text-align: right;\n",
              "    }\n",
              "</style>\n",
              "<table border=\"1\" class=\"dataframe\">\n",
              "  <thead>\n",
              "    <tr style=\"text-align: right;\">\n",
              "      <th></th>\n",
              "      <th>0</th>\n",
              "      <th>1</th>\n",
              "      <th>2</th>\n",
              "      <th>3</th>\n",
              "      <th>4</th>\n",
              "    </tr>\n",
              "  </thead>\n",
              "  <tbody>\n",
              "    <tr>\n",
              "      <th>0</th>\n",
              "      <td>1.000000</td>\n",
              "      <td>0.700974</td>\n",
              "      <td>0.821353</td>\n",
              "      <td>0.795057</td>\n",
              "      <td>0.806789</td>\n",
              "    </tr>\n",
              "    <tr>\n",
              "      <th>1</th>\n",
              "      <td>0.700974</td>\n",
              "      <td>1.000000</td>\n",
              "      <td>0.613815</td>\n",
              "      <td>0.708974</td>\n",
              "      <td>0.646135</td>\n",
              "    </tr>\n",
              "    <tr>\n",
              "      <th>2</th>\n",
              "      <td>0.821353</td>\n",
              "      <td>0.613815</td>\n",
              "      <td>1.000000</td>\n",
              "      <td>0.761456</td>\n",
              "      <td>0.771120</td>\n",
              "    </tr>\n",
              "    <tr>\n",
              "      <th>3</th>\n",
              "      <td>0.795057</td>\n",
              "      <td>0.708974</td>\n",
              "      <td>0.761456</td>\n",
              "      <td>1.000000</td>\n",
              "      <td>0.780679</td>\n",
              "    </tr>\n",
              "    <tr>\n",
              "      <th>4</th>\n",
              "      <td>0.806789</td>\n",
              "      <td>0.646135</td>\n",
              "      <td>0.771120</td>\n",
              "      <td>0.780679</td>\n",
              "      <td>1.000000</td>\n",
              "    </tr>\n",
              "  </tbody>\n",
              "</table>\n",
              "</div>"
            ],
            "text/plain": [
              "          0         1         2         3         4\n",
              "0  1.000000  0.700974  0.821353  0.795057  0.806789\n",
              "1  0.700974  1.000000  0.613815  0.708974  0.646135\n",
              "2  0.821353  0.613815  1.000000  0.761456  0.771120\n",
              "3  0.795057  0.708974  0.761456  1.000000  0.780679\n",
              "4  0.806789  0.646135  0.771120  0.780679  1.000000"
            ]
          },
          "metadata": {
            "tags": []
          },
          "execution_count": 38
        }
      ]
    },
    {
      "cell_type": "code",
      "metadata": {
        "id": "XTd_9V1tn9v-"
      },
      "source": [
        "tiger_data=data.loc[test_tiger_names,:]\n",
        "other_data=data.loc[test_other_names,:]"
      ],
      "execution_count": null,
      "outputs": []
    },
    {
      "cell_type": "code",
      "metadata": {
        "id": "3cKKGI9Un9v_"
      },
      "source": [
        "id1=3\n",
        "id2=1"
      ],
      "execution_count": null,
      "outputs": []
    },
    {
      "cell_type": "code",
      "metadata": {
        "id": "jLWPNI9_n9v_",
        "colab": {
          "base_uri": "https://localhost:8080/",
          "height": 283
        },
        "outputId": "46a6071e-27e5-48ec-f262-3b8648d8ead7"
      },
      "source": [
        "plt.figure()\n",
        "plt.scatter(tiger_data[np.abs(0.5-tiger_data.mean(axis=1))<0.2][id1],\n",
        "           tiger_data[np.abs(0.5-tiger_data.mean(axis=1))<0.2][id2],label='tiger')\n",
        "plt.scatter(other_data[np.abs(0.5-other_data.mean(axis=1))<0.2][id1],\n",
        "           other_data[np.abs(0.5-other_data.mean(axis=1))<0.2][id2],label='other')\n",
        "plt.legend()"
      ],
      "execution_count": null,
      "outputs": [
        {
          "output_type": "execute_result",
          "data": {
            "text/plain": [
              "<matplotlib.legend.Legend at 0x7fef05a1ffd0>"
            ]
          },
          "metadata": {
            "tags": []
          },
          "execution_count": 41
        },
        {
          "output_type": "display_data",
          "data": {
            "image/png": "[encoded data removed]",
            "text/plain": [
              "<Figure size 432x288 with 1 Axes>"
            ]
          },
          "metadata": {
            "tags": [],
            "needs_background": "light"
          }
        }
      ]
    },
    {
      "cell_type": "markdown",
      "metadata": {
        "id": "5MBrOnxtpk8d"
      },
      "source": [
        "According to these evaluations, the next step is to do a 5-dimensional regression on the output of the five models. Note, that each model outputs a confidency score between 0 and 1 for each image (1 means that the model has full confidency that the image containts a tiger mosquito)."
      ]
    },
    {
      "cell_type": "markdown",
      "metadata": {
        "id": "WkQEk3vNqXWI"
      },
      "source": [
        "The three regression models we used are Logistic regression, Support Vector Machine, and Decision tree."
      ]
    },
    {
      "cell_type": "markdown",
      "metadata": {
        "id": "35Zr9QZ5qjMB"
      },
      "source": [
        "First, we construct the Majority Vote of the 5 models."
      ]
    },
    {
      "cell_type": "code",
      "metadata": {
        "id": "jUHrt3__qQvg"
      },
      "source": [
        "from sklearn.linear_model import LogisticRegression\r\n",
        "from sklearn.model_selection import train_test_split\r\n",
        "from sklearn import tree\r\n",
        "from sklearn import svm\r\n",
        "\r\n",
        "\r\n",
        "labels = pd.read_csv('drive/My Drive/AML2020/train.csv')\r\n",
        "indeces = []\r\n",
        "for pic in list(data.index):\r\n",
        "    index = list(labels['file']).index('images/'+pic)\r\n",
        "    indeces.append(index)\r\n",
        "\r\n",
        "labels_data = labels.iloc[indeces]\r\n",
        "data['labels'] = list(labels_data['is_tiger'])\r\n",
        "\r\n",
        "X, y = data[[0,1,2,3,4]], data['labels'] \r\n",
        "X_train, X_test, y_train, y_test = train_test_split(X, y, test_size=0.33, random_state=42)\r\n",
        "\r\n",
        "a0_train = np.reshape(X_train[0].to_numpy(),(-1,1))\r\n",
        "a0_test = np.reshape(X_test[0].to_numpy(),(-1,1))\r\n",
        "clf_0 = tree.DecisionTreeClassifier().fit(a0_train,y_train)\r\n",
        "X_test['dt0'] = clf_0.predict(a0_test)\r\n",
        "a1_train = np.reshape(X_train[1].to_numpy(),(-1,1))\r\n",
        "a1_test = np.reshape(X_test[1].to_numpy(),(-1,1))\r\n",
        "clf_1 = tree.DecisionTreeClassifier().fit(a1_train,y_train)\r\n",
        "X_test['dt1'] = clf_1.predict(a1_test)\r\n",
        "a2_train = np.reshape(X_train[2].to_numpy(),(-1,1))\r\n",
        "a2_test = np.reshape(X_test[2].to_numpy(),(-1,1))\r\n",
        "clf_2 = tree.DecisionTreeClassifier().fit(a2_train,y_train)\r\n",
        "X_test['dt2'] = clf_2.predict(a2_test)\r\n",
        "a3_train = np.reshape(X_train[3].to_numpy(),(-1,1))\r\n",
        "a3_test = np.reshape(X_test[3].to_numpy(),(-1,1))\r\n",
        "clf_3 = tree.DecisionTreeClassifier().fit(a3_train,y_train)\r\n",
        "X_test['dt3'] = clf_3.predict(a3_test)\r\n",
        "a4_train = np.reshape(X_train[4].to_numpy(),(-1,1))\r\n",
        "a4_test = np.reshape(X_test[4].to_numpy(),(-1,1))\r\n",
        "clf_4 = tree.DecisionTreeClassifier().fit(a4_train,y_train)\r\n",
        "X_test['dt4'] = clf_4.predict(a4_test)"
      ],
      "execution_count": null,
      "outputs": []
    },
    {
      "cell_type": "code",
      "metadata": {
        "id": "tRouoA-LqURY"
      },
      "source": [
        "X_test['MV'] = round((X_test['dt0']+X_test['dt1']+X_test['dt2']+X_test['dt3']+X_test['dt4'])/5)"
      ],
      "execution_count": null,
      "outputs": []
    },
    {
      "cell_type": "code",
      "metadata": {
        "id": "_9VCuB4y-5o7",
        "colab": {
          "base_uri": "https://localhost:8080/"
        },
        "outputId": "967831a9-77e7-4c67-c6f1-6b6e939497f2"
      },
      "source": [
        "data[0].round()"
      ],
      "execution_count": null,
      "outputs": [
        {
          "output_type": "execute_result",
          "data": {
            "text/plain": [
              "train_14.png      0.0\n",
              "train_24.png      0.0\n",
              "train_49.png      0.0\n",
              "train_104.png     1.0\n",
              "train_199.png     0.0\n",
              "                 ... \n",
              "train_4229.png    1.0\n",
              "train_4099.png    1.0\n",
              "train_2804.png    1.0\n",
              "train_3129.png    1.0\n",
              "train_974.png     1.0\n",
              "Name: 0, Length: 272, dtype: float64"
            ]
          },
          "metadata": {
            "tags": []
          },
          "execution_count": 50
        }
      ]
    },
    {
      "cell_type": "markdown",
      "metadata": {
        "id": "ZWlAk6zCrMaI"
      },
      "source": [
        "Define the accuracies of the Majority vote."
      ]
    },
    {
      "cell_type": "code",
      "metadata": {
        "id": "56WFjfrCrL2w"
      },
      "source": [
        "mv_acc = sum(1 for x,y in zip(X_test['MV'],y_test) if x == y) / len(y_test)\r\n",
        "mv_acc_tiger = sum(1 for x,y in zip(X_test['MV'],y_test) if x == 1 == y ) / sum(y_test)\r\n",
        "mv_acc_not_tiger = sum(1 for x,y in zip(X_test['MV'],y_test) if x == 0 == y) / (len(y_test) - sum(y_test))"
      ],
      "execution_count": null,
      "outputs": []
    },
    {
      "cell_type": "markdown",
      "metadata": {
        "id": "4PyzMYSjq-Xe"
      },
      "source": [
        "Define the accuracies of the best model."
      ]
    },
    {
      "cell_type": "code",
      "metadata": {
        "id": "jctuKwX5q92L",
        "colab": {
          "base_uri": "https://localhost:8080/"
        },
        "outputId": "83b48768-282a-4c64-d052-c51d28ade423"
      },
      "source": [
        "model_acc0 = sum(1 for x,y in zip(data[0].round(),data['labels']) if x == y) / len(data)\r\n",
        "model_acc1 = sum(1 for x,y in zip(data[1].round(),data['labels']) if x == y) / len(data)\r\n",
        "model_acc2 = sum(1 for x,y in zip(data[2].round(),data['labels']) if x == y) / len(data)\r\n",
        "model_acc3 = sum(1 for x,y in zip(data[3].round(),data['labels']) if x == y) / len(data)\r\n",
        "model_acc4 = sum(1 for x,y in zip(data[4].round(),data['labels']) if x == y) / len(data)\r\n",
        "print(model_acc0,model_acc1,model_acc2,model_acc3,model_acc4)"
      ],
      "execution_count": null,
      "outputs": [
        {
          "output_type": "stream",
          "text": [
            "0.8014705882352942 0.7647058823529411 0.8235294117647058 0.8235294117647058 0.8088235294117647\n"
          ],
          "name": "stdout"
        }
      ]
    },
    {
      "cell_type": "code",
      "metadata": {
        "id": "U3n-IfNS_gh7"
      },
      "source": [
        "mv4_acc_tiger = sum(1 for x,y in zip(data[3].round(),data['labels']) if x == 1 == y ) / sum(data['labels'])\r\n",
        "mv4_acc_not_tiger = sum(1 for x,y in zip(data[3].round(),data['labels']) if x == 0 == y) / (len(data) - sum(data['labels']))\r\n"
      ],
      "execution_count": null,
      "outputs": []
    },
    {
      "cell_type": "code",
      "metadata": {
        "id": "9nPxKrmcrVti"
      },
      "source": [
        "weights_tiger=[]\r\n",
        "weights_not_tiger=[]\r\n",
        "#for i in range(len(data)):\r\n",
        "  #if data['labels'][i] == 1:\r\n",
        "    #weights_not_tiger.append(0)\r\n",
        "    #weights_tiger.append(1/(sum(data['labels'])))\r\n",
        "  #else:\r\n",
        "    #weights_not_tiger.append(1/(len(data) - sum(data['labels'])))\r\n",
        "    #weights_tiger.append(0)\r\n",
        "for i in range(len(X_test)):\r\n",
        "  if y_test[i] == 1:\r\n",
        "    weights_not_tiger.append(0)\r\n",
        "    weights_tiger.append(1/(sum(y_test)))\r\n",
        "  else:\r\n",
        "    weights_not_tiger.append(1/(len(X_test) - sum(y_test)))\r\n",
        "    weights_tiger.append(0)"
      ],
      "execution_count": null,
      "outputs": []
    },
    {
      "cell_type": "markdown",
      "metadata": {
        "id": "j7S0M0Q5r3Ag"
      },
      "source": [
        "The three regression models we used: Logistic regression, Decision tree and Support Vector Machine."
      ]
    },
    {
      "cell_type": "code",
      "metadata": {
        "id": "gBb5ZGbRroMz"
      },
      "source": [
        "X, y = data[[0,1,2,3,4]], data['labels'] \r\n",
        "X_train, X_test, y_train, y_test = train_test_split(X, y, test_size=0.33, random_state=42)\r\n",
        "clf = LogisticRegression(random_state=0).fit(X_train,y_train)\r\n",
        "clf2 = svm.SVC().fit(X_train,y_train)\r\n",
        "clf3 = tree.DecisionTreeClassifier().fit(X_train,y_train)"
      ],
      "execution_count": null,
      "outputs": []
    },
    {
      "cell_type": "markdown",
      "metadata": {
        "id": "cHJUFnGPsNPw"
      },
      "source": [
        "Put the accuracies in a Dataframe."
      ]
    },
    {
      "cell_type": "code",
      "metadata": {
        "id": "_DBcBFFLsQnQ",
        "colab": {
          "base_uri": "https://localhost:8080/",
          "height": 204
        },
        "outputId": "0d1f6662-de10-4b40-be77-59e8989bf28c"
      },
      "source": [
        "results = pd.DataFrame()\r\n",
        "results['Overall Accuracy'] = [clf.score(X_test,y_test),clf2.score(X_test,y_test),clf3.score(X_test,y_test),mv_acc,model_acc3]\r\n",
        "results['Tiger Accuracy'] = [clf.score(X_test,y_test,sample_weight=weights_tiger),clf2.score(X_test,y_test,sample_weight=weights_tiger),clf3.score(X_test,y_test,sample_weight=weights_tiger),mv_acc_tiger,mv4_acc_tiger]\r\n",
        "results['Non-tiger Accuracy'] = [clf.score(X_test,y_test,sample_weight=weights_not_tiger),clf2.score(X_test,y_test,sample_weight=weights_not_tiger),clf3.score(X_test,y_test,sample_weight=weights_not_tiger),mv_acc_not_tiger,mv4_acc_not_tiger]\r\n",
        "results.index = ['LogReg','SVM','DT','Majority','Best model']\r\n",
        "results = results.sort_values('Overall Accuracy')\r\n",
        "results"
      ],
      "execution_count": null,
      "outputs": [
        {
          "output_type": "execute_result",
          "data": {
            "text/html": [
              "<div>\n",
              "<style scoped>\n",
              "    .dataframe tbody tr th:only-of-type {\n",
              "        vertical-align: middle;\n",
              "    }\n",
              "\n",
              "    .dataframe tbody tr th {\n",
              "        vertical-align: top;\n",
              "    }\n",
              "\n",
              "    .dataframe thead th {\n",
              "        text-align: right;\n",
              "    }\n",
              "</style>\n",
              "<table border=\"1\" class=\"dataframe\">\n",
              "  <thead>\n",
              "    <tr style=\"text-align: right;\">\n",
              "      <th></th>\n",
              "      <th>Overall Accuracy</th>\n",
              "      <th>Tiger Accuracy</th>\n",
              "      <th>Non-tiger Accuracy</th>\n",
              "    </tr>\n",
              "  </thead>\n",
              "  <tbody>\n",
              "    <tr>\n",
              "      <th>DT</th>\n",
              "      <td>0.755556</td>\n",
              "      <td>0.731707</td>\n",
              "      <td>0.775510</td>\n",
              "    </tr>\n",
              "    <tr>\n",
              "      <th>Majority</th>\n",
              "      <td>0.811111</td>\n",
              "      <td>0.780488</td>\n",
              "      <td>0.836735</td>\n",
              "    </tr>\n",
              "    <tr>\n",
              "      <th>Best model</th>\n",
              "      <td>0.823529</td>\n",
              "      <td>0.882353</td>\n",
              "      <td>0.764706</td>\n",
              "    </tr>\n",
              "    <tr>\n",
              "      <th>LogReg</th>\n",
              "      <td>0.855556</td>\n",
              "      <td>0.829268</td>\n",
              "      <td>0.877551</td>\n",
              "    </tr>\n",
              "    <tr>\n",
              "      <th>SVM</th>\n",
              "      <td>0.877778</td>\n",
              "      <td>0.804878</td>\n",
              "      <td>0.938776</td>\n",
              "    </tr>\n",
              "  </tbody>\n",
              "</table>\n",
              "</div>"
            ],
            "text/plain": [
              "            Overall Accuracy  Tiger Accuracy  Non-tiger Accuracy\n",
              "DT                  0.755556        0.731707            0.775510\n",
              "Majority            0.811111        0.780488            0.836735\n",
              "Best model          0.823529        0.882353            0.764706\n",
              "LogReg              0.855556        0.829268            0.877551\n",
              "SVM                 0.877778        0.804878            0.938776"
            ]
          },
          "metadata": {
            "tags": []
          },
          "execution_count": 60
        }
      ]
    },
    {
      "cell_type": "markdown",
      "metadata": {
        "id": "vy68lcB9sXV6"
      },
      "source": [
        "Graph the results."
      ]
    },
    {
      "cell_type": "code",
      "metadata": {
        "id": "nPj7K7q0sZsT",
        "colab": {
          "base_uri": "https://localhost:8080/",
          "height": 553
        },
        "outputId": "18ce1bc6-b620-4f40-8419-d94262ff5ebe"
      },
      "source": [
        "import matplotlib.pyplot as plt\r\n",
        "labels = results.index\r\n",
        "\r\n",
        "\r\n",
        "x = np.arange(len(labels))  # the label locations\r\n",
        "width = 0.2  # the width of the bars\r\n",
        "fig, ax = plt.subplots(figsize=(18,9))\r\n",
        "rects1 = ax.bar(x - 1.1*width, results['Overall Accuracy'], width, label='Overall')\r\n",
        "rects2 = ax.bar(x, results['Tiger Accuracy'], width, label='Tiger')\r\n",
        "rects3 = ax.bar(x + 1.1*width, results['Non-tiger Accuracy'], width, label='Non-tiger')\r\n",
        "# Add some text for labels, title and custom x-axis tick labels, etc.\r\n",
        "ax.set_ylabel('Accuracy')\r\n",
        "ax.set_title('Regression on the 5D data')\r\n",
        "ax.set_xticks(x)\r\n",
        "ax.set_xticklabels(labels)\r\n",
        "ax.legend()\r\n",
        "plt.show()"
      ],
      "execution_count": null,
      "outputs": [
        {
          "output_type": "display_data",
          "data": {
            "image/png": "[encoded data removed]",
            "text/plain": [
              "<Figure size 1296x648 with 1 Axes>"
            ]
          },
          "metadata": {
            "tags": [],
            "needs_background": "light"
          }
        }
      ]
    }
  ]
}