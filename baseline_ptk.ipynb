{
 "cells": [
  {
   "cell_type": "markdown",
   "metadata": {},
   "source": [
    "# Mosquito recognition project\n",
    "\n",
    "## project owner Csaba Tóth\n",
    "\n",
    "### collaborator: Péter Kovács"
   ]
  },
  {
   "cell_type": "code",
   "execution_count": 3,
   "metadata": {},
   "outputs": [],
   "source": [
    "import numpy as np\n",
    "import torch\n",
    "import torchvision\n",
    "from torchvision import transforms\n",
    "from tqdm import tqdm\n",
    "import torch\n",
    "import shutil\n",
    "import os\n",
    "import random"
   ]
  },
  {
   "cell_type": "markdown",
   "metadata": {},
   "source": [
    "I have added some checkpointer functionality (for saving the current best model and then reloading it at the end).\n",
    "\n",
    "This utility can be used to reload previously saved models without starting training in the current session. To this purpose, the model number is also required as input. __Important__: do not skip providing this, otherwise you may overwrite existing logs! Naming convention for logfiles is hard-coded into the class, so you can modify that there if you like.\n",
    "\n",
    "Also amendeded _learning rate_ and _lr decay_ parameters for slower learining and more gradual LR decrease. (You may want to play with them too!)"
   ]
  },
  {
   "cell_type": "code",
   "execution_count": 2,
   "metadata": {
    "id": "wok6VHuiP_NA"
   },
   "outputs": [],
   "source": [
    "class BaseLine:\n",
    "    def __init__(self,\n",
    "        input_images_path_ = 'drive/My Drive/AML2020/images',\n",
    "        csv_ = 'drive/My Drive/AML2020/train.csv',\n",
    "        input_path_ = 'drive/My Drive/AML2020',\n",
    "        train_path_ = 'drive/My Drive/AML2020/train',\n",
    "        test_path_ = 'drive/My Drive/AML2020/test',\n",
    "        valid_path_ = 'drive/My Drive/AML2020/validation',\n",
    "                no_=0):\n",
    "        \n",
    "        import torch\n",
    "        import torchvision\n",
    "        \n",
    "        self.input_images_path = input_images_path_\n",
    "        self.csv = csv_\n",
    "        \n",
    "        self.input_path = input_path_\n",
    "        self.train_path = train_path_\n",
    "        self.test_path = test_path_\n",
    "        self.valid_path = valid_path_\n",
    "        self.no=no_\n",
    "\n",
    "    \n",
    "    def folder_generator(self):\n",
    "        import pandas as pd\n",
    "        import logging as log\n",
    "        import os\n",
    "        \n",
    "        csv_labels = pd.read_csv(self.csv)\n",
    "        \n",
    "        images_paths = list(csv_labels['file'])\n",
    "        images_paths = [path.replace('images/', '') for path in images_paths]\n",
    "        \n",
    "        images_labels = list(csv_labels['is_tiger'])\n",
    "        counter = 1\n",
    "        \n",
    "        tiger_path_train = os.path.join(self.train_path, 'tiger')\n",
    "        not_tiger_path_train = os.path.join(self.train_path, 'not_tiger')\n",
    "        \n",
    "        tiger_path_val = os.path.join(self.valid_path, 'tiger')\n",
    "        not_tiger_path_val = os.path.join(self.valid_path, 'not_tiger')\n",
    "        \n",
    "        test_unknown_path = os.path.join(self.test_path, 'unknown')\n",
    "        \n",
    "        os.mkdir(self.train_path)\n",
    "        os.mkdir(tiger_path_train)\n",
    "        os.mkdir(not_tiger_path_train)\n",
    "\n",
    "        os.mkdir(self.valid_path)\n",
    "        os.mkdir(tiger_path_val)\n",
    "        os.mkdir(not_tiger_path_val)\n",
    "        \n",
    "        os.mkdir(self.test_path)\n",
    "        os.mkdir(test_unknown_path)\n",
    "        \n",
    "        #Handling Train Images\n",
    "        print('###Handling Train Images')\n",
    "        for image_name, image_label in zip(images_paths, images_labels):\n",
    "            print('Copying image: {}, with label: {}'.format(image_name, image_label))    \n",
    "            if image_name.split('_')[0] == 'train' and counter % 5 != 0:\n",
    "                if image_label == 1:\n",
    "                    source_dir = os.path.join(self.input_images_path, image_name) \n",
    "                    dest_dir = os.path.join(tiger_path_train, image_name)\n",
    "                    shutil.copy(source_dir, dest_dir)\n",
    "                    counter += 1\n",
    "                    print('Copied image: {} to {}'.format(image_name, tiger_path_train))\n",
    "                else:\n",
    "                    source_dir = os.path.join(self.input_images_path, image_name) \n",
    "                    dest_dir = os.path.join(not_tiger_path_train, image_name)\n",
    "                    shutil.copy(source_dir, dest_dir)\n",
    "                    counter += 1\n",
    "                    print('Copied image: {} to {}'.format(image_name, not_tiger_path_train))\n",
    "            else:\n",
    "                if image_label == 1:\n",
    "                    source_dir = os.path.join(self.input_images_path, image_name) \n",
    "                    dest_dir = os.path.join(tiger_path_val, image_name)\n",
    "                    shutil.copy(source_dir, dest_dir)\n",
    "                    counter += 1\n",
    "                    print('Copied image: {} to {}'.format(image_name, tiger_path_val))\n",
    "                else:\n",
    "                    source_dir = os.path.join(self.input_images_path, image_name) \n",
    "                    dest_dir = os.path.join(not_tiger_path_val, image_name)\n",
    "                    shutil.copy(source_dir, dest_dir)\n",
    "                    counter += 1\n",
    "                    print('Copied image: {} to {}'.format(image_name, not_tiger_path_val))\n",
    "            \n",
    "    \n",
    "    def data_loader(self):\n",
    "        import torch\n",
    "        import torchvision\n",
    "        from torchvision import transforms\n",
    "        \n",
    "        #ImageFolder\n",
    "        #Augementation for train and valid images\n",
    "        \n",
    "        train_transforms = transforms.Compose([\n",
    "            transforms.RandomResizedCrop(224),\n",
    "            transforms.RandomHorizontalFlip(),\n",
    "            transforms.ToTensor(),\n",
    "            transforms.Normalize([0.485, 0.456, 0.406], [0.229, 0.224, 0.225])\n",
    "        ])\n",
    "\n",
    "        val_transforms = transforms.Compose([\n",
    "            transforms.Resize((224, 224)),\n",
    "            transforms.ToTensor(), \n",
    "            transforms.Normalize([0.485, 0.456, 0.406], [0.229, 0.224, 0.225])\n",
    "        ])\n",
    "\n",
    "        train_dataset = torchvision.datasets.ImageFolder(self.train_path, train_transforms)\n",
    "        validation_dataset = torchvision.datasets.ImageFolder(self.valid_path, val_transforms)\n",
    "        \n",
    "        #DataLoader\n",
    "        batch_size = 16\n",
    "        train_dataloader = torch.utils.data.DataLoader(\n",
    "            train_dataset, batch_size=batch_size, shuffle=True, num_workers=batch_size\n",
    "        )\n",
    "\n",
    "        validation_dataloader = torch.utils.data.DataLoader(\n",
    "            validation_dataset, batch_size=batch_size, shuffle=True, num_workers=batch_size\n",
    "        )\n",
    "        print(len(train_dataset), len(validation_dataset))\n",
    "        print(len(train_dataloader), len(validation_dataloader))\n",
    "        return train_dataloader, validation_dataloader\n",
    "    \n",
    "    def show_images(self, train_dataloader):\n",
    "        \n",
    "        import numpy as np\n",
    "        import matplotlib.pyplot as plt\n",
    "        X_batch, y_batch = next(iter(train_dataloader))\n",
    "        mean = np.array([0.485, 0.456, 0.406])\n",
    "        std = np.array([[0.229, 0.224, 0.225]])\n",
    "        for index in range(5):\n",
    "            plt.title(y_batch[index])\n",
    "            plt.imshow(X_batch[index].permute(1,2,0).numpy() * std + mean, )\n",
    "            plt.show()\n",
    "    \n",
    "    def model(self):\n",
    "        from torchvision import models\n",
    "        import torch\n",
    "        model = models.resnet152(pretrained=True) # orginally False - why???\n",
    "        \n",
    "        #Disable grad for all conv layers\n",
    "        for param in model.parameters():\n",
    "            param.requires_grad = False \n",
    "\n",
    "        model.fc = torch.nn.Linear(model.fc.in_features, 2)\n",
    "       \n",
    "        device = torch.device('cuda:0' if torch.cuda.is_available() else 'cpu')\n",
    "        model.to(device)\n",
    "        \n",
    "        loss = torch.nn.CrossEntropyLoss() # deleted crossentropy loss weigths\n",
    "\n",
    "        \n",
    "        optimizer = torch.optim.Adam(model.parameters(),amsgrad=True, lr=5.0e-4) # divided LR by two\n",
    "       \n",
    "        \n",
    "        #Declay LR by a factor of 0.1 every 5th epoch\n",
    "        scheduler = torch.optim.lr_scheduler.StepLR(optimizer, step_size = 2, gamma = 0.5) # gamma to five times\n",
    "        return model, loss, optimizer, scheduler, device\n",
    "    \n",
    "    def train_model(self, model, loss, optimizer, scheduler, train, validation, device, num_epochs):\n",
    "        import torch\n",
    "        from tqdm import tqdm\n",
    "        \n",
    "        best_accuracy=-1\n",
    "        best_path='best'+str(self.no)+'.pth'\n",
    "        \n",
    "        for epoch in range(num_epochs):\n",
    "            print('Epoch {}/{}:'.format(epoch, num_epochs - 1), flush=True)\n",
    "\n",
    "            # Each epoch has a training and validation phase\n",
    "            for phase in ['train', 'val']:\n",
    "                if phase == 'train':\n",
    "                    dataloader = train\n",
    "                    scheduler.step()\n",
    "                    \n",
    "                    model.train()  # Set model to training mode\n",
    "                else:\n",
    "                    dataloader = validation\n",
    "                    model.eval()   # Set model to evaluate mode\n",
    "\n",
    "                running_loss = 0.\n",
    "                running_acc = 0.\n",
    "\n",
    "                # Iterate over data.\n",
    "                for inputs, labels in tqdm(dataloader):\n",
    "                    inputs = inputs.to(device)\n",
    "                    labels = labels.to(device)\n",
    "\n",
    "                    optimizer.zero_grad()\n",
    "\n",
    "                    # forward and backward\n",
    "                    with torch.set_grad_enabled(phase == 'train'):                     \n",
    "                        \n",
    "                        preds = model(inputs).to(device)\n",
    "\n",
    "                        loss_value = loss(preds, labels)\n",
    "                        preds_class = preds.argmax(dim=1)\n",
    "\n",
    "                        # backward + optimize only if in training phase\n",
    "                        if phase == 'train':\n",
    "                            loss_value.backward()\n",
    "                            optimizer.step()\n",
    "\n",
    "                    # statistics\n",
    "                    running_loss += loss_value.item()\n",
    "                    running_acc += (preds_class == labels.data).float().mean()\n",
    "\n",
    "                epoch_loss = running_loss / len(dataloader)\n",
    "                epoch_acc = running_acc / len(dataloader)\n",
    "\n",
    "                print('{} Loss: {:.4f} Acc: {:.4f}'.format(phase, epoch_loss, epoch_acc), flush=True)\n",
    "                \n",
    "                if epoch_acc>best_accuracy and phase=='val' :\n",
    "                    \n",
    "                    self.create_checkpoint(model,optimizer,best_path,epoch,loss_value)\n",
    "                    best_accuracy=epoch_acc\n",
    "        \n",
    "        \n",
    "        self.load_from_checkpoint(model,optimizer,best_path)\n",
    "\n",
    "        return model\n",
    "    \n",
    "    def create_checkpoint(self,model,optimizer,path,epoch,loss):\n",
    "        \n",
    "        # basically copied from the tutorial, \n",
    "        # https://pytorch.org/tutorials/recipes/recipes/saving_and_loading_a_general_checkpoint.html\n",
    "\n",
    "        torch.save({\n",
    "            'epoch': epoch,\n",
    "            'model_state_dict': model.state_dict(),\n",
    "            'optimizer_state_dict': optimizer.state_dict(),\n",
    "            'loss': loss,\n",
    "            }, path)\n",
    "        \n",
    "    def load_from_checkpoint(self,model,optimizer,path):\n",
    "        \n",
    "        # basically copied from the tutorial, \n",
    "        # https://pytorch.org/tutorials/recipes/recipes/saving_and_loading_a_general_checkpoint.html\n",
    "        \n",
    "        checkpoint = torch.load(path)\n",
    "        model.load_state_dict(checkpoint['model_state_dict'])\n",
    "        optimizer.load_state_dict(checkpoint['optimizer_state_dict'])\n",
    "\n",
    "        print('reloading best model of epoch %d, loss %f'%(checkpoint['epoch'],checkpoint['loss']))\n",
    "        \n",
    "    def run(self,num_ep=10):\n",
    "\n",
    "        train_dataloader, validation_dataloader = self.data_loader()\n",
    "        \n",
    "        #Define model\n",
    "        \n",
    "        model, loss, optimizer, scheduler, device = self.model()\n",
    "\n",
    "        #Train model \n",
    "        \n",
    "        trained_model = self.train_model(model, loss, optimizer, scheduler, train_dataloader, validation_dataloader,\n",
    "                                         device, num_epochs=num_ep)\n",
    "        return trained_model"
   ]
  },
  {
   "cell_type": "markdown",
   "metadata": {},
   "source": [
    "# training\n",
    "\n",
    "Just made auxiliary functions for training the five models.\n",
    "\n",
    "__Directory structure was made before this part__ (not contained in the notebook)\n",
    "\n",
    "Generally speaking, inside _train_ and _valid_ directories, there are _m0_,...,_m4_ directories fed into the dataloader machinery. (So with _./tiger_ and _./other_ subdirectories inside."
   ]
  },
  {
   "cell_type": "code",
   "execution_count": 7,
   "metadata": {},
   "outputs": [],
   "source": [
    "def model_(n,basedir='../'):\n",
    "    \n",
    "    \n",
    "    \n",
    "    model=BaseLine(\n",
    "    train_path_=os.path.join(basedir,'images/train/m'+str(n)+'/'),\n",
    "    valid_path_=os.path.join(basedir,'images/valid/m'+str(n)+'/'),\n",
    "    test_path_=os.path.join(basedir,'images/test/'),\n",
    "    no_=n)\n",
    "    \n",
    "    return model"
   ]
  },
  {
   "cell_type": "markdown",
   "metadata": {},
   "source": [
    "As I did training before, I just load the model from the saved logs. (Each net eats up roughly 250 MB)\n",
    "\n",
    "The trick is to use the training machinery that reloads the best model at the end: if you set the epoch number to 0 then it will only do this.\n",
    "\n",
    "__Important__: the naming convention of logfiles in hard-coded into the BaseLine class definition, you only access the number of the model (0,...,4) from outside.\n",
    "\n"
   ]
  },
  {
   "cell_type": "code",
   "execution_count": 20,
   "metadata": {},
   "outputs": [
    {
     "name": "stdout",
     "output_type": "stream",
     "text": [
      "1144 116\n",
      "72 8\n",
      "reloading best model of epoch 5, loss 0.247375\n",
      "1185 112\n",
      "75 7\n",
      "reloading best model of epoch 0, loss 0.506807\n",
      "1145 122\n",
      "72 8\n",
      "reloading best model of epoch 1, loss 0.347989\n",
      "1195 125\n",
      "75 8\n",
      "reloading best model of epoch 3, loss 0.308664\n",
      "1126 109\n",
      "71 7\n",
      "reloading best model of epoch 1, loss 0.460453\n"
     ]
    }
   ],
   "source": [
    "models={}\n",
    "for i in range(5):\n",
    "    m=model_(i)\n",
    "    trained_m=m.run(num_ep=0)\n",
    "    models[i]=trained_m"
   ]
  },
  {
   "cell_type": "markdown",
   "metadata": {},
   "source": [
    "# testing pipeline\n",
    "\n",
    "Assuming that you have trained all the models, their performance should be assessed and compared to each other\n",
    "\n",
    "This is fairly simple but requires getting hands dirty with code. To save time, I hereby present the pipeline I wrote. You may use it or write a different one."
   ]
  },
  {
   "cell_type": "code",
   "execution_count": 60,
   "metadata": {},
   "outputs": [],
   "source": [
    "import pandas as pd"
   ]
  },
  {
   "cell_type": "code",
   "execution_count": 52,
   "metadata": {},
   "outputs": [],
   "source": [
    "import pickle"
   ]
  },
  {
   "cell_type": "markdown",
   "metadata": {},
   "source": [
    "Conversion of model output (unactivated stuff) to confidency scores (auxiliary functions below)"
   ]
  },
  {
   "cell_type": "code",
   "execution_count": 40,
   "metadata": {},
   "outputs": [],
   "source": [
    "def softmax(tensor):\n",
    "    \n",
    "    z=np.sum(np.exp(np.asarray(tensor)))\n",
    "    \n",
    "    return np.exp(np.asarray(tensor))/z\n",
    "    "
   ]
  },
  {
   "cell_type": "code",
   "execution_count": 43,
   "metadata": {},
   "outputs": [],
   "source": [
    "def confidency(preds):\n",
    "    \n",
    "    confidencies=[]\n",
    "    \n",
    "    for pic in range(preds.shape[0]):\n",
    "        \n",
    "        confidencies.append(softmax(preds[pic,:])[1]) # guess that this is the tiger probability\n",
    "        \n",
    "    return confidencies\n",
    "        "
   ]
  },
  {
   "cell_type": "markdown",
   "metadata": {},
   "source": [
    "The actual pipe, consisting of evaluating predictions on the test images in batches.\n",
    "\n",
    "All models are loaded into memory and then set to _evaluate_ mode.\n",
    "\n",
    "Results are stored in dictionary format: (model:(image_name:condfidency)). "
   ]
  },
  {
   "cell_type": "code",
   "execution_count": 21,
   "metadata": {},
   "outputs": [],
   "source": [
    "test_tiger_names=os.listdir('../images/test/tiger')\n",
    "test_other_names=os.listdir('../images/test/other')"
   ]
  },
  {
   "cell_type": "code",
   "execution_count": 50,
   "metadata": {},
   "outputs": [],
   "source": [
    "batch_size=10\n",
    "counter=0\n",
    "to_batch=[]\n",
    "results={}\n",
    "\n",
    "for id_,model in models.items():\n",
    "    results[id_]={}\n",
    "    model.eval()\n",
    "\n",
    "for pic in test_other_names:\n",
    "    to_batch.append((pic,vl_transforms(Image.open('../images/test/other/'+pic))))\n",
    "    counter+=1\n",
    "    \n",
    "    if counter==batch_size:\n",
    "        \n",
    "        batch=torch.cat([(item[1].reshape(-1,3,224,224)).cuda() for item in to_batch ])\n",
    "        \n",
    "        for id_,model in models.items():\n",
    "            \n",
    "            conf=confidency(model(batch).cpu().detach().numpy())\n",
    "            \n",
    "            for idx,item in enumerate(to_batch):\n",
    "            \n",
    "                results[id_][item[0]]=conf[idx]\n",
    "                \n",
    "        counter=0\n",
    "        to_batch=[]\n",
    "        \n",
    "for pic in test_tiger_names:\n",
    "    to_batch.append((pic,vl_transforms(Image.open('../images/test/tiger/'+pic))))\n",
    "    counter+=1\n",
    "    \n",
    "    if counter==batch_size:\n",
    "        \n",
    "        batch=torch.cat([(item[1].reshape(-1,3,224,224)).cuda() for item in to_batch ])\n",
    "        \n",
    "        for id_,model in models.items():\n",
    "            \n",
    "            conf=confidency(model(batch).cpu().detach().numpy())\n",
    "            \n",
    "            for idx,item in enumerate(to_batch):\n",
    "            \n",
    "                results[id_][item[0]]=conf[idx]\n",
    "                \n",
    "        counter=0\n",
    "        to_batch=[]\n",
    "    \n",
    "            \n",
    "if len(to_batch)>0: #some pics remained unevaluated\n",
    "    \n",
    "    batch=torch.cat([(item[1].reshape(-1,3,224,224)).cuda() for item in to_batch ])\n",
    "        \n",
    "    for id_,model in models.items():\n",
    "\n",
    "        conf=confidency(model(batch).cpu().detach().numpy())\n",
    "\n",
    "        for idx,item in enumerate(to_batch):\n",
    "\n",
    "            results[id_][item[0]]=conf[idx]\n",
    "\n",
    "    counter=0\n",
    "    to_batch=[]\n",
    "        \n",
    "    "
   ]
  },
  {
   "cell_type": "markdown",
   "metadata": {},
   "source": [
    "Saving the results to file (safety is the best)"
   ]
  },
  {
   "cell_type": "code",
   "execution_count": 58,
   "metadata": {},
   "outputs": [],
   "source": [
    "f=open('results_dictionary.txt','wb')"
   ]
  },
  {
   "cell_type": "code",
   "execution_count": 59,
   "metadata": {},
   "outputs": [],
   "source": [
    "pickle.dump(results,f)"
   ]
  },
  {
   "cell_type": "markdown",
   "metadata": {},
   "source": [
    "Turn the dictionary into a more manageable DataFrame"
   ]
  },
  {
   "cell_type": "code",
   "execution_count": 79,
   "metadata": {},
   "outputs": [
    {
     "data": {
      "text/html": [
       "<div>\n",
       "<style scoped>\n",
       "    .dataframe tbody tr th:only-of-type {\n",
       "        vertical-align: middle;\n",
       "    }\n",
       "\n",
       "    .dataframe tbody tr th {\n",
       "        vertical-align: top;\n",
       "    }\n",
       "\n",
       "    .dataframe thead th {\n",
       "        text-align: right;\n",
       "    }\n",
       "</style>\n",
       "<table border=\"1\" class=\"dataframe\">\n",
       "  <thead>\n",
       "    <tr style=\"text-align: right;\">\n",
       "      <th></th>\n",
       "      <th>train_2439.png</th>\n",
       "      <th>train_3735.png</th>\n",
       "      <th>train_1331.png</th>\n",
       "      <th>train_1797.png</th>\n",
       "      <th>train_2206.png</th>\n",
       "      <th>train_3463.png</th>\n",
       "      <th>train_2300.png</th>\n",
       "      <th>train_3821.png</th>\n",
       "      <th>train_3544.png</th>\n",
       "      <th>train_802.png</th>\n",
       "      <th>...</th>\n",
       "      <th>train_3685.png</th>\n",
       "      <th>train_3659.png</th>\n",
       "      <th>train_811.png</th>\n",
       "      <th>train_2857.png</th>\n",
       "      <th>train_2639.png</th>\n",
       "      <th>train_3031.png</th>\n",
       "      <th>train_573.png</th>\n",
       "      <th>train_3354.png</th>\n",
       "      <th>train_3875.png</th>\n",
       "      <th>train_4172.png</th>\n",
       "    </tr>\n",
       "  </thead>\n",
       "  <tbody>\n",
       "    <tr>\n",
       "      <th>0</th>\n",
       "      <td>0.050849</td>\n",
       "      <td>0.157535</td>\n",
       "      <td>0.272965</td>\n",
       "      <td>0.225778</td>\n",
       "      <td>0.201483</td>\n",
       "      <td>0.657292</td>\n",
       "      <td>0.030524</td>\n",
       "      <td>0.707292</td>\n",
       "      <td>0.105765</td>\n",
       "      <td>0.076234</td>\n",
       "      <td>...</td>\n",
       "      <td>0.373777</td>\n",
       "      <td>0.697185</td>\n",
       "      <td>0.557367</td>\n",
       "      <td>0.952154</td>\n",
       "      <td>0.960871</td>\n",
       "      <td>0.757117</td>\n",
       "      <td>0.655453</td>\n",
       "      <td>0.309333</td>\n",
       "      <td>0.499517</td>\n",
       "      <td>0.430719</td>\n",
       "    </tr>\n",
       "  </tbody>\n",
       "</table>\n",
       "<p>1 rows × 424 columns</p>\n",
       "</div>"
      ],
      "text/plain": [
       "   train_2439.png  train_3735.png  train_1331.png  train_1797.png  \\\n",
       "0        0.050849        0.157535        0.272965        0.225778   \n",
       "\n",
       "   train_2206.png  train_3463.png  train_2300.png  train_3821.png  \\\n",
       "0        0.201483        0.657292        0.030524        0.707292   \n",
       "\n",
       "   train_3544.png  train_802.png  ...  train_3685.png  train_3659.png  \\\n",
       "0        0.105765       0.076234  ...        0.373777        0.697185   \n",
       "\n",
       "   train_811.png  train_2857.png  train_2639.png  train_3031.png  \\\n",
       "0       0.557367        0.952154        0.960871        0.757117   \n",
       "\n",
       "   train_573.png  train_3354.png  train_3875.png  train_4172.png  \n",
       "0       0.655453        0.309333        0.499517        0.430719  \n",
       "\n",
       "[1 rows x 424 columns]"
      ]
     },
     "execution_count": 79,
     "metadata": {},
     "output_type": "execute_result"
    }
   ],
   "source": [
    "pd.DataFrame.from_dict(rr[0])"
   ]
  },
  {
   "cell_type": "code",
   "execution_count": 64,
   "metadata": {},
   "outputs": [],
   "source": [
    "import copy"
   ]
  },
  {
   "cell_type": "code",
   "execution_count": 76,
   "metadata": {},
   "outputs": [],
   "source": [
    "rr=copy.deepcopy(results)"
   ]
  },
  {
   "cell_type": "code",
   "execution_count": 77,
   "metadata": {},
   "outputs": [],
   "source": [
    "for idx,model in models.items():\n",
    "    for key,value in rr[idx].items():\n",
    "        rr[idx][key]=list([value,])"
   ]
  },
  {
   "cell_type": "code",
   "execution_count": 78,
   "metadata": {},
   "outputs": [
    {
     "data": {
      "text/plain": [
       "list"
      ]
     },
     "execution_count": 78,
     "metadata": {},
     "output_type": "execute_result"
    }
   ],
   "source": [
    "type(rr[0]['train_2439.png'])"
   ]
  },
  {
   "cell_type": "code",
   "execution_count": 81,
   "metadata": {},
   "outputs": [],
   "source": [
    "tabular_res=pd.concat([pd.DataFrame.from_dict(rr[i]) for i in range(5)])"
   ]
  },
  {
   "cell_type": "code",
   "execution_count": 86,
   "metadata": {},
   "outputs": [
    {
     "data": {
      "text/html": [
       "<div>\n",
       "<style scoped>\n",
       "    .dataframe tbody tr th:only-of-type {\n",
       "        vertical-align: middle;\n",
       "    }\n",
       "\n",
       "    .dataframe tbody tr th {\n",
       "        vertical-align: top;\n",
       "    }\n",
       "\n",
       "    .dataframe thead th {\n",
       "        text-align: right;\n",
       "    }\n",
       "</style>\n",
       "<table border=\"1\" class=\"dataframe\">\n",
       "  <thead>\n",
       "    <tr style=\"text-align: right;\">\n",
       "      <th></th>\n",
       "      <th>train_2439.png</th>\n",
       "      <th>train_3735.png</th>\n",
       "      <th>train_1331.png</th>\n",
       "      <th>train_1797.png</th>\n",
       "      <th>train_2206.png</th>\n",
       "      <th>train_3463.png</th>\n",
       "      <th>train_2300.png</th>\n",
       "      <th>train_3821.png</th>\n",
       "      <th>train_3544.png</th>\n",
       "      <th>train_802.png</th>\n",
       "      <th>...</th>\n",
       "      <th>train_3685.png</th>\n",
       "      <th>train_3659.png</th>\n",
       "      <th>train_811.png</th>\n",
       "      <th>train_2857.png</th>\n",
       "      <th>train_2639.png</th>\n",
       "      <th>train_3031.png</th>\n",
       "      <th>train_573.png</th>\n",
       "      <th>train_3354.png</th>\n",
       "      <th>train_3875.png</th>\n",
       "      <th>train_4172.png</th>\n",
       "    </tr>\n",
       "  </thead>\n",
       "  <tbody>\n",
       "    <tr>\n",
       "      <th>0</th>\n",
       "      <td>0.050849</td>\n",
       "      <td>0.157535</td>\n",
       "      <td>0.272965</td>\n",
       "      <td>0.225778</td>\n",
       "      <td>0.201483</td>\n",
       "      <td>0.657292</td>\n",
       "      <td>0.030524</td>\n",
       "      <td>0.707292</td>\n",
       "      <td>0.105765</td>\n",
       "      <td>0.076234</td>\n",
       "      <td>...</td>\n",
       "      <td>0.373777</td>\n",
       "      <td>0.697185</td>\n",
       "      <td>0.557367</td>\n",
       "      <td>0.952154</td>\n",
       "      <td>0.960871</td>\n",
       "      <td>0.757117</td>\n",
       "      <td>0.655453</td>\n",
       "      <td>0.309333</td>\n",
       "      <td>0.499517</td>\n",
       "      <td>0.430719</td>\n",
       "    </tr>\n",
       "    <tr>\n",
       "      <th>1</th>\n",
       "      <td>0.214713</td>\n",
       "      <td>0.285193</td>\n",
       "      <td>0.503139</td>\n",
       "      <td>0.325502</td>\n",
       "      <td>0.350055</td>\n",
       "      <td>0.602504</td>\n",
       "      <td>0.158626</td>\n",
       "      <td>0.565593</td>\n",
       "      <td>0.249919</td>\n",
       "      <td>0.227207</td>\n",
       "      <td>...</td>\n",
       "      <td>0.428141</td>\n",
       "      <td>0.749099</td>\n",
       "      <td>0.646945</td>\n",
       "      <td>0.838197</td>\n",
       "      <td>0.858223</td>\n",
       "      <td>0.678448</td>\n",
       "      <td>0.676586</td>\n",
       "      <td>0.580680</td>\n",
       "      <td>0.724811</td>\n",
       "      <td>0.530995</td>\n",
       "    </tr>\n",
       "    <tr>\n",
       "      <th>2</th>\n",
       "      <td>0.142170</td>\n",
       "      <td>0.175650</td>\n",
       "      <td>0.333277</td>\n",
       "      <td>0.500621</td>\n",
       "      <td>0.305164</td>\n",
       "      <td>0.707267</td>\n",
       "      <td>0.064145</td>\n",
       "      <td>0.684975</td>\n",
       "      <td>0.214277</td>\n",
       "      <td>0.161016</td>\n",
       "      <td>...</td>\n",
       "      <td>0.280951</td>\n",
       "      <td>0.662838</td>\n",
       "      <td>0.508151</td>\n",
       "      <td>0.849662</td>\n",
       "      <td>0.906428</td>\n",
       "      <td>0.670640</td>\n",
       "      <td>0.597543</td>\n",
       "      <td>0.428399</td>\n",
       "      <td>0.593556</td>\n",
       "      <td>0.556293</td>\n",
       "    </tr>\n",
       "    <tr>\n",
       "      <th>3</th>\n",
       "      <td>0.083182</td>\n",
       "      <td>0.146282</td>\n",
       "      <td>0.338035</td>\n",
       "      <td>0.364731</td>\n",
       "      <td>0.289339</td>\n",
       "      <td>0.662985</td>\n",
       "      <td>0.056133</td>\n",
       "      <td>0.661260</td>\n",
       "      <td>0.233222</td>\n",
       "      <td>0.138187</td>\n",
       "      <td>...</td>\n",
       "      <td>0.439631</td>\n",
       "      <td>0.832469</td>\n",
       "      <td>0.595167</td>\n",
       "      <td>0.915569</td>\n",
       "      <td>0.957794</td>\n",
       "      <td>0.787573</td>\n",
       "      <td>0.637794</td>\n",
       "      <td>0.457641</td>\n",
       "      <td>0.641657</td>\n",
       "      <td>0.587652</td>\n",
       "    </tr>\n",
       "    <tr>\n",
       "      <th>4</th>\n",
       "      <td>0.127726</td>\n",
       "      <td>0.201568</td>\n",
       "      <td>0.238096</td>\n",
       "      <td>0.351693</td>\n",
       "      <td>0.222023</td>\n",
       "      <td>0.446872</td>\n",
       "      <td>0.076451</td>\n",
       "      <td>0.497642</td>\n",
       "      <td>0.156930</td>\n",
       "      <td>0.194802</td>\n",
       "      <td>...</td>\n",
       "      <td>0.376090</td>\n",
       "      <td>0.657026</td>\n",
       "      <td>0.521533</td>\n",
       "      <td>0.835441</td>\n",
       "      <td>0.901473</td>\n",
       "      <td>0.698255</td>\n",
       "      <td>0.480274</td>\n",
       "      <td>0.371397</td>\n",
       "      <td>0.474698</td>\n",
       "      <td>0.402718</td>\n",
       "    </tr>\n",
       "  </tbody>\n",
       "</table>\n",
       "<p>5 rows × 424 columns</p>\n",
       "</div>"
      ],
      "text/plain": [
       "   train_2439.png  train_3735.png  train_1331.png  train_1797.png  \\\n",
       "0        0.050849        0.157535        0.272965        0.225778   \n",
       "1        0.214713        0.285193        0.503139        0.325502   \n",
       "2        0.142170        0.175650        0.333277        0.500621   \n",
       "3        0.083182        0.146282        0.338035        0.364731   \n",
       "4        0.127726        0.201568        0.238096        0.351693   \n",
       "\n",
       "   train_2206.png  train_3463.png  train_2300.png  train_3821.png  \\\n",
       "0        0.201483        0.657292        0.030524        0.707292   \n",
       "1        0.350055        0.602504        0.158626        0.565593   \n",
       "2        0.305164        0.707267        0.064145        0.684975   \n",
       "3        0.289339        0.662985        0.056133        0.661260   \n",
       "4        0.222023        0.446872        0.076451        0.497642   \n",
       "\n",
       "   train_3544.png  train_802.png  ...  train_3685.png  train_3659.png  \\\n",
       "0        0.105765       0.076234  ...        0.373777        0.697185   \n",
       "1        0.249919       0.227207  ...        0.428141        0.749099   \n",
       "2        0.214277       0.161016  ...        0.280951        0.662838   \n",
       "3        0.233222       0.138187  ...        0.439631        0.832469   \n",
       "4        0.156930       0.194802  ...        0.376090        0.657026   \n",
       "\n",
       "   train_811.png  train_2857.png  train_2639.png  train_3031.png  \\\n",
       "0       0.557367        0.952154        0.960871        0.757117   \n",
       "1       0.646945        0.838197        0.858223        0.678448   \n",
       "2       0.508151        0.849662        0.906428        0.670640   \n",
       "3       0.595167        0.915569        0.957794        0.787573   \n",
       "4       0.521533        0.835441        0.901473        0.698255   \n",
       "\n",
       "   train_573.png  train_3354.png  train_3875.png  train_4172.png  \n",
       "0       0.655453        0.309333        0.499517        0.430719  \n",
       "1       0.676586        0.580680        0.724811        0.530995  \n",
       "2       0.597543        0.428399        0.593556        0.556293  \n",
       "3       0.637794        0.457641        0.641657        0.587652  \n",
       "4       0.480274        0.371397        0.474698        0.402718  \n",
       "\n",
       "[5 rows x 424 columns]"
      ]
     },
     "execution_count": 86,
     "metadata": {},
     "output_type": "execute_result"
    }
   ],
   "source": [
    "tabular_res"
   ]
  },
  {
   "cell_type": "code",
   "execution_count": 85,
   "metadata": {},
   "outputs": [],
   "source": [
    "tabular_res.index=[0,1,2,3,4]"
   ]
  },
  {
   "cell_type": "code",
   "execution_count": 87,
   "metadata": {},
   "outputs": [],
   "source": [
    "data=tabular_res.transpose()"
   ]
  },
  {
   "cell_type": "code",
   "execution_count": 88,
   "metadata": {},
   "outputs": [
    {
     "data": {
      "text/html": [
       "<div>\n",
       "<style scoped>\n",
       "    .dataframe tbody tr th:only-of-type {\n",
       "        vertical-align: middle;\n",
       "    }\n",
       "\n",
       "    .dataframe tbody tr th {\n",
       "        vertical-align: top;\n",
       "    }\n",
       "\n",
       "    .dataframe thead th {\n",
       "        text-align: right;\n",
       "    }\n",
       "</style>\n",
       "<table border=\"1\" class=\"dataframe\">\n",
       "  <thead>\n",
       "    <tr style=\"text-align: right;\">\n",
       "      <th></th>\n",
       "      <th>0</th>\n",
       "      <th>1</th>\n",
       "      <th>2</th>\n",
       "      <th>3</th>\n",
       "      <th>4</th>\n",
       "    </tr>\n",
       "  </thead>\n",
       "  <tbody>\n",
       "    <tr>\n",
       "      <th>train_2439.png</th>\n",
       "      <td>0.050849</td>\n",
       "      <td>0.214713</td>\n",
       "      <td>0.142170</td>\n",
       "      <td>0.083182</td>\n",
       "      <td>0.127726</td>\n",
       "    </tr>\n",
       "    <tr>\n",
       "      <th>train_3735.png</th>\n",
       "      <td>0.157535</td>\n",
       "      <td>0.285193</td>\n",
       "      <td>0.175650</td>\n",
       "      <td>0.146282</td>\n",
       "      <td>0.201568</td>\n",
       "    </tr>\n",
       "    <tr>\n",
       "      <th>train_1331.png</th>\n",
       "      <td>0.272965</td>\n",
       "      <td>0.503139</td>\n",
       "      <td>0.333277</td>\n",
       "      <td>0.338035</td>\n",
       "      <td>0.238096</td>\n",
       "    </tr>\n",
       "    <tr>\n",
       "      <th>train_1797.png</th>\n",
       "      <td>0.225778</td>\n",
       "      <td>0.325502</td>\n",
       "      <td>0.500621</td>\n",
       "      <td>0.364731</td>\n",
       "      <td>0.351693</td>\n",
       "    </tr>\n",
       "    <tr>\n",
       "      <th>train_2206.png</th>\n",
       "      <td>0.201483</td>\n",
       "      <td>0.350055</td>\n",
       "      <td>0.305164</td>\n",
       "      <td>0.289339</td>\n",
       "      <td>0.222023</td>\n",
       "    </tr>\n",
       "  </tbody>\n",
       "</table>\n",
       "</div>"
      ],
      "text/plain": [
       "                       0         1         2         3         4\n",
       "train_2439.png  0.050849  0.214713  0.142170  0.083182  0.127726\n",
       "train_3735.png  0.157535  0.285193  0.175650  0.146282  0.201568\n",
       "train_1331.png  0.272965  0.503139  0.333277  0.338035  0.238096\n",
       "train_1797.png  0.225778  0.325502  0.500621  0.364731  0.351693\n",
       "train_2206.png  0.201483  0.350055  0.305164  0.289339  0.222023"
      ]
     },
     "execution_count": 88,
     "metadata": {},
     "output_type": "execute_result"
    }
   ],
   "source": [
    "data.head()"
   ]
  },
  {
   "cell_type": "markdown",
   "metadata": {},
   "source": [
    "# Evaluation\n",
    "\n",
    "This is the part what I just started to extract some impressions. \n",
    "\n",
    "What seems:\n",
    "\n",
    "+ The predicted confidency scores are very much correlated (not surprisingly)\n",
    "+ As you approach the average 0.5 'threshold', the predictions become more scattered and less correlated\n",
    "    + Hence we may use our 5 models in this regime as an utiliy embedding pictures into a 5D space. Then the task would be building a classifier on this data. (like the PB dataset)\n",
    "        + consider: selecting the appropriate regime (maybe near 0.5)\n",
    "        + maybe not all nets shall have same voting power?\n",
    "        + evaluate the performance of the 5D classifier on BALANCED test set!"
   ]
  },
  {
   "cell_type": "code",
   "execution_count": 92,
   "metadata": {},
   "outputs": [],
   "source": [
    "import matplotlib.pyplot as plt"
   ]
  },
  {
   "cell_type": "code",
   "execution_count": 89,
   "metadata": {},
   "outputs": [
    {
     "data": {
      "text/html": [
       "<div>\n",
       "<style scoped>\n",
       "    .dataframe tbody tr th:only-of-type {\n",
       "        vertical-align: middle;\n",
       "    }\n",
       "\n",
       "    .dataframe tbody tr th {\n",
       "        vertical-align: top;\n",
       "    }\n",
       "\n",
       "    .dataframe thead th {\n",
       "        text-align: right;\n",
       "    }\n",
       "</style>\n",
       "<table border=\"1\" class=\"dataframe\">\n",
       "  <thead>\n",
       "    <tr style=\"text-align: right;\">\n",
       "      <th></th>\n",
       "      <th>0</th>\n",
       "      <th>1</th>\n",
       "      <th>2</th>\n",
       "      <th>3</th>\n",
       "      <th>4</th>\n",
       "    </tr>\n",
       "  </thead>\n",
       "  <tbody>\n",
       "    <tr>\n",
       "      <th>0</th>\n",
       "      <td>1.000000</td>\n",
       "      <td>0.911949</td>\n",
       "      <td>0.950700</td>\n",
       "      <td>0.957214</td>\n",
       "      <td>0.939811</td>\n",
       "    </tr>\n",
       "    <tr>\n",
       "      <th>1</th>\n",
       "      <td>0.911949</td>\n",
       "      <td>1.000000</td>\n",
       "      <td>0.925330</td>\n",
       "      <td>0.931443</td>\n",
       "      <td>0.902636</td>\n",
       "    </tr>\n",
       "    <tr>\n",
       "      <th>2</th>\n",
       "      <td>0.950700</td>\n",
       "      <td>0.925330</td>\n",
       "      <td>1.000000</td>\n",
       "      <td>0.958799</td>\n",
       "      <td>0.940109</td>\n",
       "    </tr>\n",
       "    <tr>\n",
       "      <th>3</th>\n",
       "      <td>0.957214</td>\n",
       "      <td>0.931443</td>\n",
       "      <td>0.958799</td>\n",
       "      <td>1.000000</td>\n",
       "      <td>0.941893</td>\n",
       "    </tr>\n",
       "    <tr>\n",
       "      <th>4</th>\n",
       "      <td>0.939811</td>\n",
       "      <td>0.902636</td>\n",
       "      <td>0.940109</td>\n",
       "      <td>0.941893</td>\n",
       "      <td>1.000000</td>\n",
       "    </tr>\n",
       "  </tbody>\n",
       "</table>\n",
       "</div>"
      ],
      "text/plain": [
       "          0         1         2         3         4\n",
       "0  1.000000  0.911949  0.950700  0.957214  0.939811\n",
       "1  0.911949  1.000000  0.925330  0.931443  0.902636\n",
       "2  0.950700  0.925330  1.000000  0.958799  0.940109\n",
       "3  0.957214  0.931443  0.958799  1.000000  0.941893\n",
       "4  0.939811  0.902636  0.940109  0.941893  1.000000"
      ]
     },
     "execution_count": 89,
     "metadata": {},
     "output_type": "execute_result"
    }
   ],
   "source": [
    "data.corr()"
   ]
  },
  {
   "cell_type": "code",
   "execution_count": 101,
   "metadata": {},
   "outputs": [
    {
     "data": {
      "image/png": "[encoded data removed]",
      "text/plain": [
       "<Figure size 864x576 with 1 Axes>"
      ]
     },
     "metadata": {
      "needs_background": "light"
     },
     "output_type": "display_data"
    }
   ],
   "source": [
    "plt.figure(figsize=(12,8))\n",
    "plt.hist(data.loc[test_tiger_names,:].mean(axis=1),bins=20,label='tiger',alpha=0.5)\n",
    "plt.hist(data.loc[test_other_names,:].mean(axis=1),bins=20,label='other',alpha=0.5)\n",
    "plt.axvline(0.5)\n",
    "plt.legend()\n",
    "plt.show()"
   ]
  },
  {
   "cell_type": "code",
   "execution_count": 133,
   "metadata": {},
   "outputs": [
    {
     "data": {
      "image/png": "[encoded data removed]",
      "text/plain": [
       "<Figure size 864x576 with 1 Axes>"
      ]
     },
     "metadata": {
      "needs_background": "light"
     },
     "output_type": "display_data"
    }
   ],
   "source": [
    "plt.figure(figsize=(12,8))\n",
    "plt.scatter(data.loc[test_tiger_names,:].mean(axis=1),\n",
    "             data.loc[test_tiger_names,:].std(axis=1),label='tiger')\n",
    "plt.scatter(data.loc[test_other_names,:].mean(axis=1),\n",
    "            data.loc[test_other_names,:].std(axis=1),label='other')\n",
    "plt.axvline(0.5)\n",
    "plt.xlabel('Mean confidency')\n",
    "plt.ylabel('standard deviation among the five')\n",
    "plt.legend()\n",
    "plt.show()"
   ]
  },
  {
   "cell_type": "markdown",
   "metadata": {},
   "source": [
    "The below 'cross' plots are only to get some feeling of the _order_ of points that may be 'saved' with a better 5D classifier.\n",
    "\n",
    "(Eg. the ones for which the minimal and maximal confidency score would imply different predicted classes. This is only a rough estimate of course.)"
   ]
  },
  {
   "cell_type": "code",
   "execution_count": 113,
   "metadata": {},
   "outputs": [
    {
     "data": {
      "image/png": "[encoded data removed]",
      "text/plain": [
       "<Figure size 720x720 with 1 Axes>"
      ]
     },
     "metadata": {
      "needs_background": "light"
     },
     "output_type": "display_data"
    }
   ],
   "source": [
    "plt.figure(figsize=(10,10))\n",
    "plt.title('tiger test samples')\n",
    "plt.scatter(data.loc[test_tiger_names,:].min(axis=1),\n",
    "             data.loc[test_tiger_names,:].max(axis=1),label='tiger')\n",
    "# plt.scatter(data.loc[test_other_names,:].min(axis=1),\n",
    "#             data.loc[test_other_names,:].max(axis=1),label='other')\n",
    "plt.xlabel('minimal confidency score from ensamble')\n",
    "plt.ylabel('maximal confidency score')\n",
    "plt.plot([0,1],[0,1])\n",
    "plt.axvline(0.5)\n",
    "plt.axhline(0.5)\n",
    "# plt.legend()\n",
    "plt.show()"
   ]
  },
  {
   "cell_type": "code",
   "execution_count": 114,
   "metadata": {},
   "outputs": [
    {
     "data": {
      "image/png": "[encoded data removed]",
      "text/plain": [
       "<Figure size 720x720 with 1 Axes>"
      ]
     },
     "metadata": {
      "needs_background": "light"
     },
     "output_type": "display_data"
    }
   ],
   "source": [
    "plt.figure(figsize=(10,10))\n",
    "plt.title('other test samples')\n",
    "# plt.scatter(data.loc[test_tiger_names,:].min(axis=1),\n",
    "#              data.loc[test_tiger_names,:].max(axis=1),label='tiger')\n",
    "plt.scatter(data.loc[test_other_names,:].min(axis=1),\n",
    "            data.loc[test_other_names,:].max(axis=1),label='other')\n",
    "plt.xlabel('minimal confidency score from ensamble')\n",
    "plt.ylabel('maximal confidency score')\n",
    "plt.plot([0,1],[0,1])\n",
    "plt.axvline(0.5)\n",
    "plt.axhline(0.5)\n",
    "# plt.legend()\n",
    "plt.show()"
   ]
  },
  {
   "cell_type": "code",
   "execution_count": 117,
   "metadata": {},
   "outputs": [],
   "source": [
    "ahead_redemption=data[np.abs(0.5-data.mean(axis=1))<0.2]"
   ]
  },
  {
   "cell_type": "code",
   "execution_count": 118,
   "metadata": {},
   "outputs": [
    {
     "data": {
      "text/html": [
       "<div>\n",
       "<style scoped>\n",
       "    .dataframe tbody tr th:only-of-type {\n",
       "        vertical-align: middle;\n",
       "    }\n",
       "\n",
       "    .dataframe tbody tr th {\n",
       "        vertical-align: top;\n",
       "    }\n",
       "\n",
       "    .dataframe thead th {\n",
       "        text-align: right;\n",
       "    }\n",
       "</style>\n",
       "<table border=\"1\" class=\"dataframe\">\n",
       "  <thead>\n",
       "    <tr style=\"text-align: right;\">\n",
       "      <th></th>\n",
       "      <th>0</th>\n",
       "      <th>1</th>\n",
       "      <th>2</th>\n",
       "      <th>3</th>\n",
       "      <th>4</th>\n",
       "    </tr>\n",
       "  </thead>\n",
       "  <tbody>\n",
       "    <tr>\n",
       "      <th>0</th>\n",
       "      <td>1.000000</td>\n",
       "      <td>0.571526</td>\n",
       "      <td>0.729507</td>\n",
       "      <td>0.784623</td>\n",
       "      <td>0.701777</td>\n",
       "    </tr>\n",
       "    <tr>\n",
       "      <th>1</th>\n",
       "      <td>0.571526</td>\n",
       "      <td>1.000000</td>\n",
       "      <td>0.638491</td>\n",
       "      <td>0.681923</td>\n",
       "      <td>0.525610</td>\n",
       "    </tr>\n",
       "    <tr>\n",
       "      <th>2</th>\n",
       "      <td>0.729507</td>\n",
       "      <td>0.638491</td>\n",
       "      <td>1.000000</td>\n",
       "      <td>0.798214</td>\n",
       "      <td>0.680376</td>\n",
       "    </tr>\n",
       "    <tr>\n",
       "      <th>3</th>\n",
       "      <td>0.784623</td>\n",
       "      <td>0.681923</td>\n",
       "      <td>0.798214</td>\n",
       "      <td>1.000000</td>\n",
       "      <td>0.750732</td>\n",
       "    </tr>\n",
       "    <tr>\n",
       "      <th>4</th>\n",
       "      <td>0.701777</td>\n",
       "      <td>0.525610</td>\n",
       "      <td>0.680376</td>\n",
       "      <td>0.750732</td>\n",
       "      <td>1.000000</td>\n",
       "    </tr>\n",
       "  </tbody>\n",
       "</table>\n",
       "</div>"
      ],
      "text/plain": [
       "          0         1         2         3         4\n",
       "0  1.000000  0.571526  0.729507  0.784623  0.701777\n",
       "1  0.571526  1.000000  0.638491  0.681923  0.525610\n",
       "2  0.729507  0.638491  1.000000  0.798214  0.680376\n",
       "3  0.784623  0.681923  0.798214  1.000000  0.750732\n",
       "4  0.701777  0.525610  0.680376  0.750732  1.000000"
      ]
     },
     "execution_count": 118,
     "metadata": {},
     "output_type": "execute_result"
    }
   ],
   "source": [
    "ahead_redemption.corr() # this is the part what matters - much weaker correlations!"
   ]
  },
  {
   "cell_type": "code",
   "execution_count": 125,
   "metadata": {},
   "outputs": [],
   "source": [
    "tiger_data=data.loc[test_tiger_names,:]\n",
    "other_data=data.loc[test_other_names,:]"
   ]
  },
  {
   "cell_type": "code",
   "execution_count": 130,
   "metadata": {},
   "outputs": [],
   "source": [
    "id1=3\n",
    "id2=1"
   ]
  },
  {
   "cell_type": "code",
   "execution_count": 131,
   "metadata": {},
   "outputs": [
    {
     "data": {
      "text/plain": [
       "<matplotlib.legend.Legend at 0x7f04de77d610>"
      ]
     },
     "execution_count": 131,
     "metadata": {},
     "output_type": "execute_result"
    },
    {
     "data": {
      "image/png": "[encoded data removed]",
      "text/plain": [
       "<Figure size 432x288 with 1 Axes>"
      ]
     },
     "metadata": {
      "needs_background": "light"
     },
     "output_type": "display_data"
    }
   ],
   "source": [
    "plt.figure()\n",
    "plt.scatter(tiger_data[np.abs(0.5-tiger_data.mean(axis=1))<0.2][id1],\n",
    "           tiger_data[np.abs(0.5-tiger_data.mean(axis=1))<0.2][id2],label='tiger')\n",
    "plt.scatter(other_data[np.abs(0.5-other_data.mean(axis=1))<0.2][id1],\n",
    "           other_data[np.abs(0.5-other_data.mean(axis=1))<0.2][id2],label='other')\n",
    "plt.legend()"
   ]
  },
  {
   "cell_type": "code",
   "execution_count": null,
   "metadata": {},
   "outputs": [],
   "source": []
  }
 ],
 "metadata": {
  "accelerator": "GPU",
  "colab": {
   "authorship_tag": "ABX9TyM9C6rzQ6UqTX1ROzv366U3",
   "collapsed_sections": [],
   "include_colab_link": true,
   "mount_file_id": "1IvBk--BwvvRi5mDSTYHS2iE0uS4C-UR1",
   "name": "APRO_baseline.ipynb",
   "provenance": []
  },
  "kernelspec": {
   "display_name": "Python 3",
   "language": "python",
   "name": "python3"
  },
  "language_info": {
   "codemirror_mode": {
    "name": "ipython",
    "version": 3
   },
   "file_extension": ".py",
   "mimetype": "text/x-python",
   "name": "python",
   "nbconvert_exporter": "python",
   "pygments_lexer": "ipython3",
   "version": "3.8.5"
  }
 },
 "nbformat": 4,
 "nbformat_minor": 1
}
